{
 "metadata": {
  "language_info": {
   "codemirror_mode": {
    "name": "ipython",
    "version": 3
   },
   "file_extension": ".py",
   "mimetype": "text/x-python",
   "name": "python",
   "nbconvert_exporter": "python",
   "pygments_lexer": "ipython3",
   "version": "3.9.0-final"
  },
  "orig_nbformat": 2,
  "kernelspec": {
   "name": "libnlp",
   "display_name": "Lib NLP Project",
   "language": "python"
  }
 },
 "nbformat": 4,
 "nbformat_minor": 2,
 "cells": [
  {
   "cell_type": "code",
   "execution_count": 1,
   "metadata": {},
   "outputs": [],
   "source": [
    "from datetime import date\n",
    "import pandas as pd\n",
    "import re\n",
    "import requests"
   ]
  },
  {
   "source": [
    "## Pull data from the Drupal workshops API"
   ],
   "cell_type": "markdown",
   "metadata": {}
  },
  {
   "cell_type": "code",
   "execution_count": 2,
   "metadata": {},
   "outputs": [],
   "source": [
    "# As of Feb 4, 2021, the endpoint returns workshop data from the last two years - ~1300 nodes\n",
    "url = \"https://www.lib.ncsu.edu/api/workshops/all\""
   ]
  },
  {
   "cell_type": "code",
   "execution_count": 3,
   "metadata": {},
   "outputs": [
    {
     "output_type": "execute_result",
     "data": {
      "text/plain": [
       "<Response [200]>"
      ]
     },
     "metadata": {},
     "execution_count": 3
    }
   ],
   "source": [
    "r = requests.get(url)\n",
    "r"
   ]
  },
  {
   "cell_type": "code",
   "execution_count": 4,
   "metadata": {},
   "outputs": [],
   "source": [
    "data = r.json()"
   ]
  },
  {
   "cell_type": "code",
   "execution_count": 5,
   "metadata": {},
   "outputs": [
    {
     "output_type": "execute_result",
     "data": {
      "text/plain": [
       "{'title': 'D.H. Hill Makerspace Orientation ',\n",
       " 'nid': '53164',\n",
       " 'field_time_d8': '02-11-2019 10:30AM to 02-11-2019 11:30AM',\n",
       " 'body': 'Only currently affiliated NCSU students, faculty, and staff may attend and gain access to the Makerspace. An NCSU ID is required for this orientation.\\n\\xa0\\nThis orientation is required for anyone wanting to access the D. H. Hill Jr. Makerspace. It will provide a general introduction to the space, best practices and for its use, and importantly, an introduction to potential hazards, protective equipment, and other aspects of safe Makerspace use.\\n\\xa0\\nAfter this orientation, attendees will be given card access to use the Hill Makerspace during open hours.\\nWORKSHOP PRE-REQUISITESAttendees must be currently affiliated NCSU students, faculty, or staff, and must present a current NCSU ID (Wolfpack One Card).\\xa0',\n",
       " 'field_registration_url': '<a href=\"https://reporter.ncsu.edu/link/instanceview?courseID=LIB-MAKER-ONBOARD&amp;deptName=LIB&amp;instanceID=000039\">https://reporter.ncsu.edu/link/instanceview?courseID=LIB-MAKER-ONBOARD&amp;deptName…</a>',\n",
       " 'field_non_library_instructor': '',\n",
       " 'field_workshop_leads_export': [{'id': '1540',\n",
       "   'url': 'https://www.lib.ncsu.edu/staff/jmhaynes',\n",
       "   'department': ['<article id=\"node-45472\"  role=\"article\">\\n    \\n    <h1>Learning Spaces &amp; Services</h1>\\n        <h2 class=\"node-title\">\\n        <a href=\"/department/learning-spaces-services\" rel=\"bookmark\"><span class=\"field-wrapper\">Learning Spaces &amp; Services</span>\\n</a>\\n    </h2>\\n        \\n\\n    <div class=\"view-mode-default\">\\n        \\n        \\n    </div>\\n\\n</article>\\n<script type=\"application/ld+json\">{    \"@context\": \"http://schema.org\",    \"@type\": \"WebPage\",    \"name\": \"Learning Spaces & Services\",    \"description\": \"\",    \"publisher\": {        \"@type\": \"CollegeOrUniversity\",        \"name\": \"NC State University Libraries\"    }}</script>\\n'],\n",
       "   'display_pronouns': 'On',\n",
       "   'email_address': 'jmhaynes@ncsu.edu',\n",
       "   'firstname': 'Justin',\n",
       "   'green_zone_ally': 'Off',\n",
       "   'i_can_help_you_with': ['<a href=\"https://www.lib.ncsu.edu/services/makerspace\">Our Makerspace Program</a>',\n",
       "    '<a href=\"https://www.lib.ncsu.edu/do/3d-printing\">3D Printing</a>',\n",
       "    '<a href=\"https://www.lib.ncsu.edu/do/cutting-milling\">Laser Cutting</a>'],\n",
       "   'lastname': 'Haynes',\n",
       "   'library_fellow': 'Off',\n",
       "   'pronouns': 'He, Him, His',\n",
       "   'request_technology_consult': 'Yes',\n",
       "   'safe_ally': 'Off',\n",
       "   'show_orcid_': 'No',\n",
       "   'show_recent_works_form_cit': 'No',\n",
       "   'staff_phone_number': '(919) 515-0794',\n",
       "   'staff_position': '<a href=\"/category/staff-position-c\" hreflang=\"en\">Staff, SHRA</a>',\n",
       "   'title': 'University Library Technician',\n",
       "   'user_activity': ['<a href=\"/do/electronics\" hreflang=\"en\">Electronics</a>',\n",
       "    '<a href=\"/do/3d-printing\" hreflang=\"en\">3D Printing</a>',\n",
       "    '<a href=\"/do/cutting-milling\" hreflang=\"en\">Cutting &amp; Milling</a>',\n",
       "    '<a href=\"/do/textiles\" hreflang=\"en\">Textiles</a>',\n",
       "    '<a href=\"/do/make-at-hill\" hreflang=\"en\">Make at Hill</a>']}],\n",
       " 'field_workshop_series': 'Makerspace',\n",
       " 'field_workshop_user_activities': 'Make at Hill',\n",
       " 'field_non_libraries_space_1': '',\n",
       " 'field_space': '<a href=\"/spaces/hill-library-makerspace\" hreflang=\"und\">Hill Library Makerspace</a>'}"
      ]
     },
     "metadata": {},
     "execution_count": 5
    }
   ],
   "source": [
    "data[0]"
   ]
  },
  {
   "cell_type": "code",
   "execution_count": 6,
   "metadata": {},
   "outputs": [
    {
     "output_type": "execute_result",
     "data": {
      "text/plain": [
       "                                               title    nid  \\\n",
       "0                  D.H. Hill Makerspace Orientation   53164   \n",
       "1  MATLAByrinth Part 3: Algebra, Calculus and Plo...  52882   \n",
       "2  Orientation: Digital Media Making in the Libra...  53191   \n",
       "3  Orientation: Digital Media Making in the Libra...  53184   \n",
       "4                                    The Escape Room  53245   \n",
       "\n",
       "                              field_time_d8  \\\n",
       "0  02-11-2019 10:30AM to 02-11-2019 11:30AM   \n",
       "1    02-11-2019 2:00PM to 02-11-2019 4:00PM   \n",
       "2    02-11-2019 4:30PM to 02-11-2019 5:00PM   \n",
       "3    02-11-2019 4:30PM to 02-11-2019 5:00PM   \n",
       "4    02-11-2019 5:30PM to 02-11-2019 6:30PM   \n",
       "\n",
       "                                                body  \\\n",
       "0  Only currently affiliated NCSU students, facul...   \n",
       "1  MATLAByrinth, is a series of four comprehensiv...   \n",
       "2  Excited to make videos and movies, record podc...   \n",
       "3  Excited to make videos and movies, record podc...   \n",
       "4  Experience the NCSU Libraries Escape Room, an ...   \n",
       "\n",
       "                              field_registration_url  \\\n",
       "0  <a href=\"https://reporter.ncsu.edu/link/instan...   \n",
       "1  <a href=\"https://reporter.ncsu.edu/link/instan...   \n",
       "2  <a href=\"https://reporter.ncsu.edu/link/instan...   \n",
       "3  <a href=\"https://reporter.ncsu.edu/link/instan...   \n",
       "4  <a href=\"https://reporter.ncsu.edu/link/instan...   \n",
       "\n",
       "            field_non_library_instructor  \\\n",
       "0                                          \n",
       "1  \\nAmrutha Raghu, AmruthaRaghu.jpg\\n\\n   \n",
       "2                                          \n",
       "3                                          \n",
       "4                   \\nTaylor Rowland\\n\\n   \n",
       "\n",
       "                         field_workshop_leads_export field_workshop_series  \\\n",
       "0  [{'id': '1540', 'url': 'https://www.lib.ncsu.e...            Makerspace   \n",
       "1                                                 []                         \n",
       "2                                                 []         Digital Media   \n",
       "3                                                 []         Digital Media   \n",
       "4                                                 []                         \n",
       "\n",
       "  field_workshop_user_activities field_non_libraries_space_1  \\\n",
       "0                   Make at Hill                               \n",
       "1                                                              \n",
       "2                                                              \n",
       "3                                                              \n",
       "4                                                              \n",
       "\n",
       "                                         field_space  \n",
       "0  <a href=\"/spaces/hill-library-makerspace\" href...  \n",
       "1  <a href=\"/spaces/teaching-and-visualization-la...  \n",
       "2  <a href=\"/spaces/digital-media-lab\" hreflang=\"...  \n",
       "3  <a href=\"/spaces/4k-video-studio\" hreflang=\"un...  \n",
       "4  <a href=\"/spaces/escape-room\" hreflang=\"und\">E...  "
      ],
      "text/html": "<div>\n<style scoped>\n    .dataframe tbody tr th:only-of-type {\n        vertical-align: middle;\n    }\n\n    .dataframe tbody tr th {\n        vertical-align: top;\n    }\n\n    .dataframe thead th {\n        text-align: right;\n    }\n</style>\n<table border=\"1\" class=\"dataframe\">\n  <thead>\n    <tr style=\"text-align: right;\">\n      <th></th>\n      <th>title</th>\n      <th>nid</th>\n      <th>field_time_d8</th>\n      <th>body</th>\n      <th>field_registration_url</th>\n      <th>field_non_library_instructor</th>\n      <th>field_workshop_leads_export</th>\n      <th>field_workshop_series</th>\n      <th>field_workshop_user_activities</th>\n      <th>field_non_libraries_space_1</th>\n      <th>field_space</th>\n    </tr>\n  </thead>\n  <tbody>\n    <tr>\n      <th>0</th>\n      <td>D.H. Hill Makerspace Orientation</td>\n      <td>53164</td>\n      <td>02-11-2019 10:30AM to 02-11-2019 11:30AM</td>\n      <td>Only currently affiliated NCSU students, facul...</td>\n      <td>&lt;a href=\"https://reporter.ncsu.edu/link/instan...</td>\n      <td></td>\n      <td>[{'id': '1540', 'url': 'https://www.lib.ncsu.e...</td>\n      <td>Makerspace</td>\n      <td>Make at Hill</td>\n      <td></td>\n      <td>&lt;a href=\"/spaces/hill-library-makerspace\" href...</td>\n    </tr>\n    <tr>\n      <th>1</th>\n      <td>MATLAByrinth Part 3: Algebra, Calculus and Plo...</td>\n      <td>52882</td>\n      <td>02-11-2019 2:00PM to 02-11-2019 4:00PM</td>\n      <td>MATLAByrinth, is a series of four comprehensiv...</td>\n      <td>&lt;a href=\"https://reporter.ncsu.edu/link/instan...</td>\n      <td>\\nAmrutha Raghu, AmruthaRaghu.jpg\\n\\n</td>\n      <td>[]</td>\n      <td></td>\n      <td></td>\n      <td></td>\n      <td>&lt;a href=\"/spaces/teaching-and-visualization-la...</td>\n    </tr>\n    <tr>\n      <th>2</th>\n      <td>Orientation: Digital Media Making in the Libra...</td>\n      <td>53191</td>\n      <td>02-11-2019 4:30PM to 02-11-2019 5:00PM</td>\n      <td>Excited to make videos and movies, record podc...</td>\n      <td>&lt;a href=\"https://reporter.ncsu.edu/link/instan...</td>\n      <td></td>\n      <td>[]</td>\n      <td>Digital Media</td>\n      <td></td>\n      <td></td>\n      <td>&lt;a href=\"/spaces/digital-media-lab\" hreflang=\"...</td>\n    </tr>\n    <tr>\n      <th>3</th>\n      <td>Orientation: Digital Media Making in the Libra...</td>\n      <td>53184</td>\n      <td>02-11-2019 4:30PM to 02-11-2019 5:00PM</td>\n      <td>Excited to make videos and movies, record podc...</td>\n      <td>&lt;a href=\"https://reporter.ncsu.edu/link/instan...</td>\n      <td></td>\n      <td>[]</td>\n      <td>Digital Media</td>\n      <td></td>\n      <td></td>\n      <td>&lt;a href=\"/spaces/4k-video-studio\" hreflang=\"un...</td>\n    </tr>\n    <tr>\n      <th>4</th>\n      <td>The Escape Room</td>\n      <td>53245</td>\n      <td>02-11-2019 5:30PM to 02-11-2019 6:30PM</td>\n      <td>Experience the NCSU Libraries Escape Room, an ...</td>\n      <td>&lt;a href=\"https://reporter.ncsu.edu/link/instan...</td>\n      <td>\\nTaylor Rowland\\n\\n</td>\n      <td>[]</td>\n      <td></td>\n      <td></td>\n      <td></td>\n      <td>&lt;a href=\"/spaces/escape-room\" hreflang=\"und\"&gt;E...</td>\n    </tr>\n  </tbody>\n</table>\n</div>"
     },
     "metadata": {},
     "execution_count": 6
    }
   ],
   "source": [
    "df = pd.DataFrame(data)\n",
    "df.head()"
   ]
  },
  {
   "source": [
    "Strip white spaces from the `field_non_library_instructor` column. "
   ],
   "cell_type": "markdown",
   "metadata": {}
  },
  {
   "cell_type": "code",
   "execution_count": 7,
   "metadata": {},
   "outputs": [
    {
     "output_type": "execute_result",
     "data": {
      "text/plain": [
       "                                               title    nid  \\\n",
       "0                  D.H. Hill Makerspace Orientation   53164   \n",
       "1  MATLAByrinth Part 3: Algebra, Calculus and Plo...  52882   \n",
       "2  Orientation: Digital Media Making in the Libra...  53191   \n",
       "3  Orientation: Digital Media Making in the Libra...  53184   \n",
       "4                                    The Escape Room  53245   \n",
       "\n",
       "                              field_time_d8  \\\n",
       "0  02-11-2019 10:30AM to 02-11-2019 11:30AM   \n",
       "1    02-11-2019 2:00PM to 02-11-2019 4:00PM   \n",
       "2    02-11-2019 4:30PM to 02-11-2019 5:00PM   \n",
       "3    02-11-2019 4:30PM to 02-11-2019 5:00PM   \n",
       "4    02-11-2019 5:30PM to 02-11-2019 6:30PM   \n",
       "\n",
       "                                                body  \\\n",
       "0  Only currently affiliated NCSU students, facul...   \n",
       "1  MATLAByrinth, is a series of four comprehensiv...   \n",
       "2  Excited to make videos and movies, record podc...   \n",
       "3  Excited to make videos and movies, record podc...   \n",
       "4  Experience the NCSU Libraries Escape Room, an ...   \n",
       "\n",
       "                              field_registration_url  \\\n",
       "0  <a href=\"https://reporter.ncsu.edu/link/instan...   \n",
       "1  <a href=\"https://reporter.ncsu.edu/link/instan...   \n",
       "2  <a href=\"https://reporter.ncsu.edu/link/instan...   \n",
       "3  <a href=\"https://reporter.ncsu.edu/link/instan...   \n",
       "4  <a href=\"https://reporter.ncsu.edu/link/instan...   \n",
       "\n",
       "      field_non_library_instructor  \\\n",
       "0                                    \n",
       "1  Amrutha Raghu, AmruthaRaghu.jpg   \n",
       "2                                    \n",
       "3                                    \n",
       "4                   Taylor Rowland   \n",
       "\n",
       "                         field_workshop_leads_export field_workshop_series  \\\n",
       "0  [{'id': '1540', 'url': 'https://www.lib.ncsu.e...            Makerspace   \n",
       "1                                                 []                         \n",
       "2                                                 []         Digital Media   \n",
       "3                                                 []         Digital Media   \n",
       "4                                                 []                         \n",
       "\n",
       "  field_workshop_user_activities field_non_libraries_space_1  \\\n",
       "0                   Make at Hill                               \n",
       "1                                                              \n",
       "2                                                              \n",
       "3                                                              \n",
       "4                                                              \n",
       "\n",
       "                                         field_space  \n",
       "0  <a href=\"/spaces/hill-library-makerspace\" href...  \n",
       "1  <a href=\"/spaces/teaching-and-visualization-la...  \n",
       "2  <a href=\"/spaces/digital-media-lab\" hreflang=\"...  \n",
       "3  <a href=\"/spaces/4k-video-studio\" hreflang=\"un...  \n",
       "4  <a href=\"/spaces/escape-room\" hreflang=\"und\">E...  "
      ],
      "text/html": "<div>\n<style scoped>\n    .dataframe tbody tr th:only-of-type {\n        vertical-align: middle;\n    }\n\n    .dataframe tbody tr th {\n        vertical-align: top;\n    }\n\n    .dataframe thead th {\n        text-align: right;\n    }\n</style>\n<table border=\"1\" class=\"dataframe\">\n  <thead>\n    <tr style=\"text-align: right;\">\n      <th></th>\n      <th>title</th>\n      <th>nid</th>\n      <th>field_time_d8</th>\n      <th>body</th>\n      <th>field_registration_url</th>\n      <th>field_non_library_instructor</th>\n      <th>field_workshop_leads_export</th>\n      <th>field_workshop_series</th>\n      <th>field_workshop_user_activities</th>\n      <th>field_non_libraries_space_1</th>\n      <th>field_space</th>\n    </tr>\n  </thead>\n  <tbody>\n    <tr>\n      <th>0</th>\n      <td>D.H. Hill Makerspace Orientation</td>\n      <td>53164</td>\n      <td>02-11-2019 10:30AM to 02-11-2019 11:30AM</td>\n      <td>Only currently affiliated NCSU students, facul...</td>\n      <td>&lt;a href=\"https://reporter.ncsu.edu/link/instan...</td>\n      <td></td>\n      <td>[{'id': '1540', 'url': 'https://www.lib.ncsu.e...</td>\n      <td>Makerspace</td>\n      <td>Make at Hill</td>\n      <td></td>\n      <td>&lt;a href=\"/spaces/hill-library-makerspace\" href...</td>\n    </tr>\n    <tr>\n      <th>1</th>\n      <td>MATLAByrinth Part 3: Algebra, Calculus and Plo...</td>\n      <td>52882</td>\n      <td>02-11-2019 2:00PM to 02-11-2019 4:00PM</td>\n      <td>MATLAByrinth, is a series of four comprehensiv...</td>\n      <td>&lt;a href=\"https://reporter.ncsu.edu/link/instan...</td>\n      <td>Amrutha Raghu, AmruthaRaghu.jpg</td>\n      <td>[]</td>\n      <td></td>\n      <td></td>\n      <td></td>\n      <td>&lt;a href=\"/spaces/teaching-and-visualization-la...</td>\n    </tr>\n    <tr>\n      <th>2</th>\n      <td>Orientation: Digital Media Making in the Libra...</td>\n      <td>53191</td>\n      <td>02-11-2019 4:30PM to 02-11-2019 5:00PM</td>\n      <td>Excited to make videos and movies, record podc...</td>\n      <td>&lt;a href=\"https://reporter.ncsu.edu/link/instan...</td>\n      <td></td>\n      <td>[]</td>\n      <td>Digital Media</td>\n      <td></td>\n      <td></td>\n      <td>&lt;a href=\"/spaces/digital-media-lab\" hreflang=\"...</td>\n    </tr>\n    <tr>\n      <th>3</th>\n      <td>Orientation: Digital Media Making in the Libra...</td>\n      <td>53184</td>\n      <td>02-11-2019 4:30PM to 02-11-2019 5:00PM</td>\n      <td>Excited to make videos and movies, record podc...</td>\n      <td>&lt;a href=\"https://reporter.ncsu.edu/link/instan...</td>\n      <td></td>\n      <td>[]</td>\n      <td>Digital Media</td>\n      <td></td>\n      <td></td>\n      <td>&lt;a href=\"/spaces/4k-video-studio\" hreflang=\"un...</td>\n    </tr>\n    <tr>\n      <th>4</th>\n      <td>The Escape Room</td>\n      <td>53245</td>\n      <td>02-11-2019 5:30PM to 02-11-2019 6:30PM</td>\n      <td>Experience the NCSU Libraries Escape Room, an ...</td>\n      <td>&lt;a href=\"https://reporter.ncsu.edu/link/instan...</td>\n      <td>Taylor Rowland</td>\n      <td>[]</td>\n      <td></td>\n      <td></td>\n      <td></td>\n      <td>&lt;a href=\"/spaces/escape-room\" hreflang=\"und\"&gt;E...</td>\n    </tr>\n  </tbody>\n</table>\n</div>"
     },
     "metadata": {},
     "execution_count": 7
    }
   ],
   "source": [
    "df[\"field_non_library_instructor\"] = df[\"field_non_library_instructor\"].str.strip()\n",
    "df.head()"
   ]
  },
  {
   "source": [
    "Remove HTML tags from `body`. "
   ],
   "cell_type": "markdown",
   "metadata": {}
  },
  {
   "cell_type": "code",
   "execution_count": 8,
   "metadata": {},
   "outputs": [],
   "source": [
    "def strip_html_tags(text: str) -> str:\n",
    "    tag = re.compile(\"<.*?>\")\n",
    "    return re.sub(tag, \"\", text)"
   ]
  },
  {
   "cell_type": "code",
   "execution_count": 9,
   "metadata": {},
   "outputs": [
    {
     "output_type": "execute_result",
     "data": {
      "text/plain": [
       "                                               title    nid  \\\n",
       "0                  D.H. Hill Makerspace Orientation   53164   \n",
       "1  MATLAByrinth Part 3: Algebra, Calculus and Plo...  52882   \n",
       "2  Orientation: Digital Media Making in the Libra...  53191   \n",
       "3  Orientation: Digital Media Making in the Libra...  53184   \n",
       "4                                    The Escape Room  53245   \n",
       "\n",
       "                              field_time_d8  \\\n",
       "0  02-11-2019 10:30AM to 02-11-2019 11:30AM   \n",
       "1    02-11-2019 2:00PM to 02-11-2019 4:00PM   \n",
       "2    02-11-2019 4:30PM to 02-11-2019 5:00PM   \n",
       "3    02-11-2019 4:30PM to 02-11-2019 5:00PM   \n",
       "4    02-11-2019 5:30PM to 02-11-2019 6:30PM   \n",
       "\n",
       "                                                body  \\\n",
       "0  Only currently affiliated NCSU students, facul...   \n",
       "1  MATLAByrinth, is a series of four comprehensiv...   \n",
       "2  Excited to make videos and movies, record podc...   \n",
       "3  Excited to make videos and movies, record podc...   \n",
       "4  Experience the NCSU Libraries Escape Room, an ...   \n",
       "\n",
       "                              field_registration_url  \\\n",
       "0  <a href=\"https://reporter.ncsu.edu/link/instan...   \n",
       "1  <a href=\"https://reporter.ncsu.edu/link/instan...   \n",
       "2  <a href=\"https://reporter.ncsu.edu/link/instan...   \n",
       "3  <a href=\"https://reporter.ncsu.edu/link/instan...   \n",
       "4  <a href=\"https://reporter.ncsu.edu/link/instan...   \n",
       "\n",
       "      field_non_library_instructor  \\\n",
       "0                                    \n",
       "1  Amrutha Raghu, AmruthaRaghu.jpg   \n",
       "2                                    \n",
       "3                                    \n",
       "4                   Taylor Rowland   \n",
       "\n",
       "                         field_workshop_leads_export field_workshop_series  \\\n",
       "0  [{'id': '1540', 'url': 'https://www.lib.ncsu.e...            Makerspace   \n",
       "1                                                 []                         \n",
       "2                                                 []         Digital Media   \n",
       "3                                                 []         Digital Media   \n",
       "4                                                 []                         \n",
       "\n",
       "  field_workshop_user_activities field_non_libraries_space_1  \\\n",
       "0                   Make at Hill                               \n",
       "1                                                              \n",
       "2                                                              \n",
       "3                                                              \n",
       "4                                                              \n",
       "\n",
       "                                         field_space  \n",
       "0  <a href=\"/spaces/hill-library-makerspace\" href...  \n",
       "1  <a href=\"/spaces/teaching-and-visualization-la...  \n",
       "2  <a href=\"/spaces/digital-media-lab\" hreflang=\"...  \n",
       "3  <a href=\"/spaces/4k-video-studio\" hreflang=\"un...  \n",
       "4  <a href=\"/spaces/escape-room\" hreflang=\"und\">E...  "
      ],
      "text/html": "<div>\n<style scoped>\n    .dataframe tbody tr th:only-of-type {\n        vertical-align: middle;\n    }\n\n    .dataframe tbody tr th {\n        vertical-align: top;\n    }\n\n    .dataframe thead th {\n        text-align: right;\n    }\n</style>\n<table border=\"1\" class=\"dataframe\">\n  <thead>\n    <tr style=\"text-align: right;\">\n      <th></th>\n      <th>title</th>\n      <th>nid</th>\n      <th>field_time_d8</th>\n      <th>body</th>\n      <th>field_registration_url</th>\n      <th>field_non_library_instructor</th>\n      <th>field_workshop_leads_export</th>\n      <th>field_workshop_series</th>\n      <th>field_workshop_user_activities</th>\n      <th>field_non_libraries_space_1</th>\n      <th>field_space</th>\n    </tr>\n  </thead>\n  <tbody>\n    <tr>\n      <th>0</th>\n      <td>D.H. Hill Makerspace Orientation</td>\n      <td>53164</td>\n      <td>02-11-2019 10:30AM to 02-11-2019 11:30AM</td>\n      <td>Only currently affiliated NCSU students, facul...</td>\n      <td>&lt;a href=\"https://reporter.ncsu.edu/link/instan...</td>\n      <td></td>\n      <td>[{'id': '1540', 'url': 'https://www.lib.ncsu.e...</td>\n      <td>Makerspace</td>\n      <td>Make at Hill</td>\n      <td></td>\n      <td>&lt;a href=\"/spaces/hill-library-makerspace\" href...</td>\n    </tr>\n    <tr>\n      <th>1</th>\n      <td>MATLAByrinth Part 3: Algebra, Calculus and Plo...</td>\n      <td>52882</td>\n      <td>02-11-2019 2:00PM to 02-11-2019 4:00PM</td>\n      <td>MATLAByrinth, is a series of four comprehensiv...</td>\n      <td>&lt;a href=\"https://reporter.ncsu.edu/link/instan...</td>\n      <td>Amrutha Raghu, AmruthaRaghu.jpg</td>\n      <td>[]</td>\n      <td></td>\n      <td></td>\n      <td></td>\n      <td>&lt;a href=\"/spaces/teaching-and-visualization-la...</td>\n    </tr>\n    <tr>\n      <th>2</th>\n      <td>Orientation: Digital Media Making in the Libra...</td>\n      <td>53191</td>\n      <td>02-11-2019 4:30PM to 02-11-2019 5:00PM</td>\n      <td>Excited to make videos and movies, record podc...</td>\n      <td>&lt;a href=\"https://reporter.ncsu.edu/link/instan...</td>\n      <td></td>\n      <td>[]</td>\n      <td>Digital Media</td>\n      <td></td>\n      <td></td>\n      <td>&lt;a href=\"/spaces/digital-media-lab\" hreflang=\"...</td>\n    </tr>\n    <tr>\n      <th>3</th>\n      <td>Orientation: Digital Media Making in the Libra...</td>\n      <td>53184</td>\n      <td>02-11-2019 4:30PM to 02-11-2019 5:00PM</td>\n      <td>Excited to make videos and movies, record podc...</td>\n      <td>&lt;a href=\"https://reporter.ncsu.edu/link/instan...</td>\n      <td></td>\n      <td>[]</td>\n      <td>Digital Media</td>\n      <td></td>\n      <td></td>\n      <td>&lt;a href=\"/spaces/4k-video-studio\" hreflang=\"un...</td>\n    </tr>\n    <tr>\n      <th>4</th>\n      <td>The Escape Room</td>\n      <td>53245</td>\n      <td>02-11-2019 5:30PM to 02-11-2019 6:30PM</td>\n      <td>Experience the NCSU Libraries Escape Room, an ...</td>\n      <td>&lt;a href=\"https://reporter.ncsu.edu/link/instan...</td>\n      <td>Taylor Rowland</td>\n      <td>[]</td>\n      <td></td>\n      <td></td>\n      <td></td>\n      <td>&lt;a href=\"/spaces/escape-room\" hreflang=\"und\"&gt;E...</td>\n    </tr>\n  </tbody>\n</table>\n</div>"
     },
     "metadata": {},
     "execution_count": 9
    }
   ],
   "source": [
    "df[\"body\"] = df[\"body\"].apply(strip_html_tags)\n",
    "df.head()"
   ]
  },
  {
   "source": [
    "Write to csv, with date."
   ],
   "cell_type": "markdown",
   "metadata": {}
  },
  {
   "cell_type": "code",
   "execution_count": 10,
   "metadata": {},
   "outputs": [],
   "source": [
    "df.to_csv(f\"all-workshops-{date.today()}.csv\")"
   ]
  },
  {
   "cell_type": "code",
   "execution_count": null,
   "metadata": {},
   "outputs": [],
   "source": []
  }
 ]
}