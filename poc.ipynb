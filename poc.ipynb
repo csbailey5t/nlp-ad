{
 "cells": [
  {
   "cell_type": "code",
   "execution_count": 1,
   "metadata": {},
   "outputs": [],
   "source": [
    "from datetime import date\n",
    "import pandas as pd\n",
    "import re\n",
    "import requests"
   ]
  },
  {
   "cell_type": "markdown",
   "metadata": {},
   "source": [
    "## Pull data"
   ]
  },
  {
   "cell_type": "code",
   "execution_count": 2,
   "metadata": {},
   "outputs": [],
   "source": [
    "url = \"https://www.lib.ncsu.edu/api/workshops/all\""
   ]
  },
  {
   "cell_type": "code",
   "execution_count": 3,
   "metadata": {},
   "outputs": [
    {
     "data": {
      "text/plain": "<Response [200]>"
     },
     "execution_count": 3,
     "metadata": {},
     "output_type": "execute_result"
    }
   ],
   "source": [
    "r = requests.get(url)\n",
    "r"
   ]
  },
  {
   "cell_type": "code",
   "execution_count": 4,
   "metadata": {},
   "outputs": [],
   "source": [
    "data = r.json()"
   ]
  },
  {
   "cell_type": "code",
   "execution_count": 5,
   "metadata": {},
   "outputs": [
    {
     "data": {
      "text/plain": "{'title': 'IRB Basics: eIRB Application Workshop',\n 'nid': '57007',\n 'field_time_d8': '01-20-2021 10:00AM to 01-20-2021 1:00PM',\n 'body': '<p><span><span>This workshop provides an overview of how to write your eIRB application and is designed for first-time IRB application filers and NC State students who want to participate in the </span><a href=\"https://research.ncsu.edu/administration/compliance/research-compliance/irb/irb-for-researchers/priority-review-process/\">Priority Review Process</a><span> (PRP) program. Faculty and staff are welcome to attend this workshop provided that the prerequisites are completed; participation in the PRP program is, however, limited to students only at this time. All workshop attendees must complete the below online training, which has no cost to NC State University affiliates with valid Unity IDs and passwords. To access CITI training, please consult the </span><a href=\"https://drive.google.com/file/d/15On0UevTEaZz9cXk9pVPdSstZPFgjnbO/view\">CITI training tutorial</a><span>. Please submit proofs of training to </span><a href=\"mailto:irb-coordinator-ed@ncsu.edu\">irb-coordinator-ed@ncsu.edu</a><span> 48 business hours in advance to attend the workshop.</span></span></p>\\n\\n<ul><li>\\n\\t<p><span><span>One CITI HSR Basic course most appropriate to your area of research</span></span></p>\\n\\n\\t<ul><li>\\n\\t\\t<p><span><a href=\"https://about.citiprogram.org/en/course/biomedical-biomed-basic/\">Track 1: Biomedical researchers</a></span></p>\\n\\t\\t</li>\\n\\t\\t<li>\\n\\t\\t<p><span><a href=\"https://about.citiprogram.org/en/course/human-subjects-research-2/\">Track 2: Social-behavioral-educational researchers</a></span></p>\\n\\t\\t</li>\\n\\t\\t<li>\\n\\t\\t<p><span><span>Track 3: Biomedical data, biospecimens, and administrative data researchers (custom track, no link available)</span></span></p>\\n\\t\\t</li>\\n\\t</ul></li>\\n\\t<li>\\n\\t<p><span><span>CITI </span><a href=\"https://about.citiprogram.org/en/course/responsible-conduct-of-research-basic/\">Responsible Conduct of Research</a></span></p>\\n\\t</li>\\n\\t<li>\\n\\t<p><span><span>If appropriate to your research design OR your research is funded (state or federal), one of the following CITI GCP courses:</span></span></p>\\n\\n\\t<ul><li>\\n\\t\\t<p><span><a href=\"https://about.citiprogram.org/en/course/gcp-for-clinical-investigations-of-devices/\">Track 1: Working with Devices</a></span></p>\\n\\t\\t</li>\\n\\t\\t<li>\\n\\t\\t<p><span><a href=\"https://about.citiprogram.org/en/course/gcp-social-and-behavioral-research-best-practices-for-clinical-research/\">Track 2: When SBER Research is a Clinical Trial</a></span></p>\\n\\t\\t</li>\\n\\t</ul></li>\\n\\t<li>\\n\\t<p><span><span>If appropriate to your research design, modules from the </span><a href=\"https://about.citiprogram.org/en/course/technology-ethics-and-regulations/\">Technology, Ethics, and Regulations CITI course</a></span></p>\\n\\t</li>\\n\\t<li>\\n\\t<p><span><span>NCSU IRB Overview Video on </span><a href=\"https://reporter.ncsu.edu/\">REPORTER</a></span></p>\\n\\t</li>\\n</ul><p><span><span>You must provide proof of all of the above online training 48 business hours before the workshop to <a href=\"mailto:irb-coordinator-ed@ncsu.edu\">irb-coordinator-ed@ncsu.edu</a> in order to receive the meeting passcode to the Zoom meeting. </span></span></p>\\n\\n<p><span><span>Documents for the workshop:</span></span></p>\\n\\n<ul><li><span><a href=\"https://research.ncsu.edu/administration/compliance/research-compliance/irb/irb-for-researchers/priority-review-process/\">PRP program page</a></span></li>\\n\\t<li><span><a href=\"https://drive.google.com/file/d/1sPOqEYw53TwakQy6CapaN7PNIhxSg1jh/view\">PRP Appendix A</a></span></li>\\n\\t<li><span><a href=\"https://drive.google.com/file/d/1y0CS6wCyqqYnQ1k-HxTYLxP7n09xdJ5F/view\">PRP Appendix B</a></span></li>\\n\\t<li><span><a href=\"https://drive.google.com/file/d/12PFCp9bvs_Su8_3tB6DfAKPBI1z3x6JQ/view\">PRP Appendix C</a></span></li>\\n\\t<li><span><a href=\"https://drive.google.com/file/d/1K9B5s_GZn62o-29Vqf-2i3Mxm3Nll-oW/view\">PRP Appendix D</a></span></li>\\n\\t<li><span><a href=\"https://drive.google.com/file/d/15On0UevTEaZz9cXk9pVPdSstZPFgjnbO/view\">CITI training tutorial</a></span></li>\\n\\t<li><span><a href=\"https://drive.google.com/file/d/1AHbN05kbdL9hEzySzIYI4QFU5ROn6xFt/view\">eIRB screenshot tutorial</a></span></li>\\n\\t<li><span><a href=\"https://research.ncsu.edu/administration/compliance/research-compliance/irb/irb-for-researchers/documentation-application/\">Documentation to submit with your IRB application</a><span> page</span></span></li>\\n\\t<li><span><a href=\"https://drive.google.com/file/d/16DNz5VsSOgbTYXLrzLezNiywVlIDYOj_/view\">What is Research and Needs IRB Approval</a></span></li>\\n\\t<li><span><a href=\"https://drive.google.com/file/d/1vvsicxdIqSOVkXHMlp1DpY1zeonf0471/view\">IRB Handbook</a></span></li>\\n\\t<li><span><a href=\"https://drive.google.com/file/d/1sWE8JuB5Ms3Kl_f4TEHJMymcAzdndMgZ/view\">Research with Humans During COVID-19</a></span></li>\\n</ul>',\n 'field_registration_url': '<a href=\"https://reporter.ncsu.edu/link/instanceview?courseID=LIB-RESRCH-IRBEAPPL&amp;deptName=LIB&amp;instanceID=000011\">https://reporter.ncsu.edu/link/instanceview?courseID=LIB-RESRCH-IRBEAPPL&amp;deptNa…</a>',\n 'field_non_library_instructor': '\\nYael Allen\\n\\n',\n 'field_workshop_leads_export': [],\n 'field_workshop_series': 'Research Strategy',\n 'field_workshop_user_activities': '',\n 'field_non_libraries_space_1': 'Online only',\n 'field_space': ''}"
     },
     "execution_count": 5,
     "metadata": {},
     "output_type": "execute_result"
    }
   ],
   "source": [
    "data[0]"
   ]
  },
  {
   "cell_type": "code",
   "execution_count": 6,
   "metadata": {},
   "outputs": [
    {
     "data": {
      "text/html": "<div>\n<style scoped>\n    .dataframe tbody tr th:only-of-type {\n        vertical-align: middle;\n    }\n\n    .dataframe tbody tr th {\n        vertical-align: top;\n    }\n\n    .dataframe thead th {\n        text-align: right;\n    }\n</style>\n<table border=\"1\" class=\"dataframe\">\n  <thead>\n    <tr style=\"text-align: right;\">\n      <th></th>\n      <th>title</th>\n      <th>nid</th>\n      <th>field_time_d8</th>\n      <th>body</th>\n      <th>field_registration_url</th>\n      <th>field_non_library_instructor</th>\n      <th>field_workshop_leads_export</th>\n      <th>field_workshop_series</th>\n      <th>field_workshop_user_activities</th>\n      <th>field_non_libraries_space_1</th>\n      <th>field_space</th>\n    </tr>\n  </thead>\n  <tbody>\n    <tr>\n      <th>0</th>\n      <td>IRB Basics: eIRB Application Workshop</td>\n      <td>57007</td>\n      <td>01-20-2021 10:00AM to 01-20-2021 1:00PM</td>\n      <td>&lt;p&gt;&lt;span&gt;&lt;span&gt;This workshop provides an overv...</td>\n      <td>&lt;a href=\"https://reporter.ncsu.edu/link/instan...</td>\n      <td>\\nYael Allen\\n\\n</td>\n      <td>[]</td>\n      <td>Research Strategy</td>\n      <td></td>\n      <td>Online only</td>\n      <td></td>\n    </tr>\n    <tr>\n      <th>1</th>\n      <td>Campus Conversations Project: Inauguration Day...</td>\n      <td>57129</td>\n      <td>01-20-2021 7:00PM to 01-20-2021 8:30PM</td>\n      <td>&lt;p&gt;Trained student volunteers from the &lt;a href...</td>\n      <td>&lt;a href=\"https://reporter.ncsu.edu/link/instan...</td>\n      <td>\\nMorgan DiCarlo\\n\\n</td>\n      <td>[{'id': '279', 'url': 'https://www.lib.ncsu.ed...</td>\n      <td></td>\n      <td></td>\n      <td>Online only</td>\n      <td></td>\n    </tr>\n    <tr>\n      <th>2</th>\n      <td>IRB Basics Part II: Handling Your Data and Ass...</td>\n      <td>57017</td>\n      <td>01-21-2021 1:00PM to 01-21-2021 4:00PM</td>\n      <td>&lt;p&gt;&lt;span&gt;This workshop builds upon the IRB Bas...</td>\n      <td>&lt;a href=\"https://reporter.ncsu.edu/link/instan...</td>\n      <td>\\nYael Allen\\n\\n</td>\n      <td>[]</td>\n      <td></td>\n      <td></td>\n      <td>Online only</td>\n      <td></td>\n    </tr>\n    <tr>\n      <th>3</th>\n      <td>IRB Topical Workshop: IRB Process and IT Profe...</td>\n      <td>57103</td>\n      <td>01-21-2021 3:00PM to 01-21-2021 5:00PM</td>\n      <td>&lt;p&gt;This session is specifically for IT profess...</td>\n      <td>&lt;a href=\"https://reporter.ncsu.edu/link/instan...</td>\n      <td></td>\n      <td>[]</td>\n      <td></td>\n      <td>Grants &amp;amp; Funding</td>\n      <td>Online only</td>\n      <td></td>\n    </tr>\n    <tr>\n      <th>4</th>\n      <td>IRB Topical Workshop: Using “Apps” and other S...</td>\n      <td>56995</td>\n      <td>01-25-2021 10:00AM to 01-25-2021 12:00PM</td>\n      <td>&lt;p&gt;This session will discuss the use of “off t...</td>\n      <td>&lt;a href=\"https://reporter.ncsu.edu/link/instan...</td>\n      <td></td>\n      <td>[]</td>\n      <td></td>\n      <td>Grants &amp;amp; Funding</td>\n      <td>Online only</td>\n      <td></td>\n    </tr>\n  </tbody>\n</table>\n</div>",
      "text/plain": "                                               title    nid  \\\n0              IRB Basics: eIRB Application Workshop  57007   \n1  Campus Conversations Project: Inauguration Day...  57129   \n2  IRB Basics Part II: Handling Your Data and Ass...  57017   \n3  IRB Topical Workshop: IRB Process and IT Profe...  57103   \n4  IRB Topical Workshop: Using “Apps” and other S...  56995   \n\n                              field_time_d8  \\\n0   01-20-2021 10:00AM to 01-20-2021 1:00PM   \n1    01-20-2021 7:00PM to 01-20-2021 8:30PM   \n2    01-21-2021 1:00PM to 01-21-2021 4:00PM   \n3    01-21-2021 3:00PM to 01-21-2021 5:00PM   \n4  01-25-2021 10:00AM to 01-25-2021 12:00PM   \n\n                                                body  \\\n0  <p><span><span>This workshop provides an overv...   \n1  <p>Trained student volunteers from the <a href...   \n2  <p><span>This workshop builds upon the IRB Bas...   \n3  <p>This session is specifically for IT profess...   \n4  <p>This session will discuss the use of “off t...   \n\n                              field_registration_url  \\\n0  <a href=\"https://reporter.ncsu.edu/link/instan...   \n1  <a href=\"https://reporter.ncsu.edu/link/instan...   \n2  <a href=\"https://reporter.ncsu.edu/link/instan...   \n3  <a href=\"https://reporter.ncsu.edu/link/instan...   \n4  <a href=\"https://reporter.ncsu.edu/link/instan...   \n\n  field_non_library_instructor  \\\n0             \\nYael Allen\\n\\n   \n1         \\nMorgan DiCarlo\\n\\n   \n2             \\nYael Allen\\n\\n   \n3                                \n4                                \n\n                         field_workshop_leads_export field_workshop_series  \\\n0                                                 []     Research Strategy   \n1  [{'id': '279', 'url': 'https://www.lib.ncsu.ed...                         \n2                                                 []                         \n3                                                 []                         \n4                                                 []                         \n\n  field_workshop_user_activities field_non_libraries_space_1 field_space  \n0                                                Online only              \n1                                                Online only              \n2                                                Online only              \n3           Grants &amp; Funding                 Online only              \n4           Grants &amp; Funding                 Online only              "
     },
     "execution_count": 6,
     "metadata": {},
     "output_type": "execute_result"
    }
   ],
   "source": [
    "df = pd.DataFrame(data)\n",
    "df.head()"
   ]
  },
  {
   "cell_type": "markdown",
   "metadata": {},
   "source": [
    "Strip white spaces from the `field_non_library_instructor` column. "
   ]
  },
  {
   "cell_type": "code",
   "execution_count": 7,
   "metadata": {},
   "outputs": [
    {
     "data": {
      "text/html": "<div>\n<style scoped>\n    .dataframe tbody tr th:only-of-type {\n        vertical-align: middle;\n    }\n\n    .dataframe tbody tr th {\n        vertical-align: top;\n    }\n\n    .dataframe thead th {\n        text-align: right;\n    }\n</style>\n<table border=\"1\" class=\"dataframe\">\n  <thead>\n    <tr style=\"text-align: right;\">\n      <th></th>\n      <th>title</th>\n      <th>nid</th>\n      <th>field_time_d8</th>\n      <th>body</th>\n      <th>field_registration_url</th>\n      <th>field_non_library_instructor</th>\n      <th>field_workshop_leads_export</th>\n      <th>field_workshop_series</th>\n      <th>field_workshop_user_activities</th>\n      <th>field_non_libraries_space_1</th>\n      <th>field_space</th>\n    </tr>\n  </thead>\n  <tbody>\n    <tr>\n      <th>0</th>\n      <td>IRB Basics: eIRB Application Workshop</td>\n      <td>57007</td>\n      <td>01-20-2021 10:00AM to 01-20-2021 1:00PM</td>\n      <td>&lt;p&gt;&lt;span&gt;&lt;span&gt;This workshop provides an overv...</td>\n      <td>&lt;a href=\"https://reporter.ncsu.edu/link/instan...</td>\n      <td>Yael Allen</td>\n      <td>[]</td>\n      <td>Research Strategy</td>\n      <td></td>\n      <td>Online only</td>\n      <td></td>\n    </tr>\n    <tr>\n      <th>1</th>\n      <td>Campus Conversations Project: Inauguration Day...</td>\n      <td>57129</td>\n      <td>01-20-2021 7:00PM to 01-20-2021 8:30PM</td>\n      <td>&lt;p&gt;Trained student volunteers from the &lt;a href...</td>\n      <td>&lt;a href=\"https://reporter.ncsu.edu/link/instan...</td>\n      <td>Morgan DiCarlo</td>\n      <td>[{'id': '279', 'url': 'https://www.lib.ncsu.ed...</td>\n      <td></td>\n      <td></td>\n      <td>Online only</td>\n      <td></td>\n    </tr>\n    <tr>\n      <th>2</th>\n      <td>IRB Basics Part II: Handling Your Data and Ass...</td>\n      <td>57017</td>\n      <td>01-21-2021 1:00PM to 01-21-2021 4:00PM</td>\n      <td>&lt;p&gt;&lt;span&gt;This workshop builds upon the IRB Bas...</td>\n      <td>&lt;a href=\"https://reporter.ncsu.edu/link/instan...</td>\n      <td>Yael Allen</td>\n      <td>[]</td>\n      <td></td>\n      <td></td>\n      <td>Online only</td>\n      <td></td>\n    </tr>\n    <tr>\n      <th>3</th>\n      <td>IRB Topical Workshop: IRB Process and IT Profe...</td>\n      <td>57103</td>\n      <td>01-21-2021 3:00PM to 01-21-2021 5:00PM</td>\n      <td>&lt;p&gt;This session is specifically for IT profess...</td>\n      <td>&lt;a href=\"https://reporter.ncsu.edu/link/instan...</td>\n      <td></td>\n      <td>[]</td>\n      <td></td>\n      <td>Grants &amp;amp; Funding</td>\n      <td>Online only</td>\n      <td></td>\n    </tr>\n    <tr>\n      <th>4</th>\n      <td>IRB Topical Workshop: Using “Apps” and other S...</td>\n      <td>56995</td>\n      <td>01-25-2021 10:00AM to 01-25-2021 12:00PM</td>\n      <td>&lt;p&gt;This session will discuss the use of “off t...</td>\n      <td>&lt;a href=\"https://reporter.ncsu.edu/link/instan...</td>\n      <td></td>\n      <td>[]</td>\n      <td></td>\n      <td>Grants &amp;amp; Funding</td>\n      <td>Online only</td>\n      <td></td>\n    </tr>\n  </tbody>\n</table>\n</div>",
      "text/plain": "                                               title    nid  \\\n0              IRB Basics: eIRB Application Workshop  57007   \n1  Campus Conversations Project: Inauguration Day...  57129   \n2  IRB Basics Part II: Handling Your Data and Ass...  57017   \n3  IRB Topical Workshop: IRB Process and IT Profe...  57103   \n4  IRB Topical Workshop: Using “Apps” and other S...  56995   \n\n                              field_time_d8  \\\n0   01-20-2021 10:00AM to 01-20-2021 1:00PM   \n1    01-20-2021 7:00PM to 01-20-2021 8:30PM   \n2    01-21-2021 1:00PM to 01-21-2021 4:00PM   \n3    01-21-2021 3:00PM to 01-21-2021 5:00PM   \n4  01-25-2021 10:00AM to 01-25-2021 12:00PM   \n\n                                                body  \\\n0  <p><span><span>This workshop provides an overv...   \n1  <p>Trained student volunteers from the <a href...   \n2  <p><span>This workshop builds upon the IRB Bas...   \n3  <p>This session is specifically for IT profess...   \n4  <p>This session will discuss the use of “off t...   \n\n                              field_registration_url  \\\n0  <a href=\"https://reporter.ncsu.edu/link/instan...   \n1  <a href=\"https://reporter.ncsu.edu/link/instan...   \n2  <a href=\"https://reporter.ncsu.edu/link/instan...   \n3  <a href=\"https://reporter.ncsu.edu/link/instan...   \n4  <a href=\"https://reporter.ncsu.edu/link/instan...   \n\n  field_non_library_instructor  \\\n0                   Yael Allen   \n1               Morgan DiCarlo   \n2                   Yael Allen   \n3                                \n4                                \n\n                         field_workshop_leads_export field_workshop_series  \\\n0                                                 []     Research Strategy   \n1  [{'id': '279', 'url': 'https://www.lib.ncsu.ed...                         \n2                                                 []                         \n3                                                 []                         \n4                                                 []                         \n\n  field_workshop_user_activities field_non_libraries_space_1 field_space  \n0                                                Online only              \n1                                                Online only              \n2                                                Online only              \n3           Grants &amp; Funding                 Online only              \n4           Grants &amp; Funding                 Online only              "
     },
     "execution_count": 7,
     "metadata": {},
     "output_type": "execute_result"
    }
   ],
   "source": [
    "df[\"field_non_library_instructor\"] = df[\"field_non_library_instructor\"].str.strip()\n",
    "df.head()"
   ]
  },
  {
   "cell_type": "markdown",
   "metadata": {},
   "source": [
    "Remove HTML tags from `body`."
   ]
  },
  {
   "cell_type": "code",
   "execution_count": 8,
   "metadata": {},
   "outputs": [],
   "source": [
    "def strip_html_tags(text: str) -> str:\n",
    "    tag = re.compile(\"<.*?>\")\n",
    "    return re.sub(tag, \"\", text)\n"
   ]
  },
  {
   "cell_type": "code",
   "execution_count": 9,
   "metadata": {},
   "outputs": [
    {
     "data": {
      "text/html": "<div>\n<style scoped>\n    .dataframe tbody tr th:only-of-type {\n        vertical-align: middle;\n    }\n\n    .dataframe tbody tr th {\n        vertical-align: top;\n    }\n\n    .dataframe thead th {\n        text-align: right;\n    }\n</style>\n<table border=\"1\" class=\"dataframe\">\n  <thead>\n    <tr style=\"text-align: right;\">\n      <th></th>\n      <th>title</th>\n      <th>nid</th>\n      <th>field_time_d8</th>\n      <th>body</th>\n      <th>field_registration_url</th>\n      <th>field_non_library_instructor</th>\n      <th>field_workshop_leads_export</th>\n      <th>field_workshop_series</th>\n      <th>field_workshop_user_activities</th>\n      <th>field_non_libraries_space_1</th>\n      <th>field_space</th>\n    </tr>\n  </thead>\n  <tbody>\n    <tr>\n      <th>0</th>\n      <td>IRB Basics: eIRB Application Workshop</td>\n      <td>57007</td>\n      <td>01-20-2021 10:00AM to 01-20-2021 1:00PM</td>\n      <td>This workshop provides an overview of how to w...</td>\n      <td>&lt;a href=\"https://reporter.ncsu.edu/link/instan...</td>\n      <td>Yael Allen</td>\n      <td>[]</td>\n      <td>Research Strategy</td>\n      <td></td>\n      <td>Online only</td>\n      <td></td>\n    </tr>\n    <tr>\n      <th>1</th>\n      <td>Campus Conversations Project: Inauguration Day...</td>\n      <td>57129</td>\n      <td>01-20-2021 7:00PM to 01-20-2021 8:30PM</td>\n      <td>Trained student volunteers from the Campus Con...</td>\n      <td>&lt;a href=\"https://reporter.ncsu.edu/link/instan...</td>\n      <td>Morgan DiCarlo</td>\n      <td>[{'id': '279', 'url': 'https://www.lib.ncsu.ed...</td>\n      <td></td>\n      <td></td>\n      <td>Online only</td>\n      <td></td>\n    </tr>\n    <tr>\n      <th>2</th>\n      <td>IRB Basics Part II: Handling Your Data and Ass...</td>\n      <td>57017</td>\n      <td>01-21-2021 1:00PM to 01-21-2021 4:00PM</td>\n      <td>This workshop builds upon the IRB Basics: Part...</td>\n      <td>&lt;a href=\"https://reporter.ncsu.edu/link/instan...</td>\n      <td>Yael Allen</td>\n      <td>[]</td>\n      <td></td>\n      <td></td>\n      <td>Online only</td>\n      <td></td>\n    </tr>\n    <tr>\n      <th>3</th>\n      <td>IRB Topical Workshop: IRB Process and IT Profe...</td>\n      <td>57103</td>\n      <td>01-21-2021 3:00PM to 01-21-2021 5:00PM</td>\n      <td>This session is specifically for IT profession...</td>\n      <td>&lt;a href=\"https://reporter.ncsu.edu/link/instan...</td>\n      <td></td>\n      <td>[]</td>\n      <td></td>\n      <td>Grants &amp;amp; Funding</td>\n      <td>Online only</td>\n      <td></td>\n    </tr>\n    <tr>\n      <th>4</th>\n      <td>IRB Topical Workshop: Using “Apps” and other S...</td>\n      <td>56995</td>\n      <td>01-25-2021 10:00AM to 01-25-2021 12:00PM</td>\n      <td>This session will discuss the use of “off the ...</td>\n      <td>&lt;a href=\"https://reporter.ncsu.edu/link/instan...</td>\n      <td></td>\n      <td>[]</td>\n      <td></td>\n      <td>Grants &amp;amp; Funding</td>\n      <td>Online only</td>\n      <td></td>\n    </tr>\n  </tbody>\n</table>\n</div>",
      "text/plain": "                                               title    nid  \\\n0              IRB Basics: eIRB Application Workshop  57007   \n1  Campus Conversations Project: Inauguration Day...  57129   \n2  IRB Basics Part II: Handling Your Data and Ass...  57017   \n3  IRB Topical Workshop: IRB Process and IT Profe...  57103   \n4  IRB Topical Workshop: Using “Apps” and other S...  56995   \n\n                              field_time_d8  \\\n0   01-20-2021 10:00AM to 01-20-2021 1:00PM   \n1    01-20-2021 7:00PM to 01-20-2021 8:30PM   \n2    01-21-2021 1:00PM to 01-21-2021 4:00PM   \n3    01-21-2021 3:00PM to 01-21-2021 5:00PM   \n4  01-25-2021 10:00AM to 01-25-2021 12:00PM   \n\n                                                body  \\\n0  This workshop provides an overview of how to w...   \n1  Trained student volunteers from the Campus Con...   \n2  This workshop builds upon the IRB Basics: Part...   \n3  This session is specifically for IT profession...   \n4  This session will discuss the use of “off the ...   \n\n                              field_registration_url  \\\n0  <a href=\"https://reporter.ncsu.edu/link/instan...   \n1  <a href=\"https://reporter.ncsu.edu/link/instan...   \n2  <a href=\"https://reporter.ncsu.edu/link/instan...   \n3  <a href=\"https://reporter.ncsu.edu/link/instan...   \n4  <a href=\"https://reporter.ncsu.edu/link/instan...   \n\n  field_non_library_instructor  \\\n0                   Yael Allen   \n1               Morgan DiCarlo   \n2                   Yael Allen   \n3                                \n4                                \n\n                         field_workshop_leads_export field_workshop_series  \\\n0                                                 []     Research Strategy   \n1  [{'id': '279', 'url': 'https://www.lib.ncsu.ed...                         \n2                                                 []                         \n3                                                 []                         \n4                                                 []                         \n\n  field_workshop_user_activities field_non_libraries_space_1 field_space  \n0                                                Online only              \n1                                                Online only              \n2                                                Online only              \n3           Grants &amp; Funding                 Online only              \n4           Grants &amp; Funding                 Online only              "
     },
     "execution_count": 9,
     "metadata": {},
     "output_type": "execute_result"
    }
   ],
   "source": [
    "df[\"body\"] = df[\"body\"].apply(strip_html_tags)\n",
    "df.head()"
   ]
  },
  {
   "cell_type": "markdown",
   "metadata": {},
   "source": [
    "Write to csv, with date."
   ]
  },
  {
   "cell_type": "code",
   "execution_count": 10,
   "metadata": {},
   "outputs": [],
   "source": [
    "df.to_csv(f\"current-workshops-{date.today()}.csv\")"
   ]
  },
  {
   "cell_type": "markdown",
   "metadata": {},
   "source": [
    "## Explore text"
   ]
  },
  {
   "cell_type": "markdown",
   "metadata": {},
   "source": []
  },
  {
   "cell_type": "markdown",
   "metadata": {},
   "source": [
    "TODO:\n",
    "- Consistency across workshops\n",
    "    - Length of description\n",
    "    - Consistent keywords?\n",
    "    - Does title reflect body paragraph? (check keywords)\n",
    "        - Does body contain words from the title? Does title contain words from body?\n",
    "    - Consistency of workshop descriptions across related titles\n",
    "        - If we have multiple introductions to python, are the descriptions similar?\n",
    "        - Similar across intro to R vs intro python? \n",
    "- Lexical variety?\n"
   ]
  },
  {
   "cell_type": "code",
   "execution_count": 2,
   "metadata": {},
   "outputs": [],
   "source": [
    "from nltk import word_tokenize\n",
    "import numpy as np\n",
    "import spacy"
   ]
  },
  {
   "cell_type": "markdown",
   "metadata": {},
   "source": [
    "Read in the most current csv of workshop data. We'll hardcode it for now, but could always parse the filenames, and get the most recent. "
   ]
  },
  {
   "cell_type": "code",
   "execution_count": 3,
   "metadata": {},
   "outputs": [],
   "source": [
    "df = pd.read_csv(\"current-workshops-2021-01-20.csv\")"
   ]
  },
  {
   "cell_type": "code",
   "execution_count": 4,
   "metadata": {},
   "outputs": [],
   "source": [
    "def naive_count_words(text: str) -> int:\n",
    "    return len([word for word in word_tokenize(text)\n",
    "        if word not in [\".\", \",\", \"?\", \"'\", \"\\\"\", \":\", \";\"]])"
   ]
  },
  {
   "cell_type": "code",
   "execution_count": 5,
   "metadata": {},
   "outputs": [
    {
     "output_type": "execute_result",
     "data": {
      "text/plain": [
       "296"
      ]
     },
     "metadata": {},
     "execution_count": 5
    }
   ],
   "source": [
    "naive_count_words(df[\"body\"][0])"
   ]
  },
  {
   "cell_type": "markdown",
   "metadata": {},
   "source": [
    "We've done a naive pass to check word count minus punctuation. Let's compare it to spaCy's parsing, removing punctuation and spaces/newlines."
   ]
  },
  {
   "cell_type": "code",
   "execution_count": 6,
   "metadata": {},
   "outputs": [],
   "source": [
    "nlp = spacy.load(\"en_core_web_lg\")"
   ]
  },
  {
   "cell_type": "code",
   "execution_count": 7,
   "metadata": {},
   "outputs": [],
   "source": [
    "def spacy_count_words(text: str) -> int:\n",
    "    doc = nlp(text)\n",
    "    no_punct = [t for t in doc if t.is_punct == False]\n",
    "    no_space = [t for t in no_punct if t.is_space == False]\n",
    "    return len(no_space) "
   ]
  },
  {
   "cell_type": "code",
   "execution_count": 8,
   "metadata": {},
   "outputs": [
    {
     "output_type": "execute_result",
     "data": {
      "text/plain": [
       "289"
      ]
     },
     "metadata": {},
     "execution_count": 8
    }
   ],
   "source": [
    "spacy_count_words(df[\"body\"][0])"
   ]
  },
  {
   "cell_type": "markdown",
   "metadata": {},
   "source": [
    "Create a new column in the dataframe that contains number of words in the description(`body`)."
   ]
  },
  {
   "cell_type": "code",
   "execution_count": 9,
   "metadata": {},
   "outputs": [],
   "source": [
    "df[\"body_word_count\"] = df[\"body\"].apply(spacy_count_words)"
   ]
  },
  {
   "cell_type": "code",
   "execution_count": 10,
   "metadata": {},
   "outputs": [
    {
     "output_type": "execute_result",
     "data": {
      "text/plain": [
       "   Unnamed: 0                                              title    nid  \\\n",
       "0           0              IRB Basics: eIRB Application Workshop  57007   \n",
       "1           1  Campus Conversations Project: Inauguration Day...  57129   \n",
       "2           2  IRB Basics Part II: Handling Your Data and Ass...  57017   \n",
       "3           3  IRB Topical Workshop: IRB Process and IT Profe...  57103   \n",
       "4           4  IRB Topical Workshop: Using “Apps” and other S...  56995   \n",
       "\n",
       "                              field_time_d8  \\\n",
       "0   01-20-2021 10:00AM to 01-20-2021 1:00PM   \n",
       "1    01-20-2021 7:00PM to 01-20-2021 8:30PM   \n",
       "2    01-21-2021 1:00PM to 01-21-2021 4:00PM   \n",
       "3    01-21-2021 3:00PM to 01-21-2021 5:00PM   \n",
       "4  01-25-2021 10:00AM to 01-25-2021 12:00PM   \n",
       "\n",
       "                                                body  \\\n",
       "0  This workshop provides an overview of how to w...   \n",
       "1  Trained student volunteers from the Campus Con...   \n",
       "2  This workshop builds upon the IRB Basics: Part...   \n",
       "3  This session is specifically for IT profession...   \n",
       "4  This session will discuss the use of “off the ...   \n",
       "\n",
       "                              field_registration_url  \\\n",
       "0  <a href=\"https://reporter.ncsu.edu/link/instan...   \n",
       "1  <a href=\"https://reporter.ncsu.edu/link/instan...   \n",
       "2  <a href=\"https://reporter.ncsu.edu/link/instan...   \n",
       "3  <a href=\"https://reporter.ncsu.edu/link/instan...   \n",
       "4  <a href=\"https://reporter.ncsu.edu/link/instan...   \n",
       "\n",
       "  field_non_library_instructor  \\\n",
       "0                   Yael Allen   \n",
       "1               Morgan DiCarlo   \n",
       "2                   Yael Allen   \n",
       "3                          NaN   \n",
       "4                          NaN   \n",
       "\n",
       "                         field_workshop_leads_export field_workshop_series  \\\n",
       "0                                                 []     Research Strategy   \n",
       "1  [{'id': '279', 'url': 'https://www.lib.ncsu.ed...                   NaN   \n",
       "2                                                 []                   NaN   \n",
       "3                                                 []                   NaN   \n",
       "4                                                 []                   NaN   \n",
       "\n",
       "  field_workshop_user_activities field_non_libraries_space_1  field_space  \\\n",
       "0                            NaN                 Online only          NaN   \n",
       "1                            NaN                 Online only          NaN   \n",
       "2                            NaN                 Online only          NaN   \n",
       "3           Grants &amp; Funding                 Online only          NaN   \n",
       "4           Grants &amp; Funding                 Online only          NaN   \n",
       "\n",
       "   body_word_count  \n",
       "0              289  \n",
       "1              115  \n",
       "2               71  \n",
       "3              144  \n",
       "4              172  "
      ],
      "text/html": "<div>\n<style scoped>\n    .dataframe tbody tr th:only-of-type {\n        vertical-align: middle;\n    }\n\n    .dataframe tbody tr th {\n        vertical-align: top;\n    }\n\n    .dataframe thead th {\n        text-align: right;\n    }\n</style>\n<table border=\"1\" class=\"dataframe\">\n  <thead>\n    <tr style=\"text-align: right;\">\n      <th></th>\n      <th>Unnamed: 0</th>\n      <th>title</th>\n      <th>nid</th>\n      <th>field_time_d8</th>\n      <th>body</th>\n      <th>field_registration_url</th>\n      <th>field_non_library_instructor</th>\n      <th>field_workshop_leads_export</th>\n      <th>field_workshop_series</th>\n      <th>field_workshop_user_activities</th>\n      <th>field_non_libraries_space_1</th>\n      <th>field_space</th>\n      <th>body_word_count</th>\n    </tr>\n  </thead>\n  <tbody>\n    <tr>\n      <th>0</th>\n      <td>0</td>\n      <td>IRB Basics: eIRB Application Workshop</td>\n      <td>57007</td>\n      <td>01-20-2021 10:00AM to 01-20-2021 1:00PM</td>\n      <td>This workshop provides an overview of how to w...</td>\n      <td>&lt;a href=\"https://reporter.ncsu.edu/link/instan...</td>\n      <td>Yael Allen</td>\n      <td>[]</td>\n      <td>Research Strategy</td>\n      <td>NaN</td>\n      <td>Online only</td>\n      <td>NaN</td>\n      <td>289</td>\n    </tr>\n    <tr>\n      <th>1</th>\n      <td>1</td>\n      <td>Campus Conversations Project: Inauguration Day...</td>\n      <td>57129</td>\n      <td>01-20-2021 7:00PM to 01-20-2021 8:30PM</td>\n      <td>Trained student volunteers from the Campus Con...</td>\n      <td>&lt;a href=\"https://reporter.ncsu.edu/link/instan...</td>\n      <td>Morgan DiCarlo</td>\n      <td>[{'id': '279', 'url': 'https://www.lib.ncsu.ed...</td>\n      <td>NaN</td>\n      <td>NaN</td>\n      <td>Online only</td>\n      <td>NaN</td>\n      <td>115</td>\n    </tr>\n    <tr>\n      <th>2</th>\n      <td>2</td>\n      <td>IRB Basics Part II: Handling Your Data and Ass...</td>\n      <td>57017</td>\n      <td>01-21-2021 1:00PM to 01-21-2021 4:00PM</td>\n      <td>This workshop builds upon the IRB Basics: Part...</td>\n      <td>&lt;a href=\"https://reporter.ncsu.edu/link/instan...</td>\n      <td>Yael Allen</td>\n      <td>[]</td>\n      <td>NaN</td>\n      <td>NaN</td>\n      <td>Online only</td>\n      <td>NaN</td>\n      <td>71</td>\n    </tr>\n    <tr>\n      <th>3</th>\n      <td>3</td>\n      <td>IRB Topical Workshop: IRB Process and IT Profe...</td>\n      <td>57103</td>\n      <td>01-21-2021 3:00PM to 01-21-2021 5:00PM</td>\n      <td>This session is specifically for IT profession...</td>\n      <td>&lt;a href=\"https://reporter.ncsu.edu/link/instan...</td>\n      <td>NaN</td>\n      <td>[]</td>\n      <td>NaN</td>\n      <td>Grants &amp;amp; Funding</td>\n      <td>Online only</td>\n      <td>NaN</td>\n      <td>144</td>\n    </tr>\n    <tr>\n      <th>4</th>\n      <td>4</td>\n      <td>IRB Topical Workshop: Using “Apps” and other S...</td>\n      <td>56995</td>\n      <td>01-25-2021 10:00AM to 01-25-2021 12:00PM</td>\n      <td>This session will discuss the use of “off the ...</td>\n      <td>&lt;a href=\"https://reporter.ncsu.edu/link/instan...</td>\n      <td>NaN</td>\n      <td>[]</td>\n      <td>NaN</td>\n      <td>Grants &amp;amp; Funding</td>\n      <td>Online only</td>\n      <td>NaN</td>\n      <td>172</td>\n    </tr>\n  </tbody>\n</table>\n</div>"
     },
     "metadata": {},
     "execution_count": 10
    }
   ],
   "source": [
    "df.head()"
   ]
  },
  {
   "cell_type": "code",
   "execution_count": 11,
   "metadata": {},
   "outputs": [
    {
     "output_type": "execute_result",
     "data": {
      "text/plain": [
       "123.44318181818181"
      ]
     },
     "metadata": {},
     "execution_count": 11
    }
   ],
   "source": [
    "avg_word_count = np.mean(df[\"body_word_count\"])\n",
    "avg_word_count"
   ]
  },
  {
   "cell_type": "code",
   "execution_count": 12,
   "metadata": {},
   "outputs": [
    {
     "output_type": "execute_result",
     "data": {
      "text/plain": [
       "36"
      ]
     },
     "metadata": {},
     "execution_count": 12
    }
   ],
   "source": [
    "lowest_word_count = df[\"body_word_count\"].min()\n",
    "lowest_word_count"
   ]
  },
  {
   "cell_type": "code",
   "execution_count": 13,
   "metadata": {},
   "outputs": [
    {
     "output_type": "execute_result",
     "data": {
      "text/plain": [
       "289"
      ]
     },
     "metadata": {},
     "execution_count": 13
    }
   ],
   "source": [
    "highest_word_count = df[\"body_word_count\"].max()\n",
    "highest_word_count"
   ]
  },
  {
   "cell_type": "code",
   "execution_count": 44,
   "metadata": {},
   "outputs": [],
   "source": [
    "import matplotlib.pyplot as plt\n",
    "%matplotlib inline"
   ]
  },
  {
   "cell_type": "code",
   "execution_count": 45,
   "metadata": {},
   "outputs": [
    {
     "output_type": "execute_result",
     "data": {
      "text/plain": [
       "<AxesSubplot:>"
      ]
     },
     "metadata": {},
     "execution_count": 45
    },
    {
     "output_type": "display_data",
     "data": {
      "text/plain": "<Figure size 432x288 with 1 Axes>",
      "image/svg+xml": "<?xml version=\"1.0\" encoding=\"utf-8\" standalone=\"no\"?>\n<!DOCTYPE svg PUBLIC \"-//W3C//DTD SVG 1.1//EN\"\n  \"http://www.w3.org/Graphics/SVG/1.1/DTD/svg11.dtd\">\n<!-- Created with matplotlib (https://matplotlib.org/) -->\n<svg height=\"250.591629pt\" version=\"1.1\" viewBox=\"0 0 376.48377 250.591629\" width=\"376.48377pt\" xmlns=\"http://www.w3.org/2000/svg\" xmlns:xlink=\"http://www.w3.org/1999/xlink\">\n <metadata>\n  <rdf:RDF xmlns:cc=\"http://creativecommons.org/ns#\" xmlns:dc=\"http://purl.org/dc/elements/1.1/\" xmlns:rdf=\"http://www.w3.org/1999/02/22-rdf-syntax-ns#\">\n   <cc:Work>\n    <dc:type rdf:resource=\"http://purl.org/dc/dcmitype/StillImage\"/>\n    <dc:date>2021-01-29T09:00:33.767320</dc:date>\n    <dc:format>image/svg+xml</dc:format>\n    <dc:creator>\n     <cc:Agent>\n      <dc:title>Matplotlib v3.3.4, https://matplotlib.org/</dc:title>\n     </cc:Agent>\n    </dc:creator>\n   </cc:Work>\n  </rdf:RDF>\n </metadata>\n <defs>\n  <style type=\"text/css\">*{stroke-linecap:butt;stroke-linejoin:round;}</style>\n </defs>\n <g id=\"figure_1\">\n  <g id=\"patch_1\">\n   <path d=\"M -0 250.591629 \nL 376.48377 250.591629 \nL 376.48377 0 \nL -0 0 \nz\n\" style=\"fill:none;\"/>\n  </g>\n  <g id=\"axes_1\">\n   <g id=\"patch_2\">\n    <path d=\"M 26.925 226.713504 \nL 361.725 226.713504 \nL 361.725 9.273504 \nL 26.925 9.273504 \nz\n\" style=\"fill:#ffffff;\"/>\n   </g>\n   <g id=\"patch_3\">\n    <path clip-path=\"url(#p3f78f2c7dc)\" d=\"M 42.143182 226.713504 \nL 72.579545 226.713504 \nL 72.579545 174.942076 \nL 42.143182 174.942076 \nz\n\" style=\"fill:#1f77b4;\"/>\n   </g>\n   <g id=\"patch_4\">\n    <path clip-path=\"url(#p3f78f2c7dc)\" d=\"M 72.579545 226.713504 \nL 103.015909 226.713504 \nL 103.015909 88.656362 \nL 72.579545 88.656362 \nz\n\" style=\"fill:#1f77b4;\"/>\n   </g>\n   <g id=\"patch_5\">\n    <path clip-path=\"url(#p3f78f2c7dc)\" d=\"M 103.015909 226.713504 \nL 133.452273 226.713504 \nL 133.452273 97.284933 \nL 103.015909 97.284933 \nz\n\" style=\"fill:#1f77b4;\"/>\n   </g>\n   <g id=\"patch_6\">\n    <path clip-path=\"url(#p3f78f2c7dc)\" d=\"M 133.452273 226.713504 \nL 163.888636 226.713504 \nL 163.888636 19.62779 \nL 133.452273 19.62779 \nz\n\" style=\"fill:#1f77b4;\"/>\n   </g>\n   <g id=\"patch_7\">\n    <path clip-path=\"url(#p3f78f2c7dc)\" d=\"M 163.888636 226.713504 \nL 194.325 226.713504 \nL 194.325 88.656362 \nL 163.888636 88.656362 \nz\n\" style=\"fill:#1f77b4;\"/>\n   </g>\n   <g id=\"patch_8\">\n    <path clip-path=\"url(#p3f78f2c7dc)\" d=\"M 194.325 226.713504 \nL 224.761364 226.713504 \nL 224.761364 192.199219 \nL 194.325 192.199219 \nz\n\" style=\"fill:#1f77b4;\"/>\n   </g>\n   <g id=\"patch_9\">\n    <path clip-path=\"url(#p3f78f2c7dc)\" d=\"M 224.761364 226.713504 \nL 255.197727 226.713504 \nL 255.197727 218.084933 \nL 224.761364 218.084933 \nz\n\" style=\"fill:#1f77b4;\"/>\n   </g>\n   <g id=\"patch_10\">\n    <path clip-path=\"url(#p3f78f2c7dc)\" d=\"M 255.197727 226.713504 \nL 285.634091 226.713504 \nL 285.634091 226.713504 \nL 255.197727 226.713504 \nz\n\" style=\"fill:#1f77b4;\"/>\n   </g>\n   <g id=\"patch_11\">\n    <path clip-path=\"url(#p3f78f2c7dc)\" d=\"M 285.634091 226.713504 \nL 316.070455 226.713504 \nL 316.070455 226.713504 \nL 285.634091 226.713504 \nz\n\" style=\"fill:#1f77b4;\"/>\n   </g>\n   <g id=\"patch_12\">\n    <path clip-path=\"url(#p3f78f2c7dc)\" d=\"M 316.070455 226.713504 \nL 346.506818 226.713504 \nL 346.506818 174.942076 \nL 316.070455 174.942076 \nz\n\" style=\"fill:#1f77b4;\"/>\n   </g>\n   <g id=\"matplotlib.axis_1\">\n    <g id=\"xtick_1\">\n     <g id=\"line2d_1\">\n      <path clip-path=\"url(#p3f78f2c7dc)\" d=\"M 58.985438 226.713504 \nL 58.985438 9.273504 \n\" style=\"fill:none;stroke:#b0b0b0;stroke-linecap:square;stroke-width:0.8;\"/>\n     </g>\n     <g id=\"line2d_2\">\n      <defs>\n       <path d=\"M 0 0 \nL 0 3.5 \n\" id=\"mb4ec1b7e20\" style=\"stroke:#000000;stroke-width:0.8;\"/>\n      </defs>\n      <g>\n       <use style=\"stroke:#000000;stroke-width:0.8;\" x=\"58.985438\" xlink:href=\"#mb4ec1b7e20\" y=\"226.713504\"/>\n      </g>\n     </g>\n     <g id=\"text_1\">\n      <!-- 50 -->\n      <g transform=\"translate(52.622938 241.311942)scale(0.1 -0.1)\">\n       <defs>\n        <path d=\"M 10.796875 72.90625 \nL 49.515625 72.90625 \nL 49.515625 64.59375 \nL 19.828125 64.59375 \nL 19.828125 46.734375 \nQ 21.96875 47.46875 24.109375 47.828125 \nQ 26.265625 48.1875 28.421875 48.1875 \nQ 40.625 48.1875 47.75 41.5 \nQ 54.890625 34.8125 54.890625 23.390625 \nQ 54.890625 11.625 47.5625 5.09375 \nQ 40.234375 -1.421875 26.90625 -1.421875 \nQ 22.3125 -1.421875 17.546875 -0.640625 \nQ 12.796875 0.140625 7.71875 1.703125 \nL 7.71875 11.625 \nQ 12.109375 9.234375 16.796875 8.0625 \nQ 21.484375 6.890625 26.703125 6.890625 \nQ 35.15625 6.890625 40.078125 11.328125 \nQ 45.015625 15.765625 45.015625 23.390625 \nQ 45.015625 31 40.078125 35.4375 \nQ 35.15625 39.890625 26.703125 39.890625 \nQ 22.75 39.890625 18.8125 39.015625 \nQ 14.890625 38.140625 10.796875 36.28125 \nz\n\" id=\"DejaVuSans-53\"/>\n        <path d=\"M 31.78125 66.40625 \nQ 24.171875 66.40625 20.328125 58.90625 \nQ 16.5 51.421875 16.5 36.375 \nQ 16.5 21.390625 20.328125 13.890625 \nQ 24.171875 6.390625 31.78125 6.390625 \nQ 39.453125 6.390625 43.28125 13.890625 \nQ 47.125 21.390625 47.125 36.375 \nQ 47.125 51.421875 43.28125 58.90625 \nQ 39.453125 66.40625 31.78125 66.40625 \nz\nM 31.78125 74.21875 \nQ 44.046875 74.21875 50.515625 64.515625 \nQ 56.984375 54.828125 56.984375 36.375 \nQ 56.984375 17.96875 50.515625 8.265625 \nQ 44.046875 -1.421875 31.78125 -1.421875 \nQ 19.53125 -1.421875 13.0625 8.265625 \nQ 6.59375 17.96875 6.59375 36.375 \nQ 6.59375 54.828125 13.0625 64.515625 \nQ 19.53125 74.21875 31.78125 74.21875 \nz\n\" id=\"DejaVuSans-48\"/>\n       </defs>\n       <use xlink:href=\"#DejaVuSans-53\"/>\n       <use x=\"63.623047\" xlink:href=\"#DejaVuSans-48\"/>\n      </g>\n     </g>\n    </g>\n    <g id=\"xtick_2\">\n     <g id=\"line2d_3\">\n      <path clip-path=\"url(#p3f78f2c7dc)\" d=\"M 119.136355 226.713504 \nL 119.136355 9.273504 \n\" style=\"fill:none;stroke:#b0b0b0;stroke-linecap:square;stroke-width:0.8;\"/>\n     </g>\n     <g id=\"line2d_4\">\n      <g>\n       <use style=\"stroke:#000000;stroke-width:0.8;\" x=\"119.136355\" xlink:href=\"#mb4ec1b7e20\" y=\"226.713504\"/>\n      </g>\n     </g>\n     <g id=\"text_2\">\n      <!-- 100 -->\n      <g transform=\"translate(109.592605 241.311942)scale(0.1 -0.1)\">\n       <defs>\n        <path d=\"M 12.40625 8.296875 \nL 28.515625 8.296875 \nL 28.515625 63.921875 \nL 10.984375 60.40625 \nL 10.984375 69.390625 \nL 28.421875 72.90625 \nL 38.28125 72.90625 \nL 38.28125 8.296875 \nL 54.390625 8.296875 \nL 54.390625 0 \nL 12.40625 0 \nz\n\" id=\"DejaVuSans-49\"/>\n       </defs>\n       <use xlink:href=\"#DejaVuSans-49\"/>\n       <use x=\"63.623047\" xlink:href=\"#DejaVuSans-48\"/>\n       <use x=\"127.246094\" xlink:href=\"#DejaVuSans-48\"/>\n      </g>\n     </g>\n    </g>\n    <g id=\"xtick_3\">\n     <g id=\"line2d_5\">\n      <path clip-path=\"url(#p3f78f2c7dc)\" d=\"M 179.287271 226.713504 \nL 179.287271 9.273504 \n\" style=\"fill:none;stroke:#b0b0b0;stroke-linecap:square;stroke-width:0.8;\"/>\n     </g>\n     <g id=\"line2d_6\">\n      <g>\n       <use style=\"stroke:#000000;stroke-width:0.8;\" x=\"179.287271\" xlink:href=\"#mb4ec1b7e20\" y=\"226.713504\"/>\n      </g>\n     </g>\n     <g id=\"text_3\">\n      <!-- 150 -->\n      <g transform=\"translate(169.743521 241.311942)scale(0.1 -0.1)\">\n       <use xlink:href=\"#DejaVuSans-49\"/>\n       <use x=\"63.623047\" xlink:href=\"#DejaVuSans-53\"/>\n       <use x=\"127.246094\" xlink:href=\"#DejaVuSans-48\"/>\n      </g>\n     </g>\n    </g>\n    <g id=\"xtick_4\">\n     <g id=\"line2d_7\">\n      <path clip-path=\"url(#p3f78f2c7dc)\" d=\"M 239.438187 226.713504 \nL 239.438187 9.273504 \n\" style=\"fill:none;stroke:#b0b0b0;stroke-linecap:square;stroke-width:0.8;\"/>\n     </g>\n     <g id=\"line2d_8\">\n      <g>\n       <use style=\"stroke:#000000;stroke-width:0.8;\" x=\"239.438187\" xlink:href=\"#mb4ec1b7e20\" y=\"226.713504\"/>\n      </g>\n     </g>\n     <g id=\"text_4\">\n      <!-- 200 -->\n      <g transform=\"translate(229.894437 241.311942)scale(0.1 -0.1)\">\n       <defs>\n        <path d=\"M 19.1875 8.296875 \nL 53.609375 8.296875 \nL 53.609375 0 \nL 7.328125 0 \nL 7.328125 8.296875 \nQ 12.9375 14.109375 22.625 23.890625 \nQ 32.328125 33.6875 34.8125 36.53125 \nQ 39.546875 41.84375 41.421875 45.53125 \nQ 43.3125 49.21875 43.3125 52.78125 \nQ 43.3125 58.59375 39.234375 62.25 \nQ 35.15625 65.921875 28.609375 65.921875 \nQ 23.96875 65.921875 18.8125 64.3125 \nQ 13.671875 62.703125 7.8125 59.421875 \nL 7.8125 69.390625 \nQ 13.765625 71.78125 18.9375 73 \nQ 24.125 74.21875 28.421875 74.21875 \nQ 39.75 74.21875 46.484375 68.546875 \nQ 53.21875 62.890625 53.21875 53.421875 \nQ 53.21875 48.921875 51.53125 44.890625 \nQ 49.859375 40.875 45.40625 35.40625 \nQ 44.1875 33.984375 37.640625 27.21875 \nQ 31.109375 20.453125 19.1875 8.296875 \nz\n\" id=\"DejaVuSans-50\"/>\n       </defs>\n       <use xlink:href=\"#DejaVuSans-50\"/>\n       <use x=\"63.623047\" xlink:href=\"#DejaVuSans-48\"/>\n       <use x=\"127.246094\" xlink:href=\"#DejaVuSans-48\"/>\n      </g>\n     </g>\n    </g>\n    <g id=\"xtick_5\">\n     <g id=\"line2d_9\">\n      <path clip-path=\"url(#p3f78f2c7dc)\" d=\"M 299.589103 226.713504 \nL 299.589103 9.273504 \n\" style=\"fill:none;stroke:#b0b0b0;stroke-linecap:square;stroke-width:0.8;\"/>\n     </g>\n     <g id=\"line2d_10\">\n      <g>\n       <use style=\"stroke:#000000;stroke-width:0.8;\" x=\"299.589103\" xlink:href=\"#mb4ec1b7e20\" y=\"226.713504\"/>\n      </g>\n     </g>\n     <g id=\"text_5\">\n      <!-- 250 -->\n      <g transform=\"translate(290.045353 241.311942)scale(0.1 -0.1)\">\n       <use xlink:href=\"#DejaVuSans-50\"/>\n       <use x=\"63.623047\" xlink:href=\"#DejaVuSans-53\"/>\n       <use x=\"127.246094\" xlink:href=\"#DejaVuSans-48\"/>\n      </g>\n     </g>\n    </g>\n    <g id=\"xtick_6\">\n     <g id=\"line2d_11\">\n      <path clip-path=\"url(#p3f78f2c7dc)\" d=\"M 359.74002 226.713504 \nL 359.74002 9.273504 \n\" style=\"fill:none;stroke:#b0b0b0;stroke-linecap:square;stroke-width:0.8;\"/>\n     </g>\n     <g id=\"line2d_12\">\n      <g>\n       <use style=\"stroke:#000000;stroke-width:0.8;\" x=\"359.74002\" xlink:href=\"#mb4ec1b7e20\" y=\"226.713504\"/>\n      </g>\n     </g>\n     <g id=\"text_6\">\n      <!-- 300 -->\n      <g transform=\"translate(350.19627 241.311942)scale(0.1 -0.1)\">\n       <defs>\n        <path d=\"M 40.578125 39.3125 \nQ 47.65625 37.796875 51.625 33 \nQ 55.609375 28.21875 55.609375 21.1875 \nQ 55.609375 10.40625 48.1875 4.484375 \nQ 40.765625 -1.421875 27.09375 -1.421875 \nQ 22.515625 -1.421875 17.65625 -0.515625 \nQ 12.796875 0.390625 7.625 2.203125 \nL 7.625 11.71875 \nQ 11.71875 9.328125 16.59375 8.109375 \nQ 21.484375 6.890625 26.8125 6.890625 \nQ 36.078125 6.890625 40.9375 10.546875 \nQ 45.796875 14.203125 45.796875 21.1875 \nQ 45.796875 27.640625 41.28125 31.265625 \nQ 36.765625 34.90625 28.71875 34.90625 \nL 20.21875 34.90625 \nL 20.21875 43.015625 \nL 29.109375 43.015625 \nQ 36.375 43.015625 40.234375 45.921875 \nQ 44.09375 48.828125 44.09375 54.296875 \nQ 44.09375 59.90625 40.109375 62.90625 \nQ 36.140625 65.921875 28.71875 65.921875 \nQ 24.65625 65.921875 20.015625 65.03125 \nQ 15.375 64.15625 9.8125 62.3125 \nL 9.8125 71.09375 \nQ 15.4375 72.65625 20.34375 73.4375 \nQ 25.25 74.21875 29.59375 74.21875 \nQ 40.828125 74.21875 47.359375 69.109375 \nQ 53.90625 64.015625 53.90625 55.328125 \nQ 53.90625 49.265625 50.4375 45.09375 \nQ 46.96875 40.921875 40.578125 39.3125 \nz\n\" id=\"DejaVuSans-51\"/>\n       </defs>\n       <use xlink:href=\"#DejaVuSans-51\"/>\n       <use x=\"63.623047\" xlink:href=\"#DejaVuSans-48\"/>\n       <use x=\"127.246094\" xlink:href=\"#DejaVuSans-48\"/>\n      </g>\n     </g>\n    </g>\n   </g>\n   <g id=\"matplotlib.axis_2\">\n    <g id=\"ytick_1\">\n     <g id=\"line2d_13\">\n      <path clip-path=\"url(#p3f78f2c7dc)\" d=\"M 26.925 226.713504 \nL 361.725 226.713504 \n\" style=\"fill:none;stroke:#b0b0b0;stroke-linecap:square;stroke-width:0.8;\"/>\n     </g>\n     <g id=\"line2d_14\">\n      <defs>\n       <path d=\"M 0 0 \nL -3.5 0 \n\" id=\"me807387038\" style=\"stroke:#000000;stroke-width:0.8;\"/>\n      </defs>\n      <g>\n       <use style=\"stroke:#000000;stroke-width:0.8;\" x=\"26.925\" xlink:href=\"#me807387038\" y=\"226.713504\"/>\n      </g>\n     </g>\n     <g id=\"text_7\">\n      <!-- 0 -->\n      <g transform=\"translate(13.5625 230.512723)scale(0.1 -0.1)\">\n       <use xlink:href=\"#DejaVuSans-48\"/>\n      </g>\n     </g>\n    </g>\n    <g id=\"ytick_2\">\n     <g id=\"line2d_15\">\n      <path clip-path=\"url(#p3f78f2c7dc)\" d=\"M 26.925 183.570647 \nL 361.725 183.570647 \n\" style=\"fill:none;stroke:#b0b0b0;stroke-linecap:square;stroke-width:0.8;\"/>\n     </g>\n     <g id=\"line2d_16\">\n      <g>\n       <use style=\"stroke:#000000;stroke-width:0.8;\" x=\"26.925\" xlink:href=\"#me807387038\" y=\"183.570647\"/>\n      </g>\n     </g>\n     <g id=\"text_8\">\n      <!-- 5 -->\n      <g transform=\"translate(13.5625 187.369866)scale(0.1 -0.1)\">\n       <use xlink:href=\"#DejaVuSans-53\"/>\n      </g>\n     </g>\n    </g>\n    <g id=\"ytick_3\">\n     <g id=\"line2d_17\">\n      <path clip-path=\"url(#p3f78f2c7dc)\" d=\"M 26.925 140.42779 \nL 361.725 140.42779 \n\" style=\"fill:none;stroke:#b0b0b0;stroke-linecap:square;stroke-width:0.8;\"/>\n     </g>\n     <g id=\"line2d_18\">\n      <g>\n       <use style=\"stroke:#000000;stroke-width:0.8;\" x=\"26.925\" xlink:href=\"#me807387038\" y=\"140.42779\"/>\n      </g>\n     </g>\n     <g id=\"text_9\">\n      <!-- 10 -->\n      <g transform=\"translate(7.2 144.227009)scale(0.1 -0.1)\">\n       <use xlink:href=\"#DejaVuSans-49\"/>\n       <use x=\"63.623047\" xlink:href=\"#DejaVuSans-48\"/>\n      </g>\n     </g>\n    </g>\n    <g id=\"ytick_4\">\n     <g id=\"line2d_19\">\n      <path clip-path=\"url(#p3f78f2c7dc)\" d=\"M 26.925 97.284933 \nL 361.725 97.284933 \n\" style=\"fill:none;stroke:#b0b0b0;stroke-linecap:square;stroke-width:0.8;\"/>\n     </g>\n     <g id=\"line2d_20\">\n      <g>\n       <use style=\"stroke:#000000;stroke-width:0.8;\" x=\"26.925\" xlink:href=\"#me807387038\" y=\"97.284933\"/>\n      </g>\n     </g>\n     <g id=\"text_10\">\n      <!-- 15 -->\n      <g transform=\"translate(7.2 101.084152)scale(0.1 -0.1)\">\n       <use xlink:href=\"#DejaVuSans-49\"/>\n       <use x=\"63.623047\" xlink:href=\"#DejaVuSans-53\"/>\n      </g>\n     </g>\n    </g>\n    <g id=\"ytick_5\">\n     <g id=\"line2d_21\">\n      <path clip-path=\"url(#p3f78f2c7dc)\" d=\"M 26.925 54.142076 \nL 361.725 54.142076 \n\" style=\"fill:none;stroke:#b0b0b0;stroke-linecap:square;stroke-width:0.8;\"/>\n     </g>\n     <g id=\"line2d_22\">\n      <g>\n       <use style=\"stroke:#000000;stroke-width:0.8;\" x=\"26.925\" xlink:href=\"#me807387038\" y=\"54.142076\"/>\n      </g>\n     </g>\n     <g id=\"text_11\">\n      <!-- 20 -->\n      <g transform=\"translate(7.2 57.941295)scale(0.1 -0.1)\">\n       <use xlink:href=\"#DejaVuSans-50\"/>\n       <use x=\"63.623047\" xlink:href=\"#DejaVuSans-48\"/>\n      </g>\n     </g>\n    </g>\n    <g id=\"ytick_6\">\n     <g id=\"line2d_23\">\n      <path clip-path=\"url(#p3f78f2c7dc)\" d=\"M 26.925 10.999219 \nL 361.725 10.999219 \n\" style=\"fill:none;stroke:#b0b0b0;stroke-linecap:square;stroke-width:0.8;\"/>\n     </g>\n     <g id=\"line2d_24\">\n      <g>\n       <use style=\"stroke:#000000;stroke-width:0.8;\" x=\"26.925\" xlink:href=\"#me807387038\" y=\"10.999219\"/>\n      </g>\n     </g>\n     <g id=\"text_12\">\n      <!-- 25 -->\n      <g transform=\"translate(7.2 14.798437)scale(0.1 -0.1)\">\n       <use xlink:href=\"#DejaVuSans-50\"/>\n       <use x=\"63.623047\" xlink:href=\"#DejaVuSans-53\"/>\n      </g>\n     </g>\n    </g>\n   </g>\n   <g id=\"patch_13\">\n    <path d=\"M 26.925 226.713504 \nL 26.925 9.273504 \n\" style=\"fill:none;stroke:#000000;stroke-linecap:square;stroke-linejoin:miter;stroke-width:0.8;\"/>\n   </g>\n   <g id=\"patch_14\">\n    <path d=\"M 361.725 226.713504 \nL 361.725 9.273504 \n\" style=\"fill:none;stroke:#000000;stroke-linecap:square;stroke-linejoin:miter;stroke-width:0.8;\"/>\n   </g>\n   <g id=\"patch_15\">\n    <path d=\"M 26.925 226.713504 \nL 361.725 226.713504 \n\" style=\"fill:none;stroke:#000000;stroke-linecap:square;stroke-linejoin:miter;stroke-width:0.8;\"/>\n   </g>\n   <g id=\"patch_16\">\n    <path d=\"M 26.925 9.273504 \nL 361.725 9.273504 \n\" style=\"fill:none;stroke:#000000;stroke-linecap:square;stroke-linejoin:miter;stroke-width:0.8;\"/>\n   </g>\n  </g>\n </g>\n <defs>\n  <clipPath id=\"p3f78f2c7dc\">\n   <rect height=\"217.44\" width=\"334.8\" x=\"26.925\" y=\"9.273504\"/>\n  </clipPath>\n </defs>\n</svg>\n",
      "image/png": "[encoded data removed]"
     },
     "metadata": {
      "needs_background": "light"
     }
    }
   ],
   "source": [
    "# Histogram of word counts to see distribution\n",
    "df[\"body_word_count\"].hist()"
   ]
  },
  {
   "cell_type": "markdown",
   "metadata": {},
   "source": [
    "Let's figure out the most common words across the current future workshops. "
   ]
  },
  {
   "cell_type": "code",
   "execution_count": 14,
   "metadata": {},
   "outputs": [],
   "source": [
    "from collections import Counter\n",
    "import textacy"
   ]
  },
  {
   "cell_type": "code",
   "execution_count": 15,
   "metadata": {},
   "outputs": [
    {
     "output_type": "execute_result",
     "data": {
      "text/plain": [
       "<textacy.corpus.Corpus at 0x166f088b0>"
      ]
     },
     "metadata": {},
     "execution_count": 15
    }
   ],
   "source": [
    "corpus = textacy.Corpus(nlp, df[\"body\"].to_list())\n",
    "corpus"
   ]
  },
  {
   "cell_type": "code",
   "execution_count": 16,
   "metadata": {},
   "outputs": [
    {
     "output_type": "execute_result",
     "data": {
      "text/plain": [
       "88"
      ]
     },
     "metadata": {},
     "execution_count": 16
    }
   ],
   "source": [
    "corpus.n_docs"
   ]
  },
  {
   "cell_type": "code",
   "execution_count": 19,
   "metadata": {},
   "outputs": [
    {
     "output_type": "execute_result",
     "data": {
      "text/plain": [
       "12616"
      ]
     },
     "metadata": {},
     "execution_count": 19
    }
   ],
   "source": [
    "corpus.n_tokens"
   ]
  },
  {
   "cell_type": "code",
   "execution_count": 21,
   "metadata": {},
   "outputs": [],
   "source": [
    "counts = corpus.word_counts(as_strings=True)"
   ]
  },
  {
   "cell_type": "code",
   "execution_count": 22,
   "metadata": {},
   "outputs": [
    {
     "output_type": "execute_result",
     "data": {
      "text/plain": [
       "[('-PRON-', 347),\n",
       " ('IRB', 140),\n",
       " ('workshop', 134),\n",
       " ('research', 130),\n",
       " ('use', 120),\n",
       " ('datum', 102),\n",
       " ('session', 81),\n",
       " ('participant', 76),\n",
       " ('design', 73),\n",
       " ('researcher', 71),\n",
       " ('provide', 57),\n",
       " ('NC', 57),\n",
       " ('State', 57),\n",
       " ('learn', 50),\n",
       " ('application', 48),\n",
       " ('training', 47),\n",
       " ('software', 46),\n",
       " ('Research', 44),\n",
       " ('concept', 37),\n",
       " ('time', 36)]"
      ]
     },
     "metadata": {},
     "execution_count": 22
    }
   ],
   "source": [
    "sorted(counts.items(), key=lambda x: x[1], reverse=True)[:20]"
   ]
  },
  {
   "cell_type": "code",
   "execution_count": 25,
   "metadata": {},
   "outputs": [
    {
     "output_type": "execute_result",
     "data": {
      "text/plain": [
       "14"
      ]
     },
     "metadata": {},
     "execution_count": 25
    }
   ],
   "source": [
    "counts[\"Python\"]"
   ]
  },
  {
   "cell_type": "code",
   "execution_count": 27,
   "metadata": {},
   "outputs": [
    {
     "output_type": "execute_result",
     "data": {
      "text/plain": [
       "22"
      ]
     },
     "metadata": {},
     "execution_count": 27
    }
   ],
   "source": [
    "counts[\"data\"]"
   ]
  },
  {
   "source": [
    "How much of this is a result of some descriptions being substantially longer than others?\n",
    "\n",
    "TODO: check for how many workshops these commonly used terms appear in. "
   ],
   "cell_type": "markdown",
   "metadata": {}
  },
  {
   "cell_type": "code",
   "execution_count": 38,
   "metadata": {},
   "outputs": [],
   "source": [
    "def check_inclusion_nums(token, corpus):\n",
    "    count = 0\n",
    "    for doc in corpus:\n",
    "        if token in [token.text for token in doc]:\n",
    "            count += 1\n",
    "    return count"
   ]
  },
  {
   "cell_type": "code",
   "execution_count": 39,
   "metadata": {},
   "outputs": [
    {
     "output_type": "execute_result",
     "data": {
      "text/plain": [
       "37"
      ]
     },
     "metadata": {},
     "execution_count": 39
    }
   ],
   "source": [
    "check_inclusion_nums(\"IRB\", corpus)"
   ]
  },
  {
   "source": [
    "TODO: Write a function that takes a term and a corpus, and returns all the docs that have that term\n",
    "\n",
    "Check to see if textacy already has this..."
   ],
   "cell_type": "markdown",
   "metadata": {}
  },
  {
   "source": [
    "## Generate keywords for each description"
   ],
   "cell_type": "markdown",
   "metadata": {}
  },
  {
   "cell_type": "code",
   "execution_count": 51,
   "metadata": {},
   "outputs": [],
   "source": [
    "import textacy.ke\n",
    "from itertools import chain"
   ]
  },
  {
   "cell_type": "code",
   "execution_count": 56,
   "metadata": {},
   "outputs": [
    {
     "output_type": "execute_result",
     "data": {
      "text/plain": [
       "[('CITI training tutorial', 0.2894638743311878),\n",
       " ('NC State', 0.1038538779913235),\n",
       " ('IRB application', 0.06673761015657964),\n",
       " ('workshop', 0.06518850818270899),\n",
       " ('PRP program', 0.04846851417291712),\n",
       " ('online training', 0.041306637085671435),\n",
       " ('business hour', 0.03237607045929546),\n",
       " ('research design', 0.016787663978917275),\n",
       " ('time', 0.009633394838772081),\n",
       " ('student', 0.00901539061123477)]"
      ]
     },
     "metadata": {},
     "execution_count": 56
    }
   ],
   "source": [
    "textacy.ke.sgrank(corpus[0])"
   ]
  },
  {
   "cell_type": "code",
   "execution_count": 62,
   "metadata": {},
   "outputs": [],
   "source": [
    "def get_keywords(text, spacy_model):\n",
    "    doc = spacy_model(text)\n",
    "    key_tuples = textacy.ke.sgrank(doc)\n",
    "    return [k for k, _ in key_tuples]"
   ]
  },
  {
   "cell_type": "code",
   "execution_count": 63,
   "metadata": {},
   "outputs": [],
   "source": [
    "df[\"keywords\"] = df[\"body\"].apply(get_keywords, spacy_model=nlp)"
   ]
  },
  {
   "cell_type": "code",
   "execution_count": 64,
   "metadata": {},
   "outputs": [
    {
     "output_type": "execute_result",
     "data": {
      "text/plain": [
       "   Unnamed: 0                                              title    nid  \\\n",
       "0           0              IRB Basics: eIRB Application Workshop  57007   \n",
       "1           1  Campus Conversations Project: Inauguration Day...  57129   \n",
       "2           2  IRB Basics Part II: Handling Your Data and Ass...  57017   \n",
       "3           3  IRB Topical Workshop: IRB Process and IT Profe...  57103   \n",
       "4           4  IRB Topical Workshop: Using “Apps” and other S...  56995   \n",
       "\n",
       "                              field_time_d8  \\\n",
       "0   01-20-2021 10:00AM to 01-20-2021 1:00PM   \n",
       "1    01-20-2021 7:00PM to 01-20-2021 8:30PM   \n",
       "2    01-21-2021 1:00PM to 01-21-2021 4:00PM   \n",
       "3    01-21-2021 3:00PM to 01-21-2021 5:00PM   \n",
       "4  01-25-2021 10:00AM to 01-25-2021 12:00PM   \n",
       "\n",
       "                                                body  \\\n",
       "0  This workshop provides an overview of how to w...   \n",
       "1  Trained student volunteers from the Campus Con...   \n",
       "2  This workshop builds upon the IRB Basics: Part...   \n",
       "3  This session is specifically for IT profession...   \n",
       "4  This session will discuss the use of “off the ...   \n",
       "\n",
       "                              field_registration_url  \\\n",
       "0  <a href=\"https://reporter.ncsu.edu/link/instan...   \n",
       "1  <a href=\"https://reporter.ncsu.edu/link/instan...   \n",
       "2  <a href=\"https://reporter.ncsu.edu/link/instan...   \n",
       "3  <a href=\"https://reporter.ncsu.edu/link/instan...   \n",
       "4  <a href=\"https://reporter.ncsu.edu/link/instan...   \n",
       "\n",
       "  field_non_library_instructor  \\\n",
       "0                   Yael Allen   \n",
       "1               Morgan DiCarlo   \n",
       "2                   Yael Allen   \n",
       "3                          NaN   \n",
       "4                          NaN   \n",
       "\n",
       "                         field_workshop_leads_export field_workshop_series  \\\n",
       "0                                                 []     Research Strategy   \n",
       "1  [{'id': '279', 'url': 'https://www.lib.ncsu.ed...                   NaN   \n",
       "2                                                 []                   NaN   \n",
       "3                                                 []                   NaN   \n",
       "4                                                 []                   NaN   \n",
       "\n",
       "  field_workshop_user_activities field_non_libraries_space_1  field_space  \\\n",
       "0                            NaN                 Online only          NaN   \n",
       "1                            NaN                 Online only          NaN   \n",
       "2                            NaN                 Online only          NaN   \n",
       "3           Grants &amp; Funding                 Online only          NaN   \n",
       "4           Grants &amp; Funding                 Online only          NaN   \n",
       "\n",
       "   body_word_count                                           keywords  \n",
       "0              289  [CITI training tutorial, NC State, IRB applica...  \n",
       "1              115  [current NC State student, Campus Conversation...  \n",
       "2               71  [IRB Basics, NC State IRB application, additio...  \n",
       "3              144  [NC State University, NC State University rese...  \n",
       "4              172  [software datum security, app, Discussion end ...  "
      ],
      "text/html": "<div>\n<style scoped>\n    .dataframe tbody tr th:only-of-type {\n        vertical-align: middle;\n    }\n\n    .dataframe tbody tr th {\n        vertical-align: top;\n    }\n\n    .dataframe thead th {\n        text-align: right;\n    }\n</style>\n<table border=\"1\" class=\"dataframe\">\n  <thead>\n    <tr style=\"text-align: right;\">\n      <th></th>\n      <th>Unnamed: 0</th>\n      <th>title</th>\n      <th>nid</th>\n      <th>field_time_d8</th>\n      <th>body</th>\n      <th>field_registration_url</th>\n      <th>field_non_library_instructor</th>\n      <th>field_workshop_leads_export</th>\n      <th>field_workshop_series</th>\n      <th>field_workshop_user_activities</th>\n      <th>field_non_libraries_space_1</th>\n      <th>field_space</th>\n      <th>body_word_count</th>\n      <th>keywords</th>\n    </tr>\n  </thead>\n  <tbody>\n    <tr>\n      <th>0</th>\n      <td>0</td>\n      <td>IRB Basics: eIRB Application Workshop</td>\n      <td>57007</td>\n      <td>01-20-2021 10:00AM to 01-20-2021 1:00PM</td>\n      <td>This workshop provides an overview of how to w...</td>\n      <td>&lt;a href=\"https://reporter.ncsu.edu/link/instan...</td>\n      <td>Yael Allen</td>\n      <td>[]</td>\n      <td>Research Strategy</td>\n      <td>NaN</td>\n      <td>Online only</td>\n      <td>NaN</td>\n      <td>289</td>\n      <td>[CITI training tutorial, NC State, IRB applica...</td>\n    </tr>\n    <tr>\n      <th>1</th>\n      <td>1</td>\n      <td>Campus Conversations Project: Inauguration Day...</td>\n      <td>57129</td>\n      <td>01-20-2021 7:00PM to 01-20-2021 8:30PM</td>\n      <td>Trained student volunteers from the Campus Con...</td>\n      <td>&lt;a href=\"https://reporter.ncsu.edu/link/instan...</td>\n      <td>Morgan DiCarlo</td>\n      <td>[{'id': '279', 'url': 'https://www.lib.ncsu.ed...</td>\n      <td>NaN</td>\n      <td>NaN</td>\n      <td>Online only</td>\n      <td>NaN</td>\n      <td>115</td>\n      <td>[current NC State student, Campus Conversation...</td>\n    </tr>\n    <tr>\n      <th>2</th>\n      <td>2</td>\n      <td>IRB Basics Part II: Handling Your Data and Ass...</td>\n      <td>57017</td>\n      <td>01-21-2021 1:00PM to 01-21-2021 4:00PM</td>\n      <td>This workshop builds upon the IRB Basics: Part...</td>\n      <td>&lt;a href=\"https://reporter.ncsu.edu/link/instan...</td>\n      <td>Yael Allen</td>\n      <td>[]</td>\n      <td>NaN</td>\n      <td>NaN</td>\n      <td>Online only</td>\n      <td>NaN</td>\n      <td>71</td>\n      <td>[IRB Basics, NC State IRB application, additio...</td>\n    </tr>\n    <tr>\n      <th>3</th>\n      <td>3</td>\n      <td>IRB Topical Workshop: IRB Process and IT Profe...</td>\n      <td>57103</td>\n      <td>01-21-2021 3:00PM to 01-21-2021 5:00PM</td>\n      <td>This session is specifically for IT profession...</td>\n      <td>&lt;a href=\"https://reporter.ncsu.edu/link/instan...</td>\n      <td>NaN</td>\n      <td>[]</td>\n      <td>NaN</td>\n      <td>Grants &amp;amp; Funding</td>\n      <td>Online only</td>\n      <td>NaN</td>\n      <td>144</td>\n      <td>[NC State University, NC State University rese...</td>\n    </tr>\n    <tr>\n      <th>4</th>\n      <td>4</td>\n      <td>IRB Topical Workshop: Using “Apps” and other S...</td>\n      <td>56995</td>\n      <td>01-25-2021 10:00AM to 01-25-2021 12:00PM</td>\n      <td>This session will discuss the use of “off the ...</td>\n      <td>&lt;a href=\"https://reporter.ncsu.edu/link/instan...</td>\n      <td>NaN</td>\n      <td>[]</td>\n      <td>NaN</td>\n      <td>Grants &amp;amp; Funding</td>\n      <td>Online only</td>\n      <td>NaN</td>\n      <td>172</td>\n      <td>[software datum security, app, Discussion end ...</td>\n    </tr>\n  </tbody>\n</table>\n</div>"
     },
     "metadata": {},
     "execution_count": 64
    }
   ],
   "source": [
    "df.head()"
   ]
  },
  {
   "cell_type": "code",
   "execution_count": 65,
   "metadata": {},
   "outputs": [],
   "source": [
    "df.to_csv(\"current-workshops-anno.csv\")"
   ]
  },
  {
   "cell_type": "code",
   "execution_count": 69,
   "metadata": {
    "tags": [
     "outputPrepend"
    ]
   },
   "outputs": [
    {
     "output_type": "stream",
     "name": "stdout",
     "text": [
      "nding', 'measurement', 'restriction', 'participant']\nIRB Topical Workshop: When Research Overlaps with Normal Education Practices -- ['Evaluation training session', 'generalizable knowledge conversation', 'Action Research', 'educational session', 'educational setting', 'research', 'educational practice', 'research project', 'IRB application', 'multiple role']\nCampus Conversations Project: Inauguration Day: Transitions of Power -- ['current NC State student', 'Campus Conversation Project', 'student volunteer', 'presidential inauguration', 'prior preparation', 'different thing', 'people', 'core value', 'partisan division', 'question']\nInnovation 101 -- ['innovation', 'global case study', 'workshop', 'different type', 'unintended consequence', 'prior knowledge', 'creative problem', 'question', 'local', 'future']\nCitation Management with RefWorks -- ['RefWorks folder system', 'citation management software', 'major library database', 'appropriate citation style', 'citation manager', 'NCSU Libraries', 'browser', 'research', 'individual citation', 'material']\nIRB Topical Workshop: IRB Process and IT Professionals at NC State University -- ['NC State University', 'NC State University researcher', 'data security management plan', 'human subject research', 'session', 'professional', 'IRB', 'IRB expectation', 'research ethic', 'brief overview']\nElements of Visualization Design -- ['current visualization research', 'core design element', 'good practice', 'chart selection', 'color', 'tool', 'participant', 'workshop']\nIRB Topical Workshop: Use of Social Media and Digital Media in Research, Privacy and Risk Issues -- ['social medium', 'datum collection', 'IRB application process', 'potential privacy issue', 'use', 'digital', 'participant need', 'recruitment', 'session', 'risk']\nCommunicating your research using impact metrics -- ['nontraditional scholarly metric', 'great impact', 'common tool', 'workshop', 'society', 'introduction', 'research', 'evidence', 'measurement', 'story']\nMATLAB Hands-On Virtual Lab: Signal Processing -- ['processing signal datum', 'Wavelet Analyzer app', 'efficient signal analysis', 'signal processing tool', 'recent addition', 'key capability', 'series signal', 'feature extraction', 'MATLAB', 'Signal Analyzer']\nWelcome To My TED Talk...Preparing for a Stage-Worthy Presentation -- ['TEDx speaker', 'Morgan DiCarlo', 'Civil Engineering', 'engineering outreach', 'innovative idea', 'TED clip', 'talk style', 'inspiring TED', 'idea worth', 'TED talk']\nIRB Topical Workshop: The IRB and Qualitative Research  -- ['qualitative datum management', 'participant relationship management', 'party participant risk', 'mandatory reporting obligation', 'Normal Education Practices', 'qualitative research endeavor', 'open ended survey', 'ethical consideration', 'discussion', 'researcher']\nIRB Topical Workshop: Using Secondary Data in Research -- ['secondary datum', 'session participant', 'NC State University Libraries', 'IRB application', 'Data security', 'Review option', 'use', 'IRB workshop series', 'seasoned researcher', 'research project']\nBeginning Tableau -- ['prior experience', 'datum visualization', 'basic chart', 'workshop', 'tableau interface', 'free tool', 'Tableau Public', 'interactive visualization', 'dashboard', 'introduction']\nStatistics Power Half-Hour -- ['sample size calculation', 'important statistical concept', 'short online discussion', 'Statistics Power Half', 'well understanding', 'p.m.', 'power calculation', 'Sample size', 'value', 'statistical significance']\nIRB Basics: eIRB Application Workshop -- ['CITI training tutorial', 'NC State', 'IRB application', 'workshop', 'PRP program', 'online training', 'business hour', 'research design', 'time', 'student']\nMATLAB Hands-On Virtual Lab: Image Processing -- ['image processing', 'large set', 'segmentation technique', 'new idea', 'separate object', 'scientific application', 'key workflow', 'world example', 'black art', 'camera']\nIRB Topical Workshop: When Research and Evaluation/Assessment Practices Overlap -- ['Normal Education Practices', 'generalizable knowledge conversation', 'session', 'research project', 'researcher', 'training situation', 'training session', 'IRB application', 'multiple role', 'review level']\nCreating Virtual Realities From Home -- ['interactive 3D web scene', 'simple markdown language AFrame', 'mixed reality scene', 'virtual reality', 'virtual reality scene', 'responsive digital environment', 'technology toolkit', 'previous technical knowledge', 'creative coding concept', 'new possibility']\nIRB Topical Workshop: Using “Apps” and other Software in Research with Human Subjects -- ['software datum security', 'app', 'Discussion end point device', 'datum management', 'user term', 'session', 'exclusion issue', 'Code Review', 'homegrown', 'participant inclusion']\nGetting Started with 3D Design -- ['D.H. Hill Makerspace Orientation', 'free online 3d design', 'Hunt Library Makerspaces', '3d design software', 'workshop', '3d printing', '3d printing workshop', 'option available', 'design suitable', 'workshop pre']\nIRB Topical Workshop: When Research Overlaps with Normal Education Practices -- ['Evaluation training session', 'generalizable knowledge conversation', 'Action Research', 'educational session', 'educational setting', 'research', 'educational practice', 'research project', 'IRB application', 'multiple role']\nGet Jiggy with Git -- ['molecular regulatory relationship', 'accessible educational enrichment experience', 'software versioning tool', 'non', 'introductory workshop', 'git', 'web development', 'previous sentence', 'git branch', 'powerful tool']\nIntroduction to Programming with Python - Part 1 -- ['basic data structure', 'Python programming language', 'workshop', 'fundamental concept', 'control flow', 'datum type', 'core understanding', 'basic script', 'hand', 'end']\nOnline Mapping Tools: Social Explorer -- ['historical census datum', 'social explorer', 'visualization tool', 'demographic information', 'web mapping', 'access datum', 'interactive map', 'current', 'workshop', 'hand']\nGetting Started with eTextiles -- ['unique wearable project', 'electronic prototyping', 'session', 'practical knowledge', 'WORKSHOP PRE', 'electronic component', 'creative project', 'conductive thread', 'sewing', 'prior experience']\nFutures Thinking 101 -- ['possible future', 'prior knowledge', 'introductory workshop', 'Futures Studies', 'academic project', 'futurist', 'blind spot', 'type', 'answer', 'question']\nInnovation 101 -- ['global case study', 'innovation', 'workshop', 'different type', 'unintended consequence', 'creative problem', 'prior knowledge', 'assistive technology', 'Tori Culler', 'question']\nIRB Topical Workshop: IRB Process and IT Professionals at NC State University -- ['NC State University', 'NC State University researcher', 'data security management plan', 'human subject research', 'session', 'professional', 'IRB', 'IRB expectation', 'research ethic', 'brief overview']\nIRB Basics Part I:  An Introduction to the IRB process at NC State -- ['NC State University Libraries', 'human subject research practice', 'topical IRB workshop', 'eirb application', 'IRB history', 'basic overview', 'seasoned researcher', 'IRB process', 'IRB Basics', 'IRB approval']\nIntroduction to Programming with Python - Part 2 -- ['basic data structure', 'Python programming language', 'workshop', 'fundamental concept', 'control flow', 'datum type', 'core understanding', 'basic script', 'hand', 'end']\nIRB Basics Part II: Handling Your Data and Assessing Risks &amp; Benefits -- ['IRB Basics', 'NC State IRB application', 'additional information', 'risk mitigation strategy', 'datum security', 'data lifecycle', 'workshop', 'course', 'attendee', 'seasoned researcher']\nStatistics Power Half-Hour -- ['sample size calculation', 'important statistical concept', 'short online discussion', 'Statistics Power Half', 'well understanding', 'p.m.', 'power calculation', 'Sample size', 'value', 'statistical significance']\nMATLAB Hands-On Virtual Lab: AI in the Cloud -- ['deep neural network', 'Artificial Intelligence technique', 'deep learning model', 'use transfer learning', 'complex problem', 'virtual lab', 'image', 'pretrained model', 'signal', 'control']\nIRB Topical Workshop: Use of Social Media and Digital Media in Research, Privacy and Risk Issues -- ['social medium', 'datum collection', 'IRB application process', 'potential privacy issue', 'use', 'digital', 'participant need', 'recruitment', 'session', 'risk']\nGetting Started with Hand Embroidery -- ['digital machine embroidery', 'classic hand embroidery', 'century old practice', 'practical use', 'clothing article', 'participant', 'basic introduction', 'type', 'embroidery hoop', 'embroidery embellishment']\nPython Open Lab 1 -- ['Pandas data analysis library', 'core concept', 'JSON file', 'open time', 'datum', 'open lab', 'specific concept', 'Pandas library', 'supported environment', 'datum format']\nOnline Mapping Tools: Business Analyst -- ['Business Analyst Online', 'business report', 'analytic tool', 'web app', 'trade area', 'untapped market', 'customer', 'decision', 'site', 'workshop']\nStatistics Power Half-Hour -- ['sample size calculation', 'important statistical concept', 'short online discussion', 'Statistics Power Half', 'well understanding', 'p.m.', 'power calculation', 'Sample size', 'value', 'statistical significance']\nIRB Topical Workshop: Research Collaborations -- ['Individual Investigator Agreements', 'Collaborative Research regulation', 'Common IRB issue', 'new IRB regulation', 'human subject research', 'institutional researcher', 'single IRB', 'reliance agreement', 'NC State', 'successful collaboration']\nGetting Started with 3D Design -- ['D.H. Hill Makerspace Orientation', 'free online 3d design', 'Hunt Library Makerspaces', '3d design software', 'workshop', '3d printing', '3d printing workshop', 'option available', 'design suitable', 'workshop pre']\nIRB Topical Workshop: The IRB and Qualitative Research  -- ['qualitative datum management', 'participant relationship management', 'party participant risk', 'mandatory reporting obligation', 'Normal Education Practices', 'qualitative research endeavor', 'open ended survey', 'ethical consideration', 'discussion', 'researcher']\nPython Open Lab 2 -- ['Pandas data analysis library', 'core concept', 'datum', 'common method', 'supported environment', 'open time', 'specific concept', 'open lab', 'dataset', 'open time participant']\nCreating Virtual Realities From Home -- ['interactive 3D web scene', 'simple markdown language AFrame', 'mixed reality scene', 'virtual reality', 'virtual reality scene', 'responsive digital environment', 'technology toolkit', 'previous technical knowledge', 'creative coding concept', 'new possibility']\nData Sonification with Python -- ['Python programming language', 'mapping datum', 'alternate mode', 'datum sonification', 'basic process', 'graphical element', 'sonification technique', 'data visualization', 'workshop', 'concept']\nIRB Basics: eIRB Application Workshop -- ['CITI training tutorial', 'NC State', 'IRB application', 'workshop', 'PRP program', 'online training', 'business hour', 'research design', 'time', 'student']\nCreating Virtual Realities From Home -- ['interactive 3D web scene', 'simple markdown language AFrame', 'mixed reality scene', 'virtual reality', 'virtual reality scene', 'responsive digital environment', 'technology toolkit', 'previous technical knowledge', 'creative coding concept', 'new possibility']\nIRB Basics Part I:  An Introduction to the IRB process at NC State -- ['NC State University Libraries', 'human subject research practice', 'topical IRB workshop', 'eirb application', 'IRB history', 'basic overview', 'seasoned researcher', 'IRB process', 'IRB Basics', 'IRB approval']\nPython Open Lab 3 -- ['common exploratory analysis method', 'Pandas data analysis library', 'Python visualization library', 'core concept', 'supported environment', 'open lab', 'specific concept', 'open time', 'open time participant', 'activity']\nStorytelling with GIS -- ['interactive multimedia story map', 'ArcGIS Story Maps', 'new Story Maps builder', 'sample geographic datum', 'accessible format', 'historical narrative', 'map narrative', 'image', 'workshop', 'web']\nBeginning R -- ['quality graph', 'web application', 'datum cleaning', 'statistical analysis', 'multiple purpose', 'computing environment', 'source', 'visualization', 'data', 'open']\nIRB Topical Workshop: Using Secondary Data in Research -- ['secondary datum', 'session participant', 'NC State University Libraries', 'IRB application', 'Data security', 'Review option', 'use', 'IRB workshop series', 'seasoned researcher', 'research project']\nCampus Conversations Project: The Opportunity Gap -- ['Campus Conversation Project', 'tilted playing field', 'fair playing field', 'opportunity gap', 'inequitable distribution', 'prior preparation', 'student volunteer', 'achievement gap', 'educational result', 'unequal']\nForecasting the Future: Writing Speculative Micro-Fiction  -- ['process step', 'collective future', 'short story', 'speculative micro', 'different version', 'forecasting skill', 'great one', 'interdisciplinary method', 'workshop', 'tool']\nIRB Basics Part II: Handling Your Data and Assessing Risks &amp; Benefits -- ['IRB Basics', 'NC State IRB application', 'additional information', 'risk mitigation strategy', 'datum security', 'data lifecycle', 'workshop', 'course', 'attendee', 'seasoned researcher']\nGetting Started with eTextiles -- ['unique wearable project', 'electronic prototyping', 'session', 'practical knowledge', 'WORKSHOP PRE', 'electronic component', 'creative project', 'conductive thread', 'sewing', 'prior experience']\nIRB Topical Workshop: IRB Process and IT Professionals at NC State University -- ['NC State University', 'NC State University researcher', 'data security management plan', 'human subject research', 'session', 'professional', 'IRB', 'IRB expectation', 'research ethic', 'brief overview']\nCommunicating your research using impact metrics -- ['nontraditional scholarly metric', 'great impact', 'common tool', 'workshop', 'society', 'introduction', 'research', 'evidence', 'measurement', 'story']\nIRB Topical Workshop: When Research Overlaps with Normal Education Practices -- ['Evaluation training session', 'generalizable knowledge conversation', 'Action Research', 'educational session', 'educational setting', 'research', 'educational practice', 'research project', 'IRB application', 'multiple role']\nGetting Started with 3D Design -- ['D.H. Hill Makerspace Orientation', 'free online 3d design', 'Hunt Library Makerspaces', '3d design software', 'workshop', '3d printing', '3d printing workshop', 'option available', 'design suitable', 'workshop pre']\nIntroduction to Programming with Python - Part 1 -- ['basic data structure', 'Python programming language', 'workshop', 'fundamental concept', 'control flow', 'datum type', 'core understanding', 'basic script', 'hand', 'end']\nCreating Virtual Realities From Home -- ['interactive 3D web scene', 'simple markdown language AFrame', 'mixed reality scene', 'virtual reality', 'virtual reality scene', 'responsive digital environment', 'technology toolkit', 'previous technical knowledge', 'creative coding concept', 'new possibility']\nIRB Topical Workshop: Using “Apps” and other Software in Research with Human Subjects -- ['software datum security', 'app', 'Discussion end point device', 'datum management', 'user term', 'session', 'exclusion issue', 'Code Review', 'homegrown', 'participant inclusion']\nIRB Topical Workshop: Using Secondary Data in Research -- ['secondary datum', 'session participant', 'NC State University Libraries', 'IRB application', 'Data security', 'Review option', 'use', 'IRB workshop series', 'seasoned researcher', 'research project']\nCampus Conversations Project: Righteousness and Relationship -- ['NC State student', 'political spectrum?The guide', 'Campus Conversation Project', 'student volunteer', 'prior preparation', 'culture war', 'friend', 'way', 'need', 'problem']\nIntroduction to Programming with Python - Part 2 -- ['basic data structure', 'Python programming language', 'workshop', 'fundamental concept', 'control flow', 'datum type', 'core understanding', 'basic script', 'hand', 'end']\nIRB Topical Workshop: DoD Affiliated Research Projects -- ['NC State IRB process', 'NC State IRB application', 'human subject research', 'specific research protocol', 'DoD', 'complete introductory training', 'additional step', 'specific requirement', 'research project', 'workshop']\nIRB Basics: eIRB Application Workshop -- ['CITI training tutorial', 'NC State', 'IRB application', 'workshop', 'PRP program', 'online training', 'business hour', 'research design', 'time', 'student']\nIRB Topical Workshop: The IRB and Qualitative Research  -- ['qualitative datum management', 'participant relationship management', 'party participant risk', 'mandatory reporting obligation', 'Normal Education Practices', 'qualitative research endeavor', 'open ended survey', 'ethical consideration', 'discussion', 'researcher']\nPython Open Lab 1 -- ['Pandas data analysis library', 'core concept', 'JSON file', 'open time', 'datum', 'open lab', 'specific concept', 'Pandas library', 'supported environment', 'datum format']\nGetting Started with Hand Embroidery -- ['digital machine embroidery', 'classic hand embroidery', 'century old practice', 'practical use', 'clothing article', 'participant', 'basic introduction', 'type', 'embroidery hoop', 'embroidery embellishment']\nIRB Topical Workshop: When Research and Evaluation/Assessment Practices Overlap -- ['Normal Education Practices', 'generalizable knowledge conversation', 'session', 'research project', 'researcher', 'training situation', 'training session', 'IRB application', 'multiple role', 'review level']\nSignals of Change: Seeing the Future, Today -- ['future', 'workshop', 'good precursor', 'signal', 'academic life', 'change', 'raw material', 'specific example', 'signal spotting', 'present']\nGetting Started with 3D Design -- ['D.H. Hill Makerspace Orientation', 'free online 3d design', 'Hunt Library Makerspaces', '3d design software', 'workshop', '3d printing', '3d printing workshop', 'option available', 'design suitable', 'workshop pre']\nIRB Topical Workshop: Research Collaborations -- ['Individual Investigator Agreements', 'Collaborative Research regulation', 'Common IRB issue', 'new IRB regulation', 'human subject research', 'institutional researcher', 'single IRB', 'reliance agreement', 'NC State', 'successful collaboration']\nIRB Basics Part I:  An Introduction to the IRB process at NC State -- ['NC State University Libraries', 'human subject research practice', 'topical IRB workshop', 'eirb application', 'IRB history', 'basic overview', 'seasoned researcher', 'IRB process', 'IRB Basics', 'IRB approval']\nPython Open Lab 2 -- ['Pandas data analysis library', 'core concept', 'datum', 'common method', 'supported environment', 'open time', 'specific concept', 'open lab', 'dataset', 'open time participant']\nIRB Basics Part II: Handling Your Data and Assessing Risks &amp; Benefits -- ['IRB Basics', 'NC State IRB application', 'additional information', 'risk mitigation strategy', 'datum security', 'data lifecycle', 'workshop', 'course', 'attendee', 'seasoned researcher']\nPython Open Lab 3 -- ['common exploratory analysis method', 'Pandas data analysis library', 'Python visualization library', 'core concept', 'supported environment', 'open lab', 'specific concept', 'open time', 'open time participant', 'activity']\nIRB Basics: eIRB Application Workshop -- ['CITI training tutorial', 'NC State', 'IRB application', 'workshop', 'PRP program', 'online training', 'business hour', 'research design', 'time', 'student']\nIRB Basics: eIRB Application Workshop -- ['CITI training tutorial', 'NC State', 'IRB application', 'workshop', 'PRP program', 'online training', 'business hour', 'research design', 'time', 'student']\n"
     ]
    }
   ],
   "source": [
    "for i in range(len(df[\"title\"])):\n",
    "    print(df[\"title\"][i], \"--\", df[\"keywords\"][i])"
   ]
  },
  {
   "source": [
    "## Titles and descriptions\n",
    "\n",
    "Let's find out whether the descriptions use the same words as the title. "
   ],
   "cell_type": "markdown",
   "metadata": {}
  },
  {
   "cell_type": "code",
   "execution_count": 80,
   "metadata": {},
   "outputs": [],
   "source": [
    "def check_title_body(title, body):\n",
    "    title_words = title.split()\n",
    "    words_in_body = []\n",
    "    for word in title_words:\n",
    "        if word in body:\n",
    "            words_in_body.append(word)\n",
    "    return words_in_body"
   ]
  },
  {
   "cell_type": "code",
   "execution_count": 81,
   "metadata": {},
   "outputs": [
    {
     "output_type": "execute_result",
     "data": {
      "text/plain": [
       "['IRB', 'eIRB']"
      ]
     },
     "metadata": {},
     "execution_count": 81
    }
   ],
   "source": [
    "check_title_body(df[\"title\"][0], df[\"body\"][0])"
   ]
  },
  {
   "cell_type": "code",
   "execution_count": 84,
   "metadata": {},
   "outputs": [],
   "source": [
    "title_words_in_body = [check_title_body(df[\"title\"][i], df[\"body\"][i]) for i in range(len(df[\"title\"]))]\n",
    "df[\"title_words_in_body\"] = title_words_in_body"
   ]
  },
  {
   "cell_type": "code",
   "execution_count": 85,
   "metadata": {},
   "outputs": [
    {
     "output_type": "execute_result",
     "data": {
      "text/plain": [
       "   Unnamed: 0                                              title    nid  \\\n",
       "0           0              IRB Basics: eIRB Application Workshop  57007   \n",
       "1           1  Campus Conversations Project: Inauguration Day...  57129   \n",
       "2           2  IRB Basics Part II: Handling Your Data and Ass...  57017   \n",
       "3           3  IRB Topical Workshop: IRB Process and IT Profe...  57103   \n",
       "4           4  IRB Topical Workshop: Using “Apps” and other S...  56995   \n",
       "\n",
       "                              field_time_d8  \\\n",
       "0   01-20-2021 10:00AM to 01-20-2021 1:00PM   \n",
       "1    01-20-2021 7:00PM to 01-20-2021 8:30PM   \n",
       "2    01-21-2021 1:00PM to 01-21-2021 4:00PM   \n",
       "3    01-21-2021 3:00PM to 01-21-2021 5:00PM   \n",
       "4  01-25-2021 10:00AM to 01-25-2021 12:00PM   \n",
       "\n",
       "                                                body  \\\n",
       "0  This workshop provides an overview of how to w...   \n",
       "1  Trained student volunteers from the Campus Con...   \n",
       "2  This workshop builds upon the IRB Basics: Part...   \n",
       "3  This session is specifically for IT profession...   \n",
       "4  This session will discuss the use of “off the ...   \n",
       "\n",
       "                              field_registration_url  \\\n",
       "0  <a href=\"https://reporter.ncsu.edu/link/instan...   \n",
       "1  <a href=\"https://reporter.ncsu.edu/link/instan...   \n",
       "2  <a href=\"https://reporter.ncsu.edu/link/instan...   \n",
       "3  <a href=\"https://reporter.ncsu.edu/link/instan...   \n",
       "4  <a href=\"https://reporter.ncsu.edu/link/instan...   \n",
       "\n",
       "  field_non_library_instructor  \\\n",
       "0                   Yael Allen   \n",
       "1               Morgan DiCarlo   \n",
       "2                   Yael Allen   \n",
       "3                          NaN   \n",
       "4                          NaN   \n",
       "\n",
       "                         field_workshop_leads_export field_workshop_series  \\\n",
       "0                                                 []     Research Strategy   \n",
       "1  [{'id': '279', 'url': 'https://www.lib.ncsu.ed...                   NaN   \n",
       "2                                                 []                   NaN   \n",
       "3                                                 []                   NaN   \n",
       "4                                                 []                   NaN   \n",
       "\n",
       "  field_workshop_user_activities field_non_libraries_space_1  field_space  \\\n",
       "0                            NaN                 Online only          NaN   \n",
       "1                            NaN                 Online only          NaN   \n",
       "2                            NaN                 Online only          NaN   \n",
       "3           Grants &amp; Funding                 Online only          NaN   \n",
       "4           Grants &amp; Funding                 Online only          NaN   \n",
       "\n",
       "   body_word_count                                           keywords  \\\n",
       "0              289  [CITI training tutorial, NC State, IRB applica...   \n",
       "1              115  [current NC State student, Campus Conversation...   \n",
       "2               71  [IRB Basics, NC State IRB application, additio...   \n",
       "3              144  [NC State University, NC State University rese...   \n",
       "4              172  [software datum security, app, Discussion end ...   \n",
       "\n",
       "                              title_words_in_body  \n",
       "0                                     [IRB, eIRB]  \n",
       "1                      [Campus, Inauguration, of]  \n",
       "2                        [IRB, Basics, Part, and]  \n",
       "3  [IRB, IRB, and, IT, at, NC, State, University]  \n",
       "4                            [IRB, and, in, with]  "
      ],
      "text/html": "<div>\n<style scoped>\n    .dataframe tbody tr th:only-of-type {\n        vertical-align: middle;\n    }\n\n    .dataframe tbody tr th {\n        vertical-align: top;\n    }\n\n    .dataframe thead th {\n        text-align: right;\n    }\n</style>\n<table border=\"1\" class=\"dataframe\">\n  <thead>\n    <tr style=\"text-align: right;\">\n      <th></th>\n      <th>Unnamed: 0</th>\n      <th>title</th>\n      <th>nid</th>\n      <th>field_time_d8</th>\n      <th>body</th>\n      <th>field_registration_url</th>\n      <th>field_non_library_instructor</th>\n      <th>field_workshop_leads_export</th>\n      <th>field_workshop_series</th>\n      <th>field_workshop_user_activities</th>\n      <th>field_non_libraries_space_1</th>\n      <th>field_space</th>\n      <th>body_word_count</th>\n      <th>keywords</th>\n      <th>title_words_in_body</th>\n    </tr>\n  </thead>\n  <tbody>\n    <tr>\n      <th>0</th>\n      <td>0</td>\n      <td>IRB Basics: eIRB Application Workshop</td>\n      <td>57007</td>\n      <td>01-20-2021 10:00AM to 01-20-2021 1:00PM</td>\n      <td>This workshop provides an overview of how to w...</td>\n      <td>&lt;a href=\"https://reporter.ncsu.edu/link/instan...</td>\n      <td>Yael Allen</td>\n      <td>[]</td>\n      <td>Research Strategy</td>\n      <td>NaN</td>\n      <td>Online only</td>\n      <td>NaN</td>\n      <td>289</td>\n      <td>[CITI training tutorial, NC State, IRB applica...</td>\n      <td>[IRB, eIRB]</td>\n    </tr>\n    <tr>\n      <th>1</th>\n      <td>1</td>\n      <td>Campus Conversations Project: Inauguration Day...</td>\n      <td>57129</td>\n      <td>01-20-2021 7:00PM to 01-20-2021 8:30PM</td>\n      <td>Trained student volunteers from the Campus Con...</td>\n      <td>&lt;a href=\"https://reporter.ncsu.edu/link/instan...</td>\n      <td>Morgan DiCarlo</td>\n      <td>[{'id': '279', 'url': 'https://www.lib.ncsu.ed...</td>\n      <td>NaN</td>\n      <td>NaN</td>\n      <td>Online only</td>\n      <td>NaN</td>\n      <td>115</td>\n      <td>[current NC State student, Campus Conversation...</td>\n      <td>[Campus, Inauguration, of]</td>\n    </tr>\n    <tr>\n      <th>2</th>\n      <td>2</td>\n      <td>IRB Basics Part II: Handling Your Data and Ass...</td>\n      <td>57017</td>\n      <td>01-21-2021 1:00PM to 01-21-2021 4:00PM</td>\n      <td>This workshop builds upon the IRB Basics: Part...</td>\n      <td>&lt;a href=\"https://reporter.ncsu.edu/link/instan...</td>\n      <td>Yael Allen</td>\n      <td>[]</td>\n      <td>NaN</td>\n      <td>NaN</td>\n      <td>Online only</td>\n      <td>NaN</td>\n      <td>71</td>\n      <td>[IRB Basics, NC State IRB application, additio...</td>\n      <td>[IRB, Basics, Part, and]</td>\n    </tr>\n    <tr>\n      <th>3</th>\n      <td>3</td>\n      <td>IRB Topical Workshop: IRB Process and IT Profe...</td>\n      <td>57103</td>\n      <td>01-21-2021 3:00PM to 01-21-2021 5:00PM</td>\n      <td>This session is specifically for IT profession...</td>\n      <td>&lt;a href=\"https://reporter.ncsu.edu/link/instan...</td>\n      <td>NaN</td>\n      <td>[]</td>\n      <td>NaN</td>\n      <td>Grants &amp;amp; Funding</td>\n      <td>Online only</td>\n      <td>NaN</td>\n      <td>144</td>\n      <td>[NC State University, NC State University rese...</td>\n      <td>[IRB, IRB, and, IT, at, NC, State, University]</td>\n    </tr>\n    <tr>\n      <th>4</th>\n      <td>4</td>\n      <td>IRB Topical Workshop: Using “Apps” and other S...</td>\n      <td>56995</td>\n      <td>01-25-2021 10:00AM to 01-25-2021 12:00PM</td>\n      <td>This session will discuss the use of “off the ...</td>\n      <td>&lt;a href=\"https://reporter.ncsu.edu/link/instan...</td>\n      <td>NaN</td>\n      <td>[]</td>\n      <td>NaN</td>\n      <td>Grants &amp;amp; Funding</td>\n      <td>Online only</td>\n      <td>NaN</td>\n      <td>172</td>\n      <td>[software datum security, app, Discussion end ...</td>\n      <td>[IRB, and, in, with]</td>\n    </tr>\n  </tbody>\n</table>\n</div>"
     },
     "metadata": {},
     "execution_count": 85
    }
   ],
   "source": [
    "df.head()"
   ]
  },
  {
   "cell_type": "code",
   "execution_count": 86,
   "metadata": {},
   "outputs": [],
   "source": [
    "df.to_csv(\"current-workshops-anno.csv\")"
   ]
  },
  {
   "source": [
    "## Text summarization with transformers\n",
    "\n",
    "Many of the descriptions are already short enough that they don't need summarization, but what can we see?"
   ],
   "cell_type": "markdown",
   "metadata": {}
  },
  {
   "cell_type": "code",
   "execution_count": 103,
   "metadata": {},
   "outputs": [],
   "source": [
    "from transformers import pipeline\n",
    "from transformers import AutoModelWithLMHead, AutoTokenizer"
   ]
  },
  {
   "cell_type": "code",
   "execution_count": 88,
   "metadata": {},
   "outputs": [
    {
     "output_type": "stream",
     "name": "stderr",
     "text": [
      "Downloading: 100%|██████████| 1.62k/1.62k [00:00<00:00, 606kB/s]\n",
      "Downloading: 100%|██████████| 1.22G/1.22G [00:28<00:00, 43.6MB/s]\n",
      "Downloading: 100%|██████████| 899k/899k [00:00<00:00, 6.82MB/s]\n",
      "Downloading: 100%|██████████| 456k/456k [00:00<00:00, 4.33MB/s]\n",
      "Downloading: 100%|██████████| 26.0/26.0 [00:00<00:00, 14.9kB/s]\n"
     ]
    }
   ],
   "source": [
    "summarizer = pipeline(\"summarization\")"
   ]
  },
  {
   "cell_type": "code",
   "execution_count": 102,
   "metadata": {},
   "outputs": [
    {
     "output_type": "execute_result",
     "data": {
      "text/plain": [
       "[{'summary_text': ' This session is specifically for IT professionals working with NC State University researchers completing research with human subjects . In order to participate in this session, you must be an IT professional at NC State . This session includes the following topics: Brief overview of the history of research ethics in the U.S. and the IRB .'}]"
      ]
     },
     "metadata": {},
     "execution_count": 102
    }
   ],
   "source": [
    "summarizer(df[\"body\"][63])"
   ]
  },
  {
   "cell_type": "code",
   "execution_count": 101,
   "metadata": {},
   "outputs": [
    {
     "output_type": "execute_result",
     "data": {
      "text/plain": [
       "'This session is specifically for IT professionals working at NC State University who work with NC State University researchers completing research with human subjects or are they themselves interested in learning more about the IRB and human subjects research. In order to participate in this session, you must be an IT professional at NC State University.\\n\\nThis session includes the following topics:\\n\\nBrief overview of the history of research ethics in the U.S and the IRB\\n\\tThe IRB at NC State University and why and how it functions\\n\\tReview of IRB expectations for data security and privacy as related to levels of risk to participants, including what is communicated or taught to researchers\\n\\tWays that IT professionals can assist their researchers in the development of a data security management plan in accordance with IRB expectations\\n\\tDiscussion relating to any session participant questions or ideas\\n'"
      ]
     },
     "metadata": {},
     "execution_count": 101
    }
   ],
   "source": [
    "df[\"body\"][63]"
   ]
  },
  {
   "cell_type": "code",
   "execution_count": 111,
   "metadata": {},
   "outputs": [],
   "source": [
    "summarizert5 = pipeline(\"summarization\", model=\"t5-base\", tokenizer=\"t5-base\")"
   ]
  },
  {
   "cell_type": "code",
   "execution_count": 114,
   "metadata": {},
   "outputs": [
    {
     "output_type": "execute_result",
     "data": {
      "text/plain": [
       "[{'summary_text': 'this session is specifically for IT professionals working at NC State University . participants must be an IT professional at the university . this session includes the following topics: Brief overview of the history of research'}]"
      ]
     },
     "metadata": {},
     "execution_count": 114
    }
   ],
   "source": [
    "summarizert5(df[\"body\"][63], max_length=40)"
   ]
  },
  {
   "cell_type": "code",
   "execution_count": 104,
   "metadata": {},
   "outputs": [
    {
     "output_type": "stream",
     "name": "stderr",
     "text": [
      "Downloading: 100%|██████████| 1.20k/1.20k [00:00<00:00, 515kB/s]\n",
      "Downloading: 100%|██████████| 892M/892M [00:18<00:00, 48.7MB/s]\n",
      "Downloading: 100%|██████████| 792k/792k [00:00<00:00, 6.30MB/s]\n",
      "Downloading: 100%|██████████| 1.39M/1.39M [00:00<00:00, 7.19MB/s]\n"
     ]
    }
   ],
   "source": [
    "model = AutoModelWithLMHead.from_pretrained(\"t5-base\")\n",
    "tokenizer = AutoTokenizer.from_pretrained(\"t5-base\")"
   ]
  },
  {
   "cell_type": "code",
   "execution_count": 105,
   "metadata": {},
   "outputs": [
    {
     "output_type": "stream",
     "name": "stderr",
     "text": [
      "Truncation was not explicitly activated but `max_length` is provided a specific value, please use `truncation=True` to explicitly truncate examples to max length. Defaulting to 'longest_first' truncation strategy. If you encode pairs of sequences (GLUE-style) with the tokenizer you can select this strategy more precisely by providing a specific strategy to `truncation`.\n"
     ]
    }
   ],
   "source": [
    "inputs = tokenizer.encode(\"summarize: \" + df[\"body\"][63], return_tensors=\"pt\", max_length=512)\n",
    "outputs = model.generate(inputs, max_length=120, min_length=40, length_penalty=2.0, num_beams=4, early_stopping=True)"
   ]
  },
  {
   "cell_type": "code",
   "execution_count": 107,
   "metadata": {},
   "outputs": [
    {
     "output_type": "execute_result",
     "data": {
      "text/plain": [
       "'<pad> this session is specifically for IT professionals working at NC State University. it is for researchers completing research with human subjects or are they themselves interested in learning more about the IRB. this session includes the following topics: Brief overview of the history of research ethics in the u.s.</s>'"
      ]
     },
     "metadata": {},
     "execution_count": 107
    }
   ],
   "source": [
    "tokenizer.decode(outputs[0])"
   ]
  },
  {
   "cell_type": "code",
   "execution_count": 116,
   "metadata": {},
   "outputs": [
    {
     "output_type": "stream",
     "name": "stdout",
     "text": [
      "[{'summary_text': 'this workshop provides an overview of how to write your eIRB application . it is designed for first-time IRB application filers and NC State students . participation in the Priority Review Process (PRP) program is limited to students only .'}]\n",
      "[{'summary_text': 'this workshop provides an overview of how to write your eIRB application . it is designed for first-time IRB application filers and NC State students . participation in the Priority Review Process (PRP) program is limited to students only .'}]\n",
      "[{'summary_text': 'this workshop will explain what git is good for, how it works, what GitHub is, how to set up repositories and keep them synced . it will also see how it is integrated with tools like MATLAB® and R .'}]\n",
      "[{'summary_text': 'this workshop provides an overview of how to write your eIRB application . it is designed for first-time IRB application filers and NC State students . participation in the Priority Review Process (PRP) program is limited to students only .'}]\n",
      "[{'summary_text': 'this workshop provides an overview of how to write your eIRB application . it is designed for first-time IRB application filers and NC State students . participation in the Priority Review Process (PRP) program is limited to students only .'}]\n",
      "[{'summary_text': 'this workshop provides an overview of how to write your eIRB application . it is designed for first-time IRB application filers and NC State students . participation in the Priority Review Process (PRP) program is limited to students only .'}]\n",
      "[{'summary_text': 'this workshop provides an overview of how to write your eIRB application . it is designed for first-time IRB application filers and NC State students . participation in the Priority Review Process (PRP) program is limited to students only .'}]\n"
     ]
    }
   ],
   "source": [
    "for desc in df[\"body\"]:\n",
    "    if len(desc.split()) > 200:\n",
    "        print(summarizert5(desc))"
   ]
  },
  {
   "cell_type": "code",
   "execution_count": null,
   "metadata": {},
   "outputs": [],
   "source": []
  }
 ],
 "metadata": {
  "kernelspec": {
   "display_name": "Lib NLP Project",
   "language": "python",
   "name": "libnlp"
  },
  "language_info": {
   "codemirror_mode": {
    "name": "ipython",
    "version": 3
   },
   "file_extension": ".py",
   "mimetype": "text/x-python",
   "name": "python",
   "nbconvert_exporter": "python",
   "pygments_lexer": "ipython3",
   "version": "3.9.0-final"
  },
  "orig_nbformat": 2
 },
 "nbformat": 4,
 "nbformat_minor": 2
}