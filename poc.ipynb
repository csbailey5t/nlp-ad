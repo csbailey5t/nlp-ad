{
 "metadata": {
  "language_info": {
   "codemirror_mode": {
    "name": "ipython",
    "version": 3
   },
   "file_extension": ".py",
   "mimetype": "text/x-python",
   "name": "python",
   "nbconvert_exporter": "python",
   "pygments_lexer": "ipython3",
   "version": "3.9.0-final"
  },
  "orig_nbformat": 2,
  "kernelspec": {
   "name": "libnlp",
   "display_name": "Lib NLP Project",
   "language": "python"
  }
 },
 "nbformat": 4,
 "nbformat_minor": 2,
 "cells": [
  {
   "cell_type": "code",
   "execution_count": 25,
   "metadata": {},
   "outputs": [],
   "source": [
    "from datetime import date\n",
    "import pandas as pd\n",
    "import re\n",
    "import requests"
   ]
  },
  {
   "source": [
    "## Pull data"
   ],
   "cell_type": "markdown",
   "metadata": {}
  },
  {
   "cell_type": "code",
   "execution_count": 2,
   "metadata": {},
   "outputs": [],
   "source": [
    "url = \"https://www.lib.ncsu.edu/api/workshops/all\""
   ]
  },
  {
   "cell_type": "code",
   "execution_count": 3,
   "metadata": {},
   "outputs": [
    {
     "output_type": "execute_result",
     "data": {
      "text/plain": [
       "<Response [200]>"
      ]
     },
     "metadata": {},
     "execution_count": 3
    }
   ],
   "source": [
    "r = requests.get(url)\n",
    "r"
   ]
  },
  {
   "cell_type": "code",
   "execution_count": 11,
   "metadata": {},
   "outputs": [],
   "source": [
    "data = r.json()"
   ]
  },
  {
   "cell_type": "code",
   "execution_count": 12,
   "metadata": {},
   "outputs": [
    {
     "output_type": "execute_result",
     "data": {
      "text/plain": [
       "{'title': 'IRB Basics Part I:  An Introduction to the IRB process at NC State',\n",
       " 'field_time_d8': '01-19-2021 9:00AM to 01-19-2021 10:00AM',\n",
       " 'body': '<p><span>The IRB process can seem overwhelming, even to seasoned researchers. This workshop will <span><span>provide a basic overview of IRB history, operations, and how to write your eIRB application. It is designed for individuals with little to no background in human subjects research practices at NC State University and serves as a foundation for the IRB Basics Part 2 course and all of the topical IRB workshops offered through the NC State University Libraries.</span></span></span></p>\\n\\n<p><span>Documents for the workshop:</span></p>\\n\\n<ul><li><a href=\"https://drive.google.com/file/d/16DNz5VsSOgbTYXLrzLezNiywVlIDYOj_/view\">What is research and needs IRB approval</a></li>\\n\\t<li><a href=\"https://drive.google.com/file/d/1sWE8JuB5Ms3Kl_f4TEHJMymcAzdndMgZ/view\">Research during COVID-19</a></li>\\n\\t<li><a href=\"https://research.ncsu.edu/sparcs/files/2019/10/eIRB-Tutorial.pdf\">eIRB screenshot tutoria</a><span><span>l</span></span></li>\\n\\t<li><a href=\"https://research.ncsu.edu/sparcs/files/2019/10/eIRB-sample-protocol.pdf\">Sample initial protocol</a></li>\\n</ul>',\n",
       " 'field_non_library_instructor': '\\nYael Allen\\n\\n',\n",
       " 'field_workshop_leads_export': [],\n",
       " 'field_workshop_series': '',\n",
       " 'field_workshop_user_activities': 'Grants &amp; Funding',\n",
       " 'field_non_libraries_space_1': 'Online only',\n",
       " 'field_space': ''}"
      ]
     },
     "metadata": {},
     "execution_count": 12
    }
   ],
   "source": [
    "data[0]"
   ]
  },
  {
   "cell_type": "code",
   "execution_count": 13,
   "metadata": {},
   "outputs": [
    {
     "output_type": "execute_result",
     "data": {
      "text/plain": [
       "                                                title  \\\n",
       "0   IRB Basics Part I:  An Introduction to the IRB...   \n",
       "1               IRB Basics: eIRB Application Workshop   \n",
       "2   Campus Conversations Project: Inauguration Day...   \n",
       "3   IRB Basics Part II: Handling Your Data and Ass...   \n",
       "4   IRB Topical Workshop: IRB Process and IT Profe...   \n",
       "..                                                ...   \n",
       "76                                  Python Open Lab 2   \n",
       "77  IRB Basics Part II: Handling Your Data and Ass...   \n",
       "78                                  Python Open Lab 3   \n",
       "79              IRB Basics: eIRB Application Workshop   \n",
       "80              IRB Basics: eIRB Application Workshop   \n",
       "\n",
       "                               field_time_d8  \\\n",
       "0    01-19-2021 9:00AM to 01-19-2021 10:00AM   \n",
       "1    01-20-2021 10:00AM to 01-20-2021 1:00PM   \n",
       "2     01-20-2021 7:00PM to 01-20-2021 8:30PM   \n",
       "3     01-21-2021 1:00PM to 01-21-2021 4:00PM   \n",
       "4     01-21-2021 3:00PM to 01-21-2021 5:00PM   \n",
       "..                                       ...   \n",
       "76  04-21-2021 10:00AM to 04-21-2021 12:00PM   \n",
       "77    04-21-2021 3:00PM to 04-21-2021 6:00PM   \n",
       "78  04-28-2021 10:00AM to 04-28-2021 12:00PM   \n",
       "79    06-01-2021 6:00PM to 06-01-2021 9:00PM   \n",
       "80    07-07-2021 1:00PM to 07-07-2021 4:00PM   \n",
       "\n",
       "                                                 body  \\\n",
       "0   <p><span>The IRB process can seem overwhelming...   \n",
       "1   <p><span><span>This workshop provides an overv...   \n",
       "2   <p>Trained student volunteers from the <a href...   \n",
       "3   <p><span>This workshop builds upon the IRB Bas...   \n",
       "4   <p>This session is specifically for IT profess...   \n",
       "..                                                ...   \n",
       "76  <p>Data wrangling with Pandas. This series pro...   \n",
       "77  <p><span>This workshop builds upon the IRB Bas...   \n",
       "78  <p>Exploratory analysis and visualization with...   \n",
       "79  <p><span><span>This workshop provides an overv...   \n",
       "80  <p><span><span>This workshop provides an overv...   \n",
       "\n",
       "   field_non_library_instructor  \\\n",
       "0              \\nYael Allen\\n\\n   \n",
       "1              \\nYael Allen\\n\\n   \n",
       "2          \\nMorgan DiCarlo\\n\\n   \n",
       "3              \\nYael Allen\\n\\n   \n",
       "4                                 \n",
       "..                          ...   \n",
       "76                                \n",
       "77             \\nYael Allen\\n\\n   \n",
       "78                                \n",
       "79             \\nYael Allen\\n\\n   \n",
       "80             \\nYael Allen\\n\\n   \n",
       "\n",
       "                          field_workshop_leads_export field_workshop_series  \\\n",
       "0                                                  []                         \n",
       "1                                                  []                         \n",
       "2   [{'id': '279', 'url': 'https://www.lib.ncsu.ed...                         \n",
       "3                                                  []                         \n",
       "4                                                  []                         \n",
       "..                                                ...                   ...   \n",
       "76  [{'id': '1232', 'url': 'https://www.lib.ncsu.e...                         \n",
       "77                                                 []                         \n",
       "78  [{'id': '1232', 'url': 'https://www.lib.ncsu.e...                         \n",
       "79                                                 []                         \n",
       "80                                                 []                         \n",
       "\n",
       "   field_workshop_user_activities field_non_libraries_space_1 field_space  \n",
       "0            Grants &amp; Funding                 Online only              \n",
       "1                                                 Online only              \n",
       "2                                                 Online only              \n",
       "3                                                 Online only              \n",
       "4            Grants &amp; Funding                 Online only              \n",
       "..                            ...                         ...         ...  \n",
       "76                  Open Research                 Online only              \n",
       "77                                                Online only              \n",
       "78                  Open Research                 Online only              \n",
       "79                                                Online only              \n",
       "80                                                Online only              \n",
       "\n",
       "[81 rows x 9 columns]"
      ],
      "text/html": "<div>\n<style scoped>\n    .dataframe tbody tr th:only-of-type {\n        vertical-align: middle;\n    }\n\n    .dataframe tbody tr th {\n        vertical-align: top;\n    }\n\n    .dataframe thead th {\n        text-align: right;\n    }\n</style>\n<table border=\"1\" class=\"dataframe\">\n  <thead>\n    <tr style=\"text-align: right;\">\n      <th></th>\n      <th>title</th>\n      <th>field_time_d8</th>\n      <th>body</th>\n      <th>field_non_library_instructor</th>\n      <th>field_workshop_leads_export</th>\n      <th>field_workshop_series</th>\n      <th>field_workshop_user_activities</th>\n      <th>field_non_libraries_space_1</th>\n      <th>field_space</th>\n    </tr>\n  </thead>\n  <tbody>\n    <tr>\n      <th>0</th>\n      <td>IRB Basics Part I:  An Introduction to the IRB...</td>\n      <td>01-19-2021 9:00AM to 01-19-2021 10:00AM</td>\n      <td>&lt;p&gt;&lt;span&gt;The IRB process can seem overwhelming...</td>\n      <td>\\nYael Allen\\n\\n</td>\n      <td>[]</td>\n      <td></td>\n      <td>Grants &amp;amp; Funding</td>\n      <td>Online only</td>\n      <td></td>\n    </tr>\n    <tr>\n      <th>1</th>\n      <td>IRB Basics: eIRB Application Workshop</td>\n      <td>01-20-2021 10:00AM to 01-20-2021 1:00PM</td>\n      <td>&lt;p&gt;&lt;span&gt;&lt;span&gt;This workshop provides an overv...</td>\n      <td>\\nYael Allen\\n\\n</td>\n      <td>[]</td>\n      <td></td>\n      <td></td>\n      <td>Online only</td>\n      <td></td>\n    </tr>\n    <tr>\n      <th>2</th>\n      <td>Campus Conversations Project: Inauguration Day...</td>\n      <td>01-20-2021 7:00PM to 01-20-2021 8:30PM</td>\n      <td>&lt;p&gt;Trained student volunteers from the &lt;a href...</td>\n      <td>\\nMorgan DiCarlo\\n\\n</td>\n      <td>[{'id': '279', 'url': 'https://www.lib.ncsu.ed...</td>\n      <td></td>\n      <td></td>\n      <td>Online only</td>\n      <td></td>\n    </tr>\n    <tr>\n      <th>3</th>\n      <td>IRB Basics Part II: Handling Your Data and Ass...</td>\n      <td>01-21-2021 1:00PM to 01-21-2021 4:00PM</td>\n      <td>&lt;p&gt;&lt;span&gt;This workshop builds upon the IRB Bas...</td>\n      <td>\\nYael Allen\\n\\n</td>\n      <td>[]</td>\n      <td></td>\n      <td></td>\n      <td>Online only</td>\n      <td></td>\n    </tr>\n    <tr>\n      <th>4</th>\n      <td>IRB Topical Workshop: IRB Process and IT Profe...</td>\n      <td>01-21-2021 3:00PM to 01-21-2021 5:00PM</td>\n      <td>&lt;p&gt;This session is specifically for IT profess...</td>\n      <td></td>\n      <td>[]</td>\n      <td></td>\n      <td>Grants &amp;amp; Funding</td>\n      <td>Online only</td>\n      <td></td>\n    </tr>\n    <tr>\n      <th>...</th>\n      <td>...</td>\n      <td>...</td>\n      <td>...</td>\n      <td>...</td>\n      <td>...</td>\n      <td>...</td>\n      <td>...</td>\n      <td>...</td>\n      <td>...</td>\n    </tr>\n    <tr>\n      <th>76</th>\n      <td>Python Open Lab 2</td>\n      <td>04-21-2021 10:00AM to 04-21-2021 12:00PM</td>\n      <td>&lt;p&gt;Data wrangling with Pandas. This series pro...</td>\n      <td></td>\n      <td>[{'id': '1232', 'url': 'https://www.lib.ncsu.e...</td>\n      <td></td>\n      <td>Open Research</td>\n      <td>Online only</td>\n      <td></td>\n    </tr>\n    <tr>\n      <th>77</th>\n      <td>IRB Basics Part II: Handling Your Data and Ass...</td>\n      <td>04-21-2021 3:00PM to 04-21-2021 6:00PM</td>\n      <td>&lt;p&gt;&lt;span&gt;This workshop builds upon the IRB Bas...</td>\n      <td>\\nYael Allen\\n\\n</td>\n      <td>[]</td>\n      <td></td>\n      <td></td>\n      <td>Online only</td>\n      <td></td>\n    </tr>\n    <tr>\n      <th>78</th>\n      <td>Python Open Lab 3</td>\n      <td>04-28-2021 10:00AM to 04-28-2021 12:00PM</td>\n      <td>&lt;p&gt;Exploratory analysis and visualization with...</td>\n      <td></td>\n      <td>[{'id': '1232', 'url': 'https://www.lib.ncsu.e...</td>\n      <td></td>\n      <td>Open Research</td>\n      <td>Online only</td>\n      <td></td>\n    </tr>\n    <tr>\n      <th>79</th>\n      <td>IRB Basics: eIRB Application Workshop</td>\n      <td>06-01-2021 6:00PM to 06-01-2021 9:00PM</td>\n      <td>&lt;p&gt;&lt;span&gt;&lt;span&gt;This workshop provides an overv...</td>\n      <td>\\nYael Allen\\n\\n</td>\n      <td>[]</td>\n      <td></td>\n      <td></td>\n      <td>Online only</td>\n      <td></td>\n    </tr>\n    <tr>\n      <th>80</th>\n      <td>IRB Basics: eIRB Application Workshop</td>\n      <td>07-07-2021 1:00PM to 07-07-2021 4:00PM</td>\n      <td>&lt;p&gt;&lt;span&gt;&lt;span&gt;This workshop provides an overv...</td>\n      <td>\\nYael Allen\\n\\n</td>\n      <td>[]</td>\n      <td></td>\n      <td></td>\n      <td>Online only</td>\n      <td></td>\n    </tr>\n  </tbody>\n</table>\n<p>81 rows × 9 columns</p>\n</div>"
     },
     "metadata": {},
     "execution_count": 13
    }
   ],
   "source": [
    "df = pd.DataFrame(data)\n",
    "df"
   ]
  },
  {
   "source": [
    "Strip white spaces from the `field_non_library_instructor` column. "
   ],
   "cell_type": "markdown",
   "metadata": {}
  },
  {
   "cell_type": "code",
   "execution_count": 20,
   "metadata": {},
   "outputs": [
    {
     "output_type": "execute_result",
     "data": {
      "text/plain": [
       "                                               title  \\\n",
       "0  IRB Basics Part I:  An Introduction to the IRB...   \n",
       "1              IRB Basics: eIRB Application Workshop   \n",
       "2  Campus Conversations Project: Inauguration Day...   \n",
       "3  IRB Basics Part II: Handling Your Data and Ass...   \n",
       "4  IRB Topical Workshop: IRB Process and IT Profe...   \n",
       "\n",
       "                             field_time_d8  \\\n",
       "0  01-19-2021 9:00AM to 01-19-2021 10:00AM   \n",
       "1  01-20-2021 10:00AM to 01-20-2021 1:00PM   \n",
       "2   01-20-2021 7:00PM to 01-20-2021 8:30PM   \n",
       "3   01-21-2021 1:00PM to 01-21-2021 4:00PM   \n",
       "4   01-21-2021 3:00PM to 01-21-2021 5:00PM   \n",
       "\n",
       "                                                body  \\\n",
       "0  <p><span>The IRB process can seem overwhelming...   \n",
       "1  <p><span><span>This workshop provides an overv...   \n",
       "2  <p>Trained student volunteers from the <a href...   \n",
       "3  <p><span>This workshop builds upon the IRB Bas...   \n",
       "4  <p>This session is specifically for IT profess...   \n",
       "\n",
       "  field_non_library_instructor  \\\n",
       "0                   Yael Allen   \n",
       "1                   Yael Allen   \n",
       "2               Morgan DiCarlo   \n",
       "3                   Yael Allen   \n",
       "4                                \n",
       "\n",
       "                         field_workshop_leads_export field_workshop_series  \\\n",
       "0                                                 []                         \n",
       "1                                                 []                         \n",
       "2  [{'id': '279', 'url': 'https://www.lib.ncsu.ed...                         \n",
       "3                                                 []                         \n",
       "4                                                 []                         \n",
       "\n",
       "  field_workshop_user_activities field_non_libraries_space_1 field_space  \n",
       "0           Grants &amp; Funding                 Online only              \n",
       "1                                                Online only              \n",
       "2                                                Online only              \n",
       "3                                                Online only              \n",
       "4           Grants &amp; Funding                 Online only              "
      ],
      "text/html": "<div>\n<style scoped>\n    .dataframe tbody tr th:only-of-type {\n        vertical-align: middle;\n    }\n\n    .dataframe tbody tr th {\n        vertical-align: top;\n    }\n\n    .dataframe thead th {\n        text-align: right;\n    }\n</style>\n<table border=\"1\" class=\"dataframe\">\n  <thead>\n    <tr style=\"text-align: right;\">\n      <th></th>\n      <th>title</th>\n      <th>field_time_d8</th>\n      <th>body</th>\n      <th>field_non_library_instructor</th>\n      <th>field_workshop_leads_export</th>\n      <th>field_workshop_series</th>\n      <th>field_workshop_user_activities</th>\n      <th>field_non_libraries_space_1</th>\n      <th>field_space</th>\n    </tr>\n  </thead>\n  <tbody>\n    <tr>\n      <th>0</th>\n      <td>IRB Basics Part I:  An Introduction to the IRB...</td>\n      <td>01-19-2021 9:00AM to 01-19-2021 10:00AM</td>\n      <td>&lt;p&gt;&lt;span&gt;The IRB process can seem overwhelming...</td>\n      <td>Yael Allen</td>\n      <td>[]</td>\n      <td></td>\n      <td>Grants &amp;amp; Funding</td>\n      <td>Online only</td>\n      <td></td>\n    </tr>\n    <tr>\n      <th>1</th>\n      <td>IRB Basics: eIRB Application Workshop</td>\n      <td>01-20-2021 10:00AM to 01-20-2021 1:00PM</td>\n      <td>&lt;p&gt;&lt;span&gt;&lt;span&gt;This workshop provides an overv...</td>\n      <td>Yael Allen</td>\n      <td>[]</td>\n      <td></td>\n      <td></td>\n      <td>Online only</td>\n      <td></td>\n    </tr>\n    <tr>\n      <th>2</th>\n      <td>Campus Conversations Project: Inauguration Day...</td>\n      <td>01-20-2021 7:00PM to 01-20-2021 8:30PM</td>\n      <td>&lt;p&gt;Trained student volunteers from the &lt;a href...</td>\n      <td>Morgan DiCarlo</td>\n      <td>[{'id': '279', 'url': 'https://www.lib.ncsu.ed...</td>\n      <td></td>\n      <td></td>\n      <td>Online only</td>\n      <td></td>\n    </tr>\n    <tr>\n      <th>3</th>\n      <td>IRB Basics Part II: Handling Your Data and Ass...</td>\n      <td>01-21-2021 1:00PM to 01-21-2021 4:00PM</td>\n      <td>&lt;p&gt;&lt;span&gt;This workshop builds upon the IRB Bas...</td>\n      <td>Yael Allen</td>\n      <td>[]</td>\n      <td></td>\n      <td></td>\n      <td>Online only</td>\n      <td></td>\n    </tr>\n    <tr>\n      <th>4</th>\n      <td>IRB Topical Workshop: IRB Process and IT Profe...</td>\n      <td>01-21-2021 3:00PM to 01-21-2021 5:00PM</td>\n      <td>&lt;p&gt;This session is specifically for IT profess...</td>\n      <td></td>\n      <td>[]</td>\n      <td></td>\n      <td>Grants &amp;amp; Funding</td>\n      <td>Online only</td>\n      <td></td>\n    </tr>\n  </tbody>\n</table>\n</div>"
     },
     "metadata": {},
     "execution_count": 20
    }
   ],
   "source": [
    "df[\"field_non_library_instructor\"] = df[\"field_non_library_instructor\"].str.strip()\n",
    "df.head()"
   ]
  },
  {
   "source": [
    "Remove HTML tags from `body`."
   ],
   "cell_type": "markdown",
   "metadata": {}
  },
  {
   "cell_type": "code",
   "execution_count": 22,
   "metadata": {},
   "outputs": [],
   "source": [
    "def strip_html_tags(text: str) -> str:\n",
    "    tag = re.compile(\"<.*?>\")\n",
    "    return re.sub(tag, \"\", text)\n"
   ]
  },
  {
   "cell_type": "code",
   "execution_count": 23,
   "metadata": {},
   "outputs": [
    {
     "output_type": "execute_result",
     "data": {
      "text/plain": [
       "                                               title  \\\n",
       "0  IRB Basics Part I:  An Introduction to the IRB...   \n",
       "1              IRB Basics: eIRB Application Workshop   \n",
       "2  Campus Conversations Project: Inauguration Day...   \n",
       "3  IRB Basics Part II: Handling Your Data and Ass...   \n",
       "4  IRB Topical Workshop: IRB Process and IT Profe...   \n",
       "\n",
       "                             field_time_d8  \\\n",
       "0  01-19-2021 9:00AM to 01-19-2021 10:00AM   \n",
       "1  01-20-2021 10:00AM to 01-20-2021 1:00PM   \n",
       "2   01-20-2021 7:00PM to 01-20-2021 8:30PM   \n",
       "3   01-21-2021 1:00PM to 01-21-2021 4:00PM   \n",
       "4   01-21-2021 3:00PM to 01-21-2021 5:00PM   \n",
       "\n",
       "                                                body  \\\n",
       "0  The IRB process can seem overwhelming, even to...   \n",
       "1  This workshop provides an overview of how to w...   \n",
       "2  Trained student volunteers from the Campus Con...   \n",
       "3  This workshop builds upon the IRB Basics: Part...   \n",
       "4  This session is specifically for IT profession...   \n",
       "\n",
       "  field_non_library_instructor  \\\n",
       "0                   Yael Allen   \n",
       "1                   Yael Allen   \n",
       "2               Morgan DiCarlo   \n",
       "3                   Yael Allen   \n",
       "4                                \n",
       "\n",
       "                         field_workshop_leads_export field_workshop_series  \\\n",
       "0                                                 []                         \n",
       "1                                                 []                         \n",
       "2  [{'id': '279', 'url': 'https://www.lib.ncsu.ed...                         \n",
       "3                                                 []                         \n",
       "4                                                 []                         \n",
       "\n",
       "  field_workshop_user_activities field_non_libraries_space_1 field_space  \n",
       "0           Grants &amp; Funding                 Online only              \n",
       "1                                                Online only              \n",
       "2                                                Online only              \n",
       "3                                                Online only              \n",
       "4           Grants &amp; Funding                 Online only              "
      ],
      "text/html": "<div>\n<style scoped>\n    .dataframe tbody tr th:only-of-type {\n        vertical-align: middle;\n    }\n\n    .dataframe tbody tr th {\n        vertical-align: top;\n    }\n\n    .dataframe thead th {\n        text-align: right;\n    }\n</style>\n<table border=\"1\" class=\"dataframe\">\n  <thead>\n    <tr style=\"text-align: right;\">\n      <th></th>\n      <th>title</th>\n      <th>field_time_d8</th>\n      <th>body</th>\n      <th>field_non_library_instructor</th>\n      <th>field_workshop_leads_export</th>\n      <th>field_workshop_series</th>\n      <th>field_workshop_user_activities</th>\n      <th>field_non_libraries_space_1</th>\n      <th>field_space</th>\n    </tr>\n  </thead>\n  <tbody>\n    <tr>\n      <th>0</th>\n      <td>IRB Basics Part I:  An Introduction to the IRB...</td>\n      <td>01-19-2021 9:00AM to 01-19-2021 10:00AM</td>\n      <td>The IRB process can seem overwhelming, even to...</td>\n      <td>Yael Allen</td>\n      <td>[]</td>\n      <td></td>\n      <td>Grants &amp;amp; Funding</td>\n      <td>Online only</td>\n      <td></td>\n    </tr>\n    <tr>\n      <th>1</th>\n      <td>IRB Basics: eIRB Application Workshop</td>\n      <td>01-20-2021 10:00AM to 01-20-2021 1:00PM</td>\n      <td>This workshop provides an overview of how to w...</td>\n      <td>Yael Allen</td>\n      <td>[]</td>\n      <td></td>\n      <td></td>\n      <td>Online only</td>\n      <td></td>\n    </tr>\n    <tr>\n      <th>2</th>\n      <td>Campus Conversations Project: Inauguration Day...</td>\n      <td>01-20-2021 7:00PM to 01-20-2021 8:30PM</td>\n      <td>Trained student volunteers from the Campus Con...</td>\n      <td>Morgan DiCarlo</td>\n      <td>[{'id': '279', 'url': 'https://www.lib.ncsu.ed...</td>\n      <td></td>\n      <td></td>\n      <td>Online only</td>\n      <td></td>\n    </tr>\n    <tr>\n      <th>3</th>\n      <td>IRB Basics Part II: Handling Your Data and Ass...</td>\n      <td>01-21-2021 1:00PM to 01-21-2021 4:00PM</td>\n      <td>This workshop builds upon the IRB Basics: Part...</td>\n      <td>Yael Allen</td>\n      <td>[]</td>\n      <td></td>\n      <td></td>\n      <td>Online only</td>\n      <td></td>\n    </tr>\n    <tr>\n      <th>4</th>\n      <td>IRB Topical Workshop: IRB Process and IT Profe...</td>\n      <td>01-21-2021 3:00PM to 01-21-2021 5:00PM</td>\n      <td>This session is specifically for IT profession...</td>\n      <td></td>\n      <td>[]</td>\n      <td></td>\n      <td>Grants &amp;amp; Funding</td>\n      <td>Online only</td>\n      <td></td>\n    </tr>\n  </tbody>\n</table>\n</div>"
     },
     "metadata": {},
     "execution_count": 23
    }
   ],
   "source": [
    "df[\"body\"] = df[\"body\"].apply(strip_html_tags)\n",
    "df.head()"
   ]
  },
  {
   "source": [
    "Write to csv, with date."
   ],
   "cell_type": "markdown",
   "metadata": {}
  },
  {
   "cell_type": "code",
   "execution_count": 26,
   "metadata": {},
   "outputs": [],
   "source": [
    "df.to_csv(f\"current-workshops-{date.today()}.csv\")"
   ]
  },
  {
   "source": [
    "## Explore text"
   ],
   "cell_type": "markdown",
   "metadata": {}
  },
  {
   "cell_type": "code",
   "execution_count": null,
   "metadata": {},
   "outputs": [],
   "source": []
  }
 ]
}