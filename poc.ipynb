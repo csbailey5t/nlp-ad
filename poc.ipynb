{
 "cells": [
  {
   "cell_type": "code",
   "execution_count": 1,
   "metadata": {},
   "outputs": [],
   "source": [
    "from datetime import date\n",
    "import pandas as pd\n",
    "import re\n",
    "import requests"
   ]
  },
  {
   "cell_type": "markdown",
   "metadata": {},
   "source": [
    "## Pull data"
   ]
  },
  {
   "cell_type": "code",
   "execution_count": 2,
   "metadata": {},
   "outputs": [],
   "source": [
    "url = \"https://www.lib.ncsu.edu/api/workshops/all\""
   ]
  },
  {
   "cell_type": "code",
   "execution_count": 3,
   "metadata": {},
   "outputs": [
    {
     "data": {
      "text/plain": "<Response [200]>"
     },
     "execution_count": 3,
     "metadata": {},
     "output_type": "execute_result"
    }
   ],
   "source": [
    "r = requests.get(url)\n",
    "r"
   ]
  },
  {
   "cell_type": "code",
   "execution_count": 4,
   "metadata": {},
   "outputs": [],
   "source": [
    "data = r.json()"
   ]
  },
  {
   "cell_type": "code",
   "execution_count": 5,
   "metadata": {},
   "outputs": [
    {
     "data": {
      "text/plain": "{'title': 'IRB Basics: eIRB Application Workshop',\n 'nid': '57007',\n 'field_time_d8': '01-20-2021 10:00AM to 01-20-2021 1:00PM',\n 'body': '<p><span><span>This workshop provides an overview of how to write your eIRB application and is designed for first-time IRB application filers and NC State students who want to participate in the </span><a href=\"https://research.ncsu.edu/administration/compliance/research-compliance/irb/irb-for-researchers/priority-review-process/\">Priority Review Process</a><span> (PRP) program. Faculty and staff are welcome to attend this workshop provided that the prerequisites are completed; participation in the PRP program is, however, limited to students only at this time. All workshop attendees must complete the below online training, which has no cost to NC State University affiliates with valid Unity IDs and passwords. To access CITI training, please consult the </span><a href=\"https://drive.google.com/file/d/15On0UevTEaZz9cXk9pVPdSstZPFgjnbO/view\">CITI training tutorial</a><span>. Please submit proofs of training to </span><a href=\"mailto:irb-coordinator-ed@ncsu.edu\">irb-coordinator-ed@ncsu.edu</a><span> 48 business hours in advance to attend the workshop.</span></span></p>\\n\\n<ul><li>\\n\\t<p><span><span>One CITI HSR Basic course most appropriate to your area of research</span></span></p>\\n\\n\\t<ul><li>\\n\\t\\t<p><span><a href=\"https://about.citiprogram.org/en/course/biomedical-biomed-basic/\">Track 1: Biomedical researchers</a></span></p>\\n\\t\\t</li>\\n\\t\\t<li>\\n\\t\\t<p><span><a href=\"https://about.citiprogram.org/en/course/human-subjects-research-2/\">Track 2: Social-behavioral-educational researchers</a></span></p>\\n\\t\\t</li>\\n\\t\\t<li>\\n\\t\\t<p><span><span>Track 3: Biomedical data, biospecimens, and administrative data researchers (custom track, no link available)</span></span></p>\\n\\t\\t</li>\\n\\t</ul></li>\\n\\t<li>\\n\\t<p><span><span>CITI </span><a href=\"https://about.citiprogram.org/en/course/responsible-conduct-of-research-basic/\">Responsible Conduct of Research</a></span></p>\\n\\t</li>\\n\\t<li>\\n\\t<p><span><span>If appropriate to your research design OR your research is funded (state or federal), one of the following CITI GCP courses:</span></span></p>\\n\\n\\t<ul><li>\\n\\t\\t<p><span><a href=\"https://about.citiprogram.org/en/course/gcp-for-clinical-investigations-of-devices/\">Track 1: Working with Devices</a></span></p>\\n\\t\\t</li>\\n\\t\\t<li>\\n\\t\\t<p><span><a href=\"https://about.citiprogram.org/en/course/gcp-social-and-behavioral-research-best-practices-for-clinical-research/\">Track 2: When SBER Research is a Clinical Trial</a></span></p>\\n\\t\\t</li>\\n\\t</ul></li>\\n\\t<li>\\n\\t<p><span><span>If appropriate to your research design, modules from the </span><a href=\"https://about.citiprogram.org/en/course/technology-ethics-and-regulations/\">Technology, Ethics, and Regulations CITI course</a></span></p>\\n\\t</li>\\n\\t<li>\\n\\t<p><span><span>NCSU IRB Overview Video on </span><a href=\"https://reporter.ncsu.edu/\">REPORTER</a></span></p>\\n\\t</li>\\n</ul><p><span><span>You must provide proof of all of the above online training 48 business hours before the workshop to <a href=\"mailto:irb-coordinator-ed@ncsu.edu\">irb-coordinator-ed@ncsu.edu</a> in order to receive the meeting passcode to the Zoom meeting. </span></span></p>\\n\\n<p><span><span>Documents for the workshop:</span></span></p>\\n\\n<ul><li><span><a href=\"https://research.ncsu.edu/administration/compliance/research-compliance/irb/irb-for-researchers/priority-review-process/\">PRP program page</a></span></li>\\n\\t<li><span><a href=\"https://drive.google.com/file/d/1sPOqEYw53TwakQy6CapaN7PNIhxSg1jh/view\">PRP Appendix A</a></span></li>\\n\\t<li><span><a href=\"https://drive.google.com/file/d/1y0CS6wCyqqYnQ1k-HxTYLxP7n09xdJ5F/view\">PRP Appendix B</a></span></li>\\n\\t<li><span><a href=\"https://drive.google.com/file/d/12PFCp9bvs_Su8_3tB6DfAKPBI1z3x6JQ/view\">PRP Appendix C</a></span></li>\\n\\t<li><span><a href=\"https://drive.google.com/file/d/1K9B5s_GZn62o-29Vqf-2i3Mxm3Nll-oW/view\">PRP Appendix D</a></span></li>\\n\\t<li><span><a href=\"https://drive.google.com/file/d/15On0UevTEaZz9cXk9pVPdSstZPFgjnbO/view\">CITI training tutorial</a></span></li>\\n\\t<li><span><a href=\"https://drive.google.com/file/d/1AHbN05kbdL9hEzySzIYI4QFU5ROn6xFt/view\">eIRB screenshot tutorial</a></span></li>\\n\\t<li><span><a href=\"https://research.ncsu.edu/administration/compliance/research-compliance/irb/irb-for-researchers/documentation-application/\">Documentation to submit with your IRB application</a><span> page</span></span></li>\\n\\t<li><span><a href=\"https://drive.google.com/file/d/16DNz5VsSOgbTYXLrzLezNiywVlIDYOj_/view\">What is Research and Needs IRB Approval</a></span></li>\\n\\t<li><span><a href=\"https://drive.google.com/file/d/1vvsicxdIqSOVkXHMlp1DpY1zeonf0471/view\">IRB Handbook</a></span></li>\\n\\t<li><span><a href=\"https://drive.google.com/file/d/1sWE8JuB5Ms3Kl_f4TEHJMymcAzdndMgZ/view\">Research with Humans During COVID-19</a></span></li>\\n</ul>',\n 'field_registration_url': '<a href=\"https://reporter.ncsu.edu/link/instanceview?courseID=LIB-RESRCH-IRBEAPPL&amp;deptName=LIB&amp;instanceID=000011\">https://reporter.ncsu.edu/link/instanceview?courseID=LIB-RESRCH-IRBEAPPL&amp;deptNa…</a>',\n 'field_non_library_instructor': '\\nYael Allen\\n\\n',\n 'field_workshop_leads_export': [],\n 'field_workshop_series': 'Research Strategy',\n 'field_workshop_user_activities': '',\n 'field_non_libraries_space_1': 'Online only',\n 'field_space': ''}"
     },
     "execution_count": 5,
     "metadata": {},
     "output_type": "execute_result"
    }
   ],
   "source": [
    "data[0]"
   ]
  },
  {
   "cell_type": "code",
   "execution_count": 6,
   "metadata": {},
   "outputs": [
    {
     "data": {
      "text/html": "<div>\n<style scoped>\n    .dataframe tbody tr th:only-of-type {\n        vertical-align: middle;\n    }\n\n    .dataframe tbody tr th {\n        vertical-align: top;\n    }\n\n    .dataframe thead th {\n        text-align: right;\n    }\n</style>\n<table border=\"1\" class=\"dataframe\">\n  <thead>\n    <tr style=\"text-align: right;\">\n      <th></th>\n      <th>title</th>\n      <th>nid</th>\n      <th>field_time_d8</th>\n      <th>body</th>\n      <th>field_registration_url</th>\n      <th>field_non_library_instructor</th>\n      <th>field_workshop_leads_export</th>\n      <th>field_workshop_series</th>\n      <th>field_workshop_user_activities</th>\n      <th>field_non_libraries_space_1</th>\n      <th>field_space</th>\n    </tr>\n  </thead>\n  <tbody>\n    <tr>\n      <th>0</th>\n      <td>IRB Basics: eIRB Application Workshop</td>\n      <td>57007</td>\n      <td>01-20-2021 10:00AM to 01-20-2021 1:00PM</td>\n      <td>&lt;p&gt;&lt;span&gt;&lt;span&gt;This workshop provides an overv...</td>\n      <td>&lt;a href=\"https://reporter.ncsu.edu/link/instan...</td>\n      <td>\\nYael Allen\\n\\n</td>\n      <td>[]</td>\n      <td>Research Strategy</td>\n      <td></td>\n      <td>Online only</td>\n      <td></td>\n    </tr>\n    <tr>\n      <th>1</th>\n      <td>Campus Conversations Project: Inauguration Day...</td>\n      <td>57129</td>\n      <td>01-20-2021 7:00PM to 01-20-2021 8:30PM</td>\n      <td>&lt;p&gt;Trained student volunteers from the &lt;a href...</td>\n      <td>&lt;a href=\"https://reporter.ncsu.edu/link/instan...</td>\n      <td>\\nMorgan DiCarlo\\n\\n</td>\n      <td>[{'id': '279', 'url': 'https://www.lib.ncsu.ed...</td>\n      <td></td>\n      <td></td>\n      <td>Online only</td>\n      <td></td>\n    </tr>\n    <tr>\n      <th>2</th>\n      <td>IRB Basics Part II: Handling Your Data and Ass...</td>\n      <td>57017</td>\n      <td>01-21-2021 1:00PM to 01-21-2021 4:00PM</td>\n      <td>&lt;p&gt;&lt;span&gt;This workshop builds upon the IRB Bas...</td>\n      <td>&lt;a href=\"https://reporter.ncsu.edu/link/instan...</td>\n      <td>\\nYael Allen\\n\\n</td>\n      <td>[]</td>\n      <td></td>\n      <td></td>\n      <td>Online only</td>\n      <td></td>\n    </tr>\n    <tr>\n      <th>3</th>\n      <td>IRB Topical Workshop: IRB Process and IT Profe...</td>\n      <td>57103</td>\n      <td>01-21-2021 3:00PM to 01-21-2021 5:00PM</td>\n      <td>&lt;p&gt;This session is specifically for IT profess...</td>\n      <td>&lt;a href=\"https://reporter.ncsu.edu/link/instan...</td>\n      <td></td>\n      <td>[]</td>\n      <td></td>\n      <td>Grants &amp;amp; Funding</td>\n      <td>Online only</td>\n      <td></td>\n    </tr>\n    <tr>\n      <th>4</th>\n      <td>IRB Topical Workshop: Using “Apps” and other S...</td>\n      <td>56995</td>\n      <td>01-25-2021 10:00AM to 01-25-2021 12:00PM</td>\n      <td>&lt;p&gt;This session will discuss the use of “off t...</td>\n      <td>&lt;a href=\"https://reporter.ncsu.edu/link/instan...</td>\n      <td></td>\n      <td>[]</td>\n      <td></td>\n      <td>Grants &amp;amp; Funding</td>\n      <td>Online only</td>\n      <td></td>\n    </tr>\n  </tbody>\n</table>\n</div>",
      "text/plain": "                                               title    nid  \\\n0              IRB Basics: eIRB Application Workshop  57007   \n1  Campus Conversations Project: Inauguration Day...  57129   \n2  IRB Basics Part II: Handling Your Data and Ass...  57017   \n3  IRB Topical Workshop: IRB Process and IT Profe...  57103   \n4  IRB Topical Workshop: Using “Apps” and other S...  56995   \n\n                              field_time_d8  \\\n0   01-20-2021 10:00AM to 01-20-2021 1:00PM   \n1    01-20-2021 7:00PM to 01-20-2021 8:30PM   \n2    01-21-2021 1:00PM to 01-21-2021 4:00PM   \n3    01-21-2021 3:00PM to 01-21-2021 5:00PM   \n4  01-25-2021 10:00AM to 01-25-2021 12:00PM   \n\n                                                body  \\\n0  <p><span><span>This workshop provides an overv...   \n1  <p>Trained student volunteers from the <a href...   \n2  <p><span>This workshop builds upon the IRB Bas...   \n3  <p>This session is specifically for IT profess...   \n4  <p>This session will discuss the use of “off t...   \n\n                              field_registration_url  \\\n0  <a href=\"https://reporter.ncsu.edu/link/instan...   \n1  <a href=\"https://reporter.ncsu.edu/link/instan...   \n2  <a href=\"https://reporter.ncsu.edu/link/instan...   \n3  <a href=\"https://reporter.ncsu.edu/link/instan...   \n4  <a href=\"https://reporter.ncsu.edu/link/instan...   \n\n  field_non_library_instructor  \\\n0             \\nYael Allen\\n\\n   \n1         \\nMorgan DiCarlo\\n\\n   \n2             \\nYael Allen\\n\\n   \n3                                \n4                                \n\n                         field_workshop_leads_export field_workshop_series  \\\n0                                                 []     Research Strategy   \n1  [{'id': '279', 'url': 'https://www.lib.ncsu.ed...                         \n2                                                 []                         \n3                                                 []                         \n4                                                 []                         \n\n  field_workshop_user_activities field_non_libraries_space_1 field_space  \n0                                                Online only              \n1                                                Online only              \n2                                                Online only              \n3           Grants &amp; Funding                 Online only              \n4           Grants &amp; Funding                 Online only              "
     },
     "execution_count": 6,
     "metadata": {},
     "output_type": "execute_result"
    }
   ],
   "source": [
    "df = pd.DataFrame(data)\n",
    "df.head()"
   ]
  },
  {
   "cell_type": "markdown",
   "metadata": {},
   "source": [
    "Strip white spaces from the `field_non_library_instructor` column. "
   ]
  },
  {
   "cell_type": "code",
   "execution_count": 7,
   "metadata": {},
   "outputs": [
    {
     "data": {
      "text/html": "<div>\n<style scoped>\n    .dataframe tbody tr th:only-of-type {\n        vertical-align: middle;\n    }\n\n    .dataframe tbody tr th {\n        vertical-align: top;\n    }\n\n    .dataframe thead th {\n        text-align: right;\n    }\n</style>\n<table border=\"1\" class=\"dataframe\">\n  <thead>\n    <tr style=\"text-align: right;\">\n      <th></th>\n      <th>title</th>\n      <th>nid</th>\n      <th>field_time_d8</th>\n      <th>body</th>\n      <th>field_registration_url</th>\n      <th>field_non_library_instructor</th>\n      <th>field_workshop_leads_export</th>\n      <th>field_workshop_series</th>\n      <th>field_workshop_user_activities</th>\n      <th>field_non_libraries_space_1</th>\n      <th>field_space</th>\n    </tr>\n  </thead>\n  <tbody>\n    <tr>\n      <th>0</th>\n      <td>IRB Basics: eIRB Application Workshop</td>\n      <td>57007</td>\n      <td>01-20-2021 10:00AM to 01-20-2021 1:00PM</td>\n      <td>&lt;p&gt;&lt;span&gt;&lt;span&gt;This workshop provides an overv...</td>\n      <td>&lt;a href=\"https://reporter.ncsu.edu/link/instan...</td>\n      <td>Yael Allen</td>\n      <td>[]</td>\n      <td>Research Strategy</td>\n      <td></td>\n      <td>Online only</td>\n      <td></td>\n    </tr>\n    <tr>\n      <th>1</th>\n      <td>Campus Conversations Project: Inauguration Day...</td>\n      <td>57129</td>\n      <td>01-20-2021 7:00PM to 01-20-2021 8:30PM</td>\n      <td>&lt;p&gt;Trained student volunteers from the &lt;a href...</td>\n      <td>&lt;a href=\"https://reporter.ncsu.edu/link/instan...</td>\n      <td>Morgan DiCarlo</td>\n      <td>[{'id': '279', 'url': 'https://www.lib.ncsu.ed...</td>\n      <td></td>\n      <td></td>\n      <td>Online only</td>\n      <td></td>\n    </tr>\n    <tr>\n      <th>2</th>\n      <td>IRB Basics Part II: Handling Your Data and Ass...</td>\n      <td>57017</td>\n      <td>01-21-2021 1:00PM to 01-21-2021 4:00PM</td>\n      <td>&lt;p&gt;&lt;span&gt;This workshop builds upon the IRB Bas...</td>\n      <td>&lt;a href=\"https://reporter.ncsu.edu/link/instan...</td>\n      <td>Yael Allen</td>\n      <td>[]</td>\n      <td></td>\n      <td></td>\n      <td>Online only</td>\n      <td></td>\n    </tr>\n    <tr>\n      <th>3</th>\n      <td>IRB Topical Workshop: IRB Process and IT Profe...</td>\n      <td>57103</td>\n      <td>01-21-2021 3:00PM to 01-21-2021 5:00PM</td>\n      <td>&lt;p&gt;This session is specifically for IT profess...</td>\n      <td>&lt;a href=\"https://reporter.ncsu.edu/link/instan...</td>\n      <td></td>\n      <td>[]</td>\n      <td></td>\n      <td>Grants &amp;amp; Funding</td>\n      <td>Online only</td>\n      <td></td>\n    </tr>\n    <tr>\n      <th>4</th>\n      <td>IRB Topical Workshop: Using “Apps” and other S...</td>\n      <td>56995</td>\n      <td>01-25-2021 10:00AM to 01-25-2021 12:00PM</td>\n      <td>&lt;p&gt;This session will discuss the use of “off t...</td>\n      <td>&lt;a href=\"https://reporter.ncsu.edu/link/instan...</td>\n      <td></td>\n      <td>[]</td>\n      <td></td>\n      <td>Grants &amp;amp; Funding</td>\n      <td>Online only</td>\n      <td></td>\n    </tr>\n  </tbody>\n</table>\n</div>",
      "text/plain": "                                               title    nid  \\\n0              IRB Basics: eIRB Application Workshop  57007   \n1  Campus Conversations Project: Inauguration Day...  57129   \n2  IRB Basics Part II: Handling Your Data and Ass...  57017   \n3  IRB Topical Workshop: IRB Process and IT Profe...  57103   \n4  IRB Topical Workshop: Using “Apps” and other S...  56995   \n\n                              field_time_d8  \\\n0   01-20-2021 10:00AM to 01-20-2021 1:00PM   \n1    01-20-2021 7:00PM to 01-20-2021 8:30PM   \n2    01-21-2021 1:00PM to 01-21-2021 4:00PM   \n3    01-21-2021 3:00PM to 01-21-2021 5:00PM   \n4  01-25-2021 10:00AM to 01-25-2021 12:00PM   \n\n                                                body  \\\n0  <p><span><span>This workshop provides an overv...   \n1  <p>Trained student volunteers from the <a href...   \n2  <p><span>This workshop builds upon the IRB Bas...   \n3  <p>This session is specifically for IT profess...   \n4  <p>This session will discuss the use of “off t...   \n\n                              field_registration_url  \\\n0  <a href=\"https://reporter.ncsu.edu/link/instan...   \n1  <a href=\"https://reporter.ncsu.edu/link/instan...   \n2  <a href=\"https://reporter.ncsu.edu/link/instan...   \n3  <a href=\"https://reporter.ncsu.edu/link/instan...   \n4  <a href=\"https://reporter.ncsu.edu/link/instan...   \n\n  field_non_library_instructor  \\\n0                   Yael Allen   \n1               Morgan DiCarlo   \n2                   Yael Allen   \n3                                \n4                                \n\n                         field_workshop_leads_export field_workshop_series  \\\n0                                                 []     Research Strategy   \n1  [{'id': '279', 'url': 'https://www.lib.ncsu.ed...                         \n2                                                 []                         \n3                                                 []                         \n4                                                 []                         \n\n  field_workshop_user_activities field_non_libraries_space_1 field_space  \n0                                                Online only              \n1                                                Online only              \n2                                                Online only              \n3           Grants &amp; Funding                 Online only              \n4           Grants &amp; Funding                 Online only              "
     },
     "execution_count": 7,
     "metadata": {},
     "output_type": "execute_result"
    }
   ],
   "source": [
    "df[\"field_non_library_instructor\"] = df[\"field_non_library_instructor\"].str.strip()\n",
    "df.head()"
   ]
  },
  {
   "cell_type": "markdown",
   "metadata": {},
   "source": [
    "Remove HTML tags from `body`."
   ]
  },
  {
   "cell_type": "code",
   "execution_count": 8,
   "metadata": {},
   "outputs": [],
   "source": [
    "def strip_html_tags(text: str) -> str:\n",
    "    tag = re.compile(\"<.*?>\")\n",
    "    return re.sub(tag, \"\", text)\n"
   ]
  },
  {
   "cell_type": "code",
   "execution_count": 9,
   "metadata": {},
   "outputs": [
    {
     "data": {
      "text/html": "<div>\n<style scoped>\n    .dataframe tbody tr th:only-of-type {\n        vertical-align: middle;\n    }\n\n    .dataframe tbody tr th {\n        vertical-align: top;\n    }\n\n    .dataframe thead th {\n        text-align: right;\n    }\n</style>\n<table border=\"1\" class=\"dataframe\">\n  <thead>\n    <tr style=\"text-align: right;\">\n      <th></th>\n      <th>title</th>\n      <th>nid</th>\n      <th>field_time_d8</th>\n      <th>body</th>\n      <th>field_registration_url</th>\n      <th>field_non_library_instructor</th>\n      <th>field_workshop_leads_export</th>\n      <th>field_workshop_series</th>\n      <th>field_workshop_user_activities</th>\n      <th>field_non_libraries_space_1</th>\n      <th>field_space</th>\n    </tr>\n  </thead>\n  <tbody>\n    <tr>\n      <th>0</th>\n      <td>IRB Basics: eIRB Application Workshop</td>\n      <td>57007</td>\n      <td>01-20-2021 10:00AM to 01-20-2021 1:00PM</td>\n      <td>This workshop provides an overview of how to w...</td>\n      <td>&lt;a href=\"https://reporter.ncsu.edu/link/instan...</td>\n      <td>Yael Allen</td>\n      <td>[]</td>\n      <td>Research Strategy</td>\n      <td></td>\n      <td>Online only</td>\n      <td></td>\n    </tr>\n    <tr>\n      <th>1</th>\n      <td>Campus Conversations Project: Inauguration Day...</td>\n      <td>57129</td>\n      <td>01-20-2021 7:00PM to 01-20-2021 8:30PM</td>\n      <td>Trained student volunteers from the Campus Con...</td>\n      <td>&lt;a href=\"https://reporter.ncsu.edu/link/instan...</td>\n      <td>Morgan DiCarlo</td>\n      <td>[{'id': '279', 'url': 'https://www.lib.ncsu.ed...</td>\n      <td></td>\n      <td></td>\n      <td>Online only</td>\n      <td></td>\n    </tr>\n    <tr>\n      <th>2</th>\n      <td>IRB Basics Part II: Handling Your Data and Ass...</td>\n      <td>57017</td>\n      <td>01-21-2021 1:00PM to 01-21-2021 4:00PM</td>\n      <td>This workshop builds upon the IRB Basics: Part...</td>\n      <td>&lt;a href=\"https://reporter.ncsu.edu/link/instan...</td>\n      <td>Yael Allen</td>\n      <td>[]</td>\n      <td></td>\n      <td></td>\n      <td>Online only</td>\n      <td></td>\n    </tr>\n    <tr>\n      <th>3</th>\n      <td>IRB Topical Workshop: IRB Process and IT Profe...</td>\n      <td>57103</td>\n      <td>01-21-2021 3:00PM to 01-21-2021 5:00PM</td>\n      <td>This session is specifically for IT profession...</td>\n      <td>&lt;a href=\"https://reporter.ncsu.edu/link/instan...</td>\n      <td></td>\n      <td>[]</td>\n      <td></td>\n      <td>Grants &amp;amp; Funding</td>\n      <td>Online only</td>\n      <td></td>\n    </tr>\n    <tr>\n      <th>4</th>\n      <td>IRB Topical Workshop: Using “Apps” and other S...</td>\n      <td>56995</td>\n      <td>01-25-2021 10:00AM to 01-25-2021 12:00PM</td>\n      <td>This session will discuss the use of “off the ...</td>\n      <td>&lt;a href=\"https://reporter.ncsu.edu/link/instan...</td>\n      <td></td>\n      <td>[]</td>\n      <td></td>\n      <td>Grants &amp;amp; Funding</td>\n      <td>Online only</td>\n      <td></td>\n    </tr>\n  </tbody>\n</table>\n</div>",
      "text/plain": "                                               title    nid  \\\n0              IRB Basics: eIRB Application Workshop  57007   \n1  Campus Conversations Project: Inauguration Day...  57129   \n2  IRB Basics Part II: Handling Your Data and Ass...  57017   \n3  IRB Topical Workshop: IRB Process and IT Profe...  57103   \n4  IRB Topical Workshop: Using “Apps” and other S...  56995   \n\n                              field_time_d8  \\\n0   01-20-2021 10:00AM to 01-20-2021 1:00PM   \n1    01-20-2021 7:00PM to 01-20-2021 8:30PM   \n2    01-21-2021 1:00PM to 01-21-2021 4:00PM   \n3    01-21-2021 3:00PM to 01-21-2021 5:00PM   \n4  01-25-2021 10:00AM to 01-25-2021 12:00PM   \n\n                                                body  \\\n0  This workshop provides an overview of how to w...   \n1  Trained student volunteers from the Campus Con...   \n2  This workshop builds upon the IRB Basics: Part...   \n3  This session is specifically for IT profession...   \n4  This session will discuss the use of “off the ...   \n\n                              field_registration_url  \\\n0  <a href=\"https://reporter.ncsu.edu/link/instan...   \n1  <a href=\"https://reporter.ncsu.edu/link/instan...   \n2  <a href=\"https://reporter.ncsu.edu/link/instan...   \n3  <a href=\"https://reporter.ncsu.edu/link/instan...   \n4  <a href=\"https://reporter.ncsu.edu/link/instan...   \n\n  field_non_library_instructor  \\\n0                   Yael Allen   \n1               Morgan DiCarlo   \n2                   Yael Allen   \n3                                \n4                                \n\n                         field_workshop_leads_export field_workshop_series  \\\n0                                                 []     Research Strategy   \n1  [{'id': '279', 'url': 'https://www.lib.ncsu.ed...                         \n2                                                 []                         \n3                                                 []                         \n4                                                 []                         \n\n  field_workshop_user_activities field_non_libraries_space_1 field_space  \n0                                                Online only              \n1                                                Online only              \n2                                                Online only              \n3           Grants &amp; Funding                 Online only              \n4           Grants &amp; Funding                 Online only              "
     },
     "execution_count": 9,
     "metadata": {},
     "output_type": "execute_result"
    }
   ],
   "source": [
    "df[\"body\"] = df[\"body\"].apply(strip_html_tags)\n",
    "df.head()"
   ]
  },
  {
   "cell_type": "markdown",
   "metadata": {},
   "source": [
    "Write to csv, with date."
   ]
  },
  {
   "cell_type": "code",
   "execution_count": 10,
   "metadata": {},
   "outputs": [],
   "source": [
    "df.to_csv(f\"current-workshops-{date.today()}.csv\")"
   ]
  },
  {
   "cell_type": "markdown",
   "metadata": {},
   "source": [
    "## Explore text"
   ]
  },
  {
   "cell_type": "markdown",
   "metadata": {},
   "source": [
    "TODO:\n",
    "- Consistency across workshops\n",
    "    - Length of description\n",
    "    - Consistent keywords?\n",
    "    - Does title reflect body paragraph? (check keywords)\n",
    "        - Does body contain words from the title? Does title contain words from body?\n",
    "    - Consistency of workshop descriptions across related titles\n",
    "        - If we have multiple introductions to python, are the descriptions similar?\n",
    "        - Similar across intro to R vs intro python? \n",
    "- Lexical variety?\n"
   ]
  },
  {
   "cell_type": "code",
   "execution_count": 62,
   "metadata": {},
   "outputs": [],
   "source": [
    "from nltk import word_tokenize\n",
    "import numpy as np\n",
    "import spacy"
   ]
  },
  {
   "cell_type": "markdown",
   "metadata": {},
   "source": [
    "Read in the most current csv of workshop data. We'll hardcode it for now, but could always parse the filenames, and get the most recent. "
   ]
  },
  {
   "cell_type": "code",
   "execution_count": 55,
   "metadata": {},
   "outputs": [],
   "source": [
    "df = pd.read_csv(\"current-workshops-2021-01-20.csv\")"
   ]
  },
  {
   "cell_type": "code",
   "execution_count": 56,
   "metadata": {},
   "outputs": [],
   "source": [
    "def naive_count_words(text: str) -> int:\n",
    "    return len([word for word in word_tokenize(text)\n",
    "        if word not in [\".\", \",\", \"?\", \"'\", \"\\\"\", \":\", \";\"]])"
   ]
  },
  {
   "cell_type": "code",
   "execution_count": 57,
   "metadata": {},
   "outputs": [
    {
     "data": {
      "text/plain": "296"
     },
     "execution_count": 57,
     "metadata": {},
     "output_type": "execute_result"
    }
   ],
   "source": [
    "naive_count_words(df[\"body\"][0])"
   ]
  },
  {
   "cell_type": "markdown",
   "metadata": {},
   "source": [
    "We've done a naive pass to check word count minus punctuation. Let's compare it to spaCy's parsing, removing punctuation and spaces/newlines."
   ]
  },
  {
   "cell_type": "code",
   "execution_count": 50,
   "metadata": {},
   "outputs": [],
   "source": [
    "nlp = spacy.load(\"en_core_web_lg\")"
   ]
  },
  {
   "cell_type": "code",
   "execution_count": 58,
   "metadata": {},
   "outputs": [],
   "source": [
    "def spacy_count_words(text: str) -> int:\n",
    "    doc = nlp(text)\n",
    "    no_punct = [t for t in doc if t.is_punct == False]\n",
    "    no_space = [t for t in no_punct if t.is_space == False]\n",
    "    return len(no_space) "
   ]
  },
  {
   "cell_type": "code",
   "execution_count": 59,
   "metadata": {},
   "outputs": [
    {
     "data": {
      "text/plain": "289"
     },
     "execution_count": 59,
     "metadata": {},
     "output_type": "execute_result"
    }
   ],
   "source": [
    "spacy_count_words(df[\"body\"][0])"
   ]
  },
  {
   "cell_type": "markdown",
   "metadata": {},
   "source": [
    "Create a new column in the dataframe that contains number of words in the description(`body`)."
   ]
  },
  {
   "cell_type": "code",
   "execution_count": 60,
   "metadata": {},
   "outputs": [],
   "source": [
    "df[\"body_word_count\"] = df[\"body\"].apply(spacy_count_words)"
   ]
  },
  {
   "cell_type": "code",
   "execution_count": 61,
   "metadata": {},
   "outputs": [
    {
     "data": {
      "text/html": "<div>\n<style scoped>\n    .dataframe tbody tr th:only-of-type {\n        vertical-align: middle;\n    }\n\n    .dataframe tbody tr th {\n        vertical-align: top;\n    }\n\n    .dataframe thead th {\n        text-align: right;\n    }\n</style>\n<table border=\"1\" class=\"dataframe\">\n  <thead>\n    <tr style=\"text-align: right;\">\n      <th></th>\n      <th>Unnamed: 0</th>\n      <th>title</th>\n      <th>nid</th>\n      <th>field_time_d8</th>\n      <th>body</th>\n      <th>field_registration_url</th>\n      <th>field_non_library_instructor</th>\n      <th>field_workshop_leads_export</th>\n      <th>field_workshop_series</th>\n      <th>field_workshop_user_activities</th>\n      <th>field_non_libraries_space_1</th>\n      <th>field_space</th>\n      <th>body_word_count</th>\n    </tr>\n  </thead>\n  <tbody>\n    <tr>\n      <th>0</th>\n      <td>0</td>\n      <td>IRB Basics: eIRB Application Workshop</td>\n      <td>57007</td>\n      <td>01-20-2021 10:00AM to 01-20-2021 1:00PM</td>\n      <td>This workshop provides an overview of how to w...</td>\n      <td>&lt;a href=\"https://reporter.ncsu.edu/link/instan...</td>\n      <td>Yael Allen</td>\n      <td>[]</td>\n      <td>Research Strategy</td>\n      <td>NaN</td>\n      <td>Online only</td>\n      <td>NaN</td>\n      <td>289</td>\n    </tr>\n    <tr>\n      <th>1</th>\n      <td>1</td>\n      <td>Campus Conversations Project: Inauguration Day...</td>\n      <td>57129</td>\n      <td>01-20-2021 7:00PM to 01-20-2021 8:30PM</td>\n      <td>Trained student volunteers from the Campus Con...</td>\n      <td>&lt;a href=\"https://reporter.ncsu.edu/link/instan...</td>\n      <td>Morgan DiCarlo</td>\n      <td>[{'id': '279', 'url': 'https://www.lib.ncsu.ed...</td>\n      <td>NaN</td>\n      <td>NaN</td>\n      <td>Online only</td>\n      <td>NaN</td>\n      <td>115</td>\n    </tr>\n    <tr>\n      <th>2</th>\n      <td>2</td>\n      <td>IRB Basics Part II: Handling Your Data and Ass...</td>\n      <td>57017</td>\n      <td>01-21-2021 1:00PM to 01-21-2021 4:00PM</td>\n      <td>This workshop builds upon the IRB Basics: Part...</td>\n      <td>&lt;a href=\"https://reporter.ncsu.edu/link/instan...</td>\n      <td>Yael Allen</td>\n      <td>[]</td>\n      <td>NaN</td>\n      <td>NaN</td>\n      <td>Online only</td>\n      <td>NaN</td>\n      <td>71</td>\n    </tr>\n    <tr>\n      <th>3</th>\n      <td>3</td>\n      <td>IRB Topical Workshop: IRB Process and IT Profe...</td>\n      <td>57103</td>\n      <td>01-21-2021 3:00PM to 01-21-2021 5:00PM</td>\n      <td>This session is specifically for IT profession...</td>\n      <td>&lt;a href=\"https://reporter.ncsu.edu/link/instan...</td>\n      <td>NaN</td>\n      <td>[]</td>\n      <td>NaN</td>\n      <td>Grants &amp;amp; Funding</td>\n      <td>Online only</td>\n      <td>NaN</td>\n      <td>144</td>\n    </tr>\n    <tr>\n      <th>4</th>\n      <td>4</td>\n      <td>IRB Topical Workshop: Using “Apps” and other S...</td>\n      <td>56995</td>\n      <td>01-25-2021 10:00AM to 01-25-2021 12:00PM</td>\n      <td>This session will discuss the use of “off the ...</td>\n      <td>&lt;a href=\"https://reporter.ncsu.edu/link/instan...</td>\n      <td>NaN</td>\n      <td>[]</td>\n      <td>NaN</td>\n      <td>Grants &amp;amp; Funding</td>\n      <td>Online only</td>\n      <td>NaN</td>\n      <td>172</td>\n    </tr>\n  </tbody>\n</table>\n</div>",
      "text/plain": "   Unnamed: 0                                              title    nid  \\\n0           0              IRB Basics: eIRB Application Workshop  57007   \n1           1  Campus Conversations Project: Inauguration Day...  57129   \n2           2  IRB Basics Part II: Handling Your Data and Ass...  57017   \n3           3  IRB Topical Workshop: IRB Process and IT Profe...  57103   \n4           4  IRB Topical Workshop: Using “Apps” and other S...  56995   \n\n                              field_time_d8  \\\n0   01-20-2021 10:00AM to 01-20-2021 1:00PM   \n1    01-20-2021 7:00PM to 01-20-2021 8:30PM   \n2    01-21-2021 1:00PM to 01-21-2021 4:00PM   \n3    01-21-2021 3:00PM to 01-21-2021 5:00PM   \n4  01-25-2021 10:00AM to 01-25-2021 12:00PM   \n\n                                                body  \\\n0  This workshop provides an overview of how to w...   \n1  Trained student volunteers from the Campus Con...   \n2  This workshop builds upon the IRB Basics: Part...   \n3  This session is specifically for IT profession...   \n4  This session will discuss the use of “off the ...   \n\n                              field_registration_url  \\\n0  <a href=\"https://reporter.ncsu.edu/link/instan...   \n1  <a href=\"https://reporter.ncsu.edu/link/instan...   \n2  <a href=\"https://reporter.ncsu.edu/link/instan...   \n3  <a href=\"https://reporter.ncsu.edu/link/instan...   \n4  <a href=\"https://reporter.ncsu.edu/link/instan...   \n\n  field_non_library_instructor  \\\n0                   Yael Allen   \n1               Morgan DiCarlo   \n2                   Yael Allen   \n3                          NaN   \n4                          NaN   \n\n                         field_workshop_leads_export field_workshop_series  \\\n0                                                 []     Research Strategy   \n1  [{'id': '279', 'url': 'https://www.lib.ncsu.ed...                   NaN   \n2                                                 []                   NaN   \n3                                                 []                   NaN   \n4                                                 []                   NaN   \n\n  field_workshop_user_activities field_non_libraries_space_1  field_space  \\\n0                            NaN                 Online only          NaN   \n1                            NaN                 Online only          NaN   \n2                            NaN                 Online only          NaN   \n3           Grants &amp; Funding                 Online only          NaN   \n4           Grants &amp; Funding                 Online only          NaN   \n\n   body_word_count  \n0              289  \n1              115  \n2               71  \n3              144  \n4              172  "
     },
     "execution_count": 61,
     "metadata": {},
     "output_type": "execute_result"
    }
   ],
   "source": [
    "df.head()"
   ]
  },
  {
   "cell_type": "code",
   "execution_count": 63,
   "metadata": {},
   "outputs": [
    {
     "data": {
      "text/plain": "123.44318181818181"
     },
     "execution_count": 63,
     "metadata": {},
     "output_type": "execute_result"
    }
   ],
   "source": [
    "avg_word_count = np.mean(df[\"body_word_count\"])\n",
    "avg_word_count"
   ]
  },
  {
   "cell_type": "code",
   "execution_count": 65,
   "metadata": {},
   "outputs": [
    {
     "data": {
      "text/plain": "36"
     },
     "execution_count": 65,
     "metadata": {},
     "output_type": "execute_result"
    }
   ],
   "source": [
    "lowest_word_count = df[\"body_word_count\"].min()\n",
    "lowest_word_count"
   ]
  },
  {
   "cell_type": "code",
   "execution_count": 67,
   "metadata": {},
   "outputs": [
    {
     "data": {
      "text/plain": "289"
     },
     "execution_count": 67,
     "metadata": {},
     "output_type": "execute_result"
    }
   ],
   "source": [
    "highest_word_count = df[\"body_word_count\"].max()\n",
    "highest_word_count"
   ]
  },
  {
   "cell_type": "code",
   "execution_count": null,
   "metadata": {},
   "outputs": [],
   "source": []
  }
 ],
 "metadata": {
  "kernelspec": {
   "display_name": "Lib NLP Project",
   "language": "python",
   "name": "libnlp"
  },
  "language_info": {
   "codemirror_mode": {
    "name": "ipython",
    "version": 3
   },
   "file_extension": ".py",
   "mimetype": "text/x-python",
   "name": "python",
   "nbconvert_exporter": "python",
   "pygments_lexer": "ipython3",
   "version": "3.9.0"
  },
  "orig_nbformat": 2
 },
 "nbformat": 4,
 "nbformat_minor": 2
}