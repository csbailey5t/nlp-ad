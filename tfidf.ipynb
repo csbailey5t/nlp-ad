{
 "cells": [
  {
   "cell_type": "markdown",
   "metadata": {},
   "source": [
    "# Generating tf-idf values for workshop descriptions\n",
    "\n",
    "Takes advantage of Melanie Walsh's great work here: https://melaniewalsh.github.io/Intro-Cultural-Analytics/Text-Analysis/TF-IDF-Scikit-Learn.html\n",
    "\n"
   ]
  },
  {
   "cell_type": "markdown",
   "metadata": {},
   "source": [
    "TODOS:\n",
    "- Remove numbers\n",
    "- Drop to just unigrams and bigrams?\n",
    "- Custom stopwords to remove standard text from descriptions that is about physical libraries, ask us, etc.\n",
    "  - Can we remove chunks of text even we get to vectorizer?\n",
    "- What are we doing with tf-idf values?\n",
    "  - Try to match the tf-idf values with queries (queries could be from user or keywords from catalog/metadata)\n",
    "- How often should the vector space be updated? For each new query or can we determine a standard set of features we expect for some time, and just project new items into that?"
   ]
  },
  {
   "cell_type": "code",
   "execution_count": 1,
   "metadata": {},
   "outputs": [],
   "source": [
    "import pandas as pd\n",
    "from sklearn.feature_extraction.text import TfidfVectorizer"
   ]
  },
  {
   "cell_type": "code",
   "execution_count": 2,
   "metadata": {},
   "outputs": [],
   "source": [
    "df = pd.read_csv(\"all-workshops-2021-02-04.csv\")"
   ]
  },
  {
   "cell_type": "code",
   "execution_count": 3,
   "metadata": {},
   "outputs": [
    {
     "data": {
      "text/html": "<div>\n<style scoped>\n    .dataframe tbody tr th:only-of-type {\n        vertical-align: middle;\n    }\n\n    .dataframe tbody tr th {\n        vertical-align: top;\n    }\n\n    .dataframe thead th {\n        text-align: right;\n    }\n</style>\n<table border=\"1\" class=\"dataframe\">\n  <thead>\n    <tr style=\"text-align: right;\">\n      <th></th>\n      <th>Unnamed: 0</th>\n      <th>title</th>\n      <th>nid</th>\n      <th>field_time_d8</th>\n      <th>body</th>\n      <th>field_registration_url</th>\n      <th>field_non_library_instructor</th>\n      <th>field_workshop_leads_export</th>\n      <th>field_workshop_series</th>\n      <th>field_workshop_user_activities</th>\n      <th>field_non_libraries_space_1</th>\n      <th>field_space</th>\n    </tr>\n  </thead>\n  <tbody>\n    <tr>\n      <th>0</th>\n      <td>0</td>\n      <td>Orientation: Digital Media Making in the Libra...</td>\n      <td>53062</td>\n      <td>02-04-2019 11:00AM to 02-04-2019 11:45AM</td>\n      <td>Excited to make videos and movies, record podc...</td>\n      <td>&lt;a href=\"https://reporter.ncsu.edu/link/instan...</td>\n      <td>NaN</td>\n      <td>[{'id': '504', 'url': 'https://www.lib.ncsu.ed...</td>\n      <td>Digital Media</td>\n      <td>NaN</td>\n      <td>NaN</td>\n      <td>&lt;a href=\"/spaces/digital-media-lab\" hreflang=\"...</td>\n    </tr>\n    <tr>\n      <th>1</th>\n      <td>1</td>\n      <td>MATLAByrinth Part 2: Getting Started, Part Two!</td>\n      <td>52895</td>\n      <td>02-04-2019 2:00PM to 02-04-2019 4:00PM</td>\n      <td>MATLAByrinth, is a series of four comprehensiv...</td>\n      <td>&lt;a href=\"https://reporter.ncsu.edu/link/instan...</td>\n      <td>\\nAmrutha Raghu, AmruthaRaghu.jpg\\n\\n</td>\n      <td>[]</td>\n      <td>NaN</td>\n      <td>NaN</td>\n      <td>NaN</td>\n      <td>&lt;a href=\"/spaces/teaching-and-visualization-la...</td>\n    </tr>\n    <tr>\n      <th>2</th>\n      <td>2</td>\n      <td>Orientation: Digital Media Making in the Libra...</td>\n      <td>53194</td>\n      <td>02-04-2019 4:30PM to 02-04-2019 5:00PM</td>\n      <td>Excited to make videos and movies, record podc...</td>\n      <td>&lt;a href=\"https://reporter.ncsu.edu/link/instan...</td>\n      <td>NaN</td>\n      <td>[]</td>\n      <td>Digital Media</td>\n      <td>NaN</td>\n      <td>NaN</td>\n      <td>&lt;a href=\"/spaces/4k-video-studio\" hreflang=\"un...</td>\n    </tr>\n    <tr>\n      <th>3</th>\n      <td>3</td>\n      <td>Orientation: Digital Media Making in the Libra...</td>\n      <td>53199</td>\n      <td>02-04-2019 4:30PM to 02-04-2019 5:00PM</td>\n      <td>Excited to make videos and movies, record podc...</td>\n      <td>&lt;a href=\"https://reporter.ncsu.edu/link/instan...</td>\n      <td>NaN</td>\n      <td>[]</td>\n      <td>Digital Media</td>\n      <td>NaN</td>\n      <td>NaN</td>\n      <td>&lt;a href=\"/spaces/digital-media-lab\" hreflang=\"...</td>\n    </tr>\n    <tr>\n      <th>4</th>\n      <td>4</td>\n      <td>Virtual Reality Studio Orientation</td>\n      <td>53134</td>\n      <td>02-04-2019 6:00PM to 02-04-2019 7:00PM</td>\n      <td>This orientation is required to access the D. ...</td>\n      <td>&lt;a href=\"https://reporter.ncsu.edu/link/instan...</td>\n      <td>\\nAnthony Chaanine\\n\\n</td>\n      <td>[]</td>\n      <td>Virtual and Augmented Reality</td>\n      <td>Virtual Reality &amp;amp; Augmented Reality, Virtu...</td>\n      <td>NaN</td>\n      <td>&lt;a href=\"/spaces/vr-studio\" hreflang=\"und\"&gt;VR ...</td>\n    </tr>\n  </tbody>\n</table>\n</div>",
      "text/plain": "   Unnamed: 0                                              title    nid  \\\n0           0  Orientation: Digital Media Making in the Libra...  53062   \n1           1    MATLAByrinth Part 2: Getting Started, Part Two!  52895   \n2           2  Orientation: Digital Media Making in the Libra...  53194   \n3           3  Orientation: Digital Media Making in the Libra...  53199   \n4           4                 Virtual Reality Studio Orientation  53134   \n\n                              field_time_d8  \\\n0  02-04-2019 11:00AM to 02-04-2019 11:45AM   \n1    02-04-2019 2:00PM to 02-04-2019 4:00PM   \n2    02-04-2019 4:30PM to 02-04-2019 5:00PM   \n3    02-04-2019 4:30PM to 02-04-2019 5:00PM   \n4    02-04-2019 6:00PM to 02-04-2019 7:00PM   \n\n                                                body  \\\n0  Excited to make videos and movies, record podc...   \n1  MATLAByrinth, is a series of four comprehensiv...   \n2  Excited to make videos and movies, record podc...   \n3  Excited to make videos and movies, record podc...   \n4  This orientation is required to access the D. ...   \n\n                              field_registration_url  \\\n0  <a href=\"https://reporter.ncsu.edu/link/instan...   \n1  <a href=\"https://reporter.ncsu.edu/link/instan...   \n2  <a href=\"https://reporter.ncsu.edu/link/instan...   \n3  <a href=\"https://reporter.ncsu.edu/link/instan...   \n4  <a href=\"https://reporter.ncsu.edu/link/instan...   \n\n            field_non_library_instructor  \\\n0                                    NaN   \n1  \\nAmrutha Raghu, AmruthaRaghu.jpg\\n\\n   \n2                                    NaN   \n3                                    NaN   \n4                 \\nAnthony Chaanine\\n\\n   \n\n                         field_workshop_leads_export  \\\n0  [{'id': '504', 'url': 'https://www.lib.ncsu.ed...   \n1                                                 []   \n2                                                 []   \n3                                                 []   \n4                                                 []   \n\n           field_workshop_series  \\\n0                  Digital Media   \n1                            NaN   \n2                  Digital Media   \n3                  Digital Media   \n4  Virtual and Augmented Reality   \n\n                      field_workshop_user_activities  \\\n0                                                NaN   \n1                                                NaN   \n2                                                NaN   \n3                                                NaN   \n4  Virtual Reality &amp; Augmented Reality, Virtu...   \n\n  field_non_libraries_space_1  \\\n0                         NaN   \n1                         NaN   \n2                         NaN   \n3                         NaN   \n4                         NaN   \n\n                                         field_space  \n0  <a href=\"/spaces/digital-media-lab\" hreflang=\"...  \n1  <a href=\"/spaces/teaching-and-visualization-la...  \n2  <a href=\"/spaces/4k-video-studio\" hreflang=\"un...  \n3  <a href=\"/spaces/digital-media-lab\" hreflang=\"...  \n4  <a href=\"/spaces/vr-studio\" hreflang=\"und\">VR ...  "
     },
     "execution_count": 3,
     "metadata": {},
     "output_type": "execute_result"
    }
   ],
   "source": [
    "df.head()"
   ]
  },
  {
   "cell_type": "code",
   "execution_count": 4,
   "metadata": {},
   "outputs": [],
   "source": [
    "corpus = df[\"body\"].to_list()"
   ]
  },
  {
   "cell_type": "code",
   "execution_count": 5,
   "metadata": {},
   "outputs": [],
   "source": [
    "vectorizer = TfidfVectorizer(stop_words=\"english\", ngram_range=(1, 3))"
   ]
  },
  {
   "cell_type": "code",
   "execution_count": 6,
   "metadata": {},
   "outputs": [],
   "source": [
    "X = vectorizer.fit_transform(corpus)"
   ]
  },
  {
   "cell_type": "code",
   "execution_count": 7,
   "metadata": {},
   "outputs": [
    {
     "data": {
      "text/plain": "(1300, 29595)"
     },
     "execution_count": 7,
     "metadata": {},
     "output_type": "execute_result"
    }
   ],
   "source": [
    "X.shape"
   ]
  },
  {
   "cell_type": "code",
   "execution_count": 13,
   "metadata": {},
   "outputs": [],
   "source": [
    "tfidf_df = pd.DataFrame(X.toarray(), index=df[\"title\"], columns=vectorizer.get_feature_names())"
   ]
  },
  {
   "cell_type": "code",
   "execution_count": 19,
   "metadata": {},
   "outputs": [
    {
     "data": {
      "text/html": "<div>\n<style scoped>\n    .dataframe tbody tr th:only-of-type {\n        vertical-align: middle;\n    }\n\n    .dataframe tbody tr th {\n        vertical-align: top;\n    }\n\n    .dataframe thead th {\n        text-align: right;\n    }\n</style>\n<table border=\"1\" class=\"dataframe\">\n  <thead>\n    <tr style=\"text-align: right;\">\n      <th></th>\n      <th>00</th>\n      <th>00 00pm</th>\n      <th>00 00pm lunch</th>\n      <th>00 coffee</th>\n      <th>00 coffee breakfast</th>\n      <th>00 deep</th>\n      <th>00 deep dive</th>\n      <th>00 lightning</th>\n      <th>00 lightning talks</th>\n      <th>00 need</th>\n      <th>...</th>\n      <th>zoom situation</th>\n      <th>zoom situation covid</th>\n      <th>zoom submitted</th>\n      <th>zoom submitted invited</th>\n      <th>zoom webconference</th>\n      <th>zoom webconference link</th>\n      <th>zoom webconferencing</th>\n      <th>zoom webconferencing catch</th>\n      <th>zoom workshop</th>\n      <th>zoom workshop intended</th>\n    </tr>\n    <tr>\n      <th>title</th>\n      <th></th>\n      <th></th>\n      <th></th>\n      <th></th>\n      <th></th>\n      <th></th>\n      <th></th>\n      <th></th>\n      <th></th>\n      <th></th>\n      <th></th>\n      <th></th>\n      <th></th>\n      <th></th>\n      <th></th>\n      <th></th>\n      <th></th>\n      <th></th>\n      <th></th>\n      <th></th>\n      <th></th>\n    </tr>\n  </thead>\n  <tbody>\n    <tr>\n      <th>Orientation: Digital Media Making in the Libraries</th>\n      <td>0.0</td>\n      <td>0.0</td>\n      <td>0.0</td>\n      <td>0.0</td>\n      <td>0.0</td>\n      <td>0.0</td>\n      <td>0.0</td>\n      <td>0.0</td>\n      <td>0.0</td>\n      <td>0.0</td>\n      <td>...</td>\n      <td>0.0</td>\n      <td>0.0</td>\n      <td>0.0</td>\n      <td>0.0</td>\n      <td>0.0</td>\n      <td>0.0</td>\n      <td>0.0</td>\n      <td>0.0</td>\n      <td>0.0</td>\n      <td>0.0</td>\n    </tr>\n    <tr>\n      <th>MATLAByrinth Part 2: Getting Started, Part Two!</th>\n      <td>0.0</td>\n      <td>0.0</td>\n      <td>0.0</td>\n      <td>0.0</td>\n      <td>0.0</td>\n      <td>0.0</td>\n      <td>0.0</td>\n      <td>0.0</td>\n      <td>0.0</td>\n      <td>0.0</td>\n      <td>...</td>\n      <td>0.0</td>\n      <td>0.0</td>\n      <td>0.0</td>\n      <td>0.0</td>\n      <td>0.0</td>\n      <td>0.0</td>\n      <td>0.0</td>\n      <td>0.0</td>\n      <td>0.0</td>\n      <td>0.0</td>\n    </tr>\n    <tr>\n      <th>Orientation: Digital Media Making in the Libraries</th>\n      <td>0.0</td>\n      <td>0.0</td>\n      <td>0.0</td>\n      <td>0.0</td>\n      <td>0.0</td>\n      <td>0.0</td>\n      <td>0.0</td>\n      <td>0.0</td>\n      <td>0.0</td>\n      <td>0.0</td>\n      <td>...</td>\n      <td>0.0</td>\n      <td>0.0</td>\n      <td>0.0</td>\n      <td>0.0</td>\n      <td>0.0</td>\n      <td>0.0</td>\n      <td>0.0</td>\n      <td>0.0</td>\n      <td>0.0</td>\n      <td>0.0</td>\n    </tr>\n    <tr>\n      <th>Orientation: Digital Media Making in the Libraries</th>\n      <td>0.0</td>\n      <td>0.0</td>\n      <td>0.0</td>\n      <td>0.0</td>\n      <td>0.0</td>\n      <td>0.0</td>\n      <td>0.0</td>\n      <td>0.0</td>\n      <td>0.0</td>\n      <td>0.0</td>\n      <td>...</td>\n      <td>0.0</td>\n      <td>0.0</td>\n      <td>0.0</td>\n      <td>0.0</td>\n      <td>0.0</td>\n      <td>0.0</td>\n      <td>0.0</td>\n      <td>0.0</td>\n      <td>0.0</td>\n      <td>0.0</td>\n    </tr>\n    <tr>\n      <th>Virtual Reality Studio Orientation</th>\n      <td>0.0</td>\n      <td>0.0</td>\n      <td>0.0</td>\n      <td>0.0</td>\n      <td>0.0</td>\n      <td>0.0</td>\n      <td>0.0</td>\n      <td>0.0</td>\n      <td>0.0</td>\n      <td>0.0</td>\n      <td>...</td>\n      <td>0.0</td>\n      <td>0.0</td>\n      <td>0.0</td>\n      <td>0.0</td>\n      <td>0.0</td>\n      <td>0.0</td>\n      <td>0.0</td>\n      <td>0.0</td>\n      <td>0.0</td>\n      <td>0.0</td>\n    </tr>\n  </tbody>\n</table>\n<p>5 rows × 29595 columns</p>\n</div>",
      "text/plain": "                                                     00  00 00pm  \\\ntitle                                                              \nOrientation: Digital Media Making in the Libraries  0.0      0.0   \nMATLAByrinth Part 2: Getting Started, Part Two!     0.0      0.0   \nOrientation: Digital Media Making in the Libraries  0.0      0.0   \nOrientation: Digital Media Making in the Libraries  0.0      0.0   \nVirtual Reality Studio Orientation                  0.0      0.0   \n\n                                                    00 00pm lunch  00 coffee  \\\ntitle                                                                          \nOrientation: Digital Media Making in the Libraries            0.0        0.0   \nMATLAByrinth Part 2: Getting Started, Part Two!               0.0        0.0   \nOrientation: Digital Media Making in the Libraries            0.0        0.0   \nOrientation: Digital Media Making in the Libraries            0.0        0.0   \nVirtual Reality Studio Orientation                            0.0        0.0   \n\n                                                    00 coffee breakfast  \\\ntitle                                                                     \nOrientation: Digital Media Making in the Libraries                  0.0   \nMATLAByrinth Part 2: Getting Started, Part Two!                     0.0   \nOrientation: Digital Media Making in the Libraries                  0.0   \nOrientation: Digital Media Making in the Libraries                  0.0   \nVirtual Reality Studio Orientation                                  0.0   \n\n                                                    00 deep  00 deep dive  \\\ntitle                                                                       \nOrientation: Digital Media Making in the Libraries      0.0           0.0   \nMATLAByrinth Part 2: Getting Started, Part Two!         0.0           0.0   \nOrientation: Digital Media Making in the Libraries      0.0           0.0   \nOrientation: Digital Media Making in the Libraries      0.0           0.0   \nVirtual Reality Studio Orientation                      0.0           0.0   \n\n                                                    00 lightning  \\\ntitle                                                              \nOrientation: Digital Media Making in the Libraries           0.0   \nMATLAByrinth Part 2: Getting Started, Part Two!              0.0   \nOrientation: Digital Media Making in the Libraries           0.0   \nOrientation: Digital Media Making in the Libraries           0.0   \nVirtual Reality Studio Orientation                           0.0   \n\n                                                    00 lightning talks  \\\ntitle                                                                    \nOrientation: Digital Media Making in the Libraries                 0.0   \nMATLAByrinth Part 2: Getting Started, Part Two!                    0.0   \nOrientation: Digital Media Making in the Libraries                 0.0   \nOrientation: Digital Media Making in the Libraries                 0.0   \nVirtual Reality Studio Orientation                                 0.0   \n\n                                                    00 need  ...  \\\ntitle                                                        ...   \nOrientation: Digital Media Making in the Libraries      0.0  ...   \nMATLAByrinth Part 2: Getting Started, Part Two!         0.0  ...   \nOrientation: Digital Media Making in the Libraries      0.0  ...   \nOrientation: Digital Media Making in the Libraries      0.0  ...   \nVirtual Reality Studio Orientation                      0.0  ...   \n\n                                                    zoom situation  \\\ntitle                                                                \nOrientation: Digital Media Making in the Libraries             0.0   \nMATLAByrinth Part 2: Getting Started, Part Two!                0.0   \nOrientation: Digital Media Making in the Libraries             0.0   \nOrientation: Digital Media Making in the Libraries             0.0   \nVirtual Reality Studio Orientation                             0.0   \n\n                                                    zoom situation covid  \\\ntitle                                                                      \nOrientation: Digital Media Making in the Libraries                   0.0   \nMATLAByrinth Part 2: Getting Started, Part Two!                      0.0   \nOrientation: Digital Media Making in the Libraries                   0.0   \nOrientation: Digital Media Making in the Libraries                   0.0   \nVirtual Reality Studio Orientation                                   0.0   \n\n                                                    zoom submitted  \\\ntitle                                                                \nOrientation: Digital Media Making in the Libraries             0.0   \nMATLAByrinth Part 2: Getting Started, Part Two!                0.0   \nOrientation: Digital Media Making in the Libraries             0.0   \nOrientation: Digital Media Making in the Libraries             0.0   \nVirtual Reality Studio Orientation                             0.0   \n\n                                                    zoom submitted invited  \\\ntitle                                                                        \nOrientation: Digital Media Making in the Libraries                     0.0   \nMATLAByrinth Part 2: Getting Started, Part Two!                        0.0   \nOrientation: Digital Media Making in the Libraries                     0.0   \nOrientation: Digital Media Making in the Libraries                     0.0   \nVirtual Reality Studio Orientation                                     0.0   \n\n                                                    zoom webconference  \\\ntitle                                                                    \nOrientation: Digital Media Making in the Libraries                 0.0   \nMATLAByrinth Part 2: Getting Started, Part Two!                    0.0   \nOrientation: Digital Media Making in the Libraries                 0.0   \nOrientation: Digital Media Making in the Libraries                 0.0   \nVirtual Reality Studio Orientation                                 0.0   \n\n                                                    zoom webconference link  \\\ntitle                                                                         \nOrientation: Digital Media Making in the Libraries                      0.0   \nMATLAByrinth Part 2: Getting Started, Part Two!                         0.0   \nOrientation: Digital Media Making in the Libraries                      0.0   \nOrientation: Digital Media Making in the Libraries                      0.0   \nVirtual Reality Studio Orientation                                      0.0   \n\n                                                    zoom webconferencing  \\\ntitle                                                                      \nOrientation: Digital Media Making in the Libraries                   0.0   \nMATLAByrinth Part 2: Getting Started, Part Two!                      0.0   \nOrientation: Digital Media Making in the Libraries                   0.0   \nOrientation: Digital Media Making in the Libraries                   0.0   \nVirtual Reality Studio Orientation                                   0.0   \n\n                                                    zoom webconferencing catch  \\\ntitle                                                                            \nOrientation: Digital Media Making in the Libraries                         0.0   \nMATLAByrinth Part 2: Getting Started, Part Two!                            0.0   \nOrientation: Digital Media Making in the Libraries                         0.0   \nOrientation: Digital Media Making in the Libraries                         0.0   \nVirtual Reality Studio Orientation                                         0.0   \n\n                                                    zoom workshop  \\\ntitle                                                               \nOrientation: Digital Media Making in the Libraries            0.0   \nMATLAByrinth Part 2: Getting Started, Part Two!               0.0   \nOrientation: Digital Media Making in the Libraries            0.0   \nOrientation: Digital Media Making in the Libraries            0.0   \nVirtual Reality Studio Orientation                            0.0   \n\n                                                    zoom workshop intended  \ntitle                                                                       \nOrientation: Digital Media Making in the Libraries                     0.0  \nMATLAByrinth Part 2: Getting Started, Part Two!                        0.0  \nOrientation: Digital Media Making in the Libraries                     0.0  \nOrientation: Digital Media Making in the Libraries                     0.0  \nVirtual Reality Studio Orientation                                     0.0  \n\n[5 rows x 29595 columns]"
     },
     "execution_count": 19,
     "metadata": {},
     "output_type": "execute_result"
    }
   ],
   "source": [
    "tfidf_df.head()"
   ]
  },
  {
   "cell_type": "code",
   "execution_count": 14,
   "metadata": {},
   "outputs": [],
   "source": [
    "tfidf_df.loc[\"document_frequency\"] = (tfidf_df > 0).sum()"
   ]
  },
  {
   "cell_type": "code",
   "execution_count": 15,
   "metadata": {},
   "outputs": [
    {
     "data": {
      "text/plain": "00                            4.0\n00 00pm                       1.0\n00 00pm lunch                 1.0\n00 coffee                     1.0\n00 coffee breakfast           1.0\n                             ... \nzoom webconference link       1.0\nzoom webconferencing          1.0\nzoom webconferencing catch    1.0\nzoom workshop                 1.0\nzoom workshop intended        1.0\nName: document_frequency, Length: 29595, dtype: float64"
     },
     "execution_count": 15,
     "metadata": {},
     "output_type": "execute_result"
    }
   ],
   "source": [
    "tfidf_df.loc[\"document_frequency\"]"
   ]
  },
  {
   "cell_type": "code",
   "execution_count": 17,
   "metadata": {},
   "outputs": [
    {
     "data": {
      "text/plain": "zoom workshop intended                1.0\nknowledge librarian                   1.0\nknowledge librarian registration      1.0\ntechniques deploy machine             1.0\ntechniques deploy                     1.0\n                                    ...  \nrequired                            678.0\nlearn                               720.0\nhill jr                             735.0\njr                                  736.0\nhill                                769.0\nName: document_frequency, Length: 29595, dtype: float64"
     },
     "execution_count": 17,
     "metadata": {},
     "output_type": "execute_result"
    }
   ],
   "source": [
    "tfidf_df.loc[\"document_frequency\"].sort_values()"
   ]
  },
  {
   "cell_type": "code",
   "execution_count": 18,
   "metadata": {},
   "outputs": [],
   "source": [
    "tfidf_df = tfidf_df.drop(\"document_frequency\")"
   ]
  },
  {
   "cell_type": "code",
   "execution_count": 20,
   "metadata": {},
   "outputs": [
    {
     "data": {
      "text/html": "<div>\n<style scoped>\n    .dataframe tbody tr th:only-of-type {\n        vertical-align: middle;\n    }\n\n    .dataframe tbody tr th {\n        vertical-align: top;\n    }\n\n    .dataframe thead th {\n        text-align: right;\n    }\n</style>\n<table border=\"1\" class=\"dataframe\">\n  <thead>\n    <tr style=\"text-align: right;\">\n      <th></th>\n      <th>title</th>\n      <th>level_1</th>\n      <th>0</th>\n    </tr>\n  </thead>\n  <tbody>\n    <tr>\n      <th>0</th>\n      <td>Orientation: Digital Media Making in the Libra...</td>\n      <td>00</td>\n      <td>0.0</td>\n    </tr>\n    <tr>\n      <th>1</th>\n      <td>Orientation: Digital Media Making in the Libra...</td>\n      <td>00 00pm</td>\n      <td>0.0</td>\n    </tr>\n    <tr>\n      <th>2</th>\n      <td>Orientation: Digital Media Making in the Libra...</td>\n      <td>00 00pm lunch</td>\n      <td>0.0</td>\n    </tr>\n    <tr>\n      <th>3</th>\n      <td>Orientation: Digital Media Making in the Libra...</td>\n      <td>00 coffee</td>\n      <td>0.0</td>\n    </tr>\n    <tr>\n      <th>4</th>\n      <td>Orientation: Digital Media Making in the Libra...</td>\n      <td>00 coffee breakfast</td>\n      <td>0.0</td>\n    </tr>\n    <tr>\n      <th>...</th>\n      <td>...</td>\n      <td>...</td>\n      <td>...</td>\n    </tr>\n    <tr>\n      <th>38473495</th>\n      <td>IRB Basics: eIRB Application Workshop</td>\n      <td>zoom webconference link</td>\n      <td>0.0</td>\n    </tr>\n    <tr>\n      <th>38473496</th>\n      <td>IRB Basics: eIRB Application Workshop</td>\n      <td>zoom webconferencing</td>\n      <td>0.0</td>\n    </tr>\n    <tr>\n      <th>38473497</th>\n      <td>IRB Basics: eIRB Application Workshop</td>\n      <td>zoom webconferencing catch</td>\n      <td>0.0</td>\n    </tr>\n    <tr>\n      <th>38473498</th>\n      <td>IRB Basics: eIRB Application Workshop</td>\n      <td>zoom workshop</td>\n      <td>0.0</td>\n    </tr>\n    <tr>\n      <th>38473499</th>\n      <td>IRB Basics: eIRB Application Workshop</td>\n      <td>zoom workshop intended</td>\n      <td>0.0</td>\n    </tr>\n  </tbody>\n</table>\n<p>38473500 rows × 3 columns</p>\n</div>",
      "text/plain": "                                                      title  \\\n0         Orientation: Digital Media Making in the Libra...   \n1         Orientation: Digital Media Making in the Libra...   \n2         Orientation: Digital Media Making in the Libra...   \n3         Orientation: Digital Media Making in the Libra...   \n4         Orientation: Digital Media Making in the Libra...   \n...                                                     ...   \n38473495              IRB Basics: eIRB Application Workshop   \n38473496              IRB Basics: eIRB Application Workshop   \n38473497              IRB Basics: eIRB Application Workshop   \n38473498              IRB Basics: eIRB Application Workshop   \n38473499              IRB Basics: eIRB Application Workshop   \n\n                             level_1    0  \n0                                 00  0.0  \n1                            00 00pm  0.0  \n2                      00 00pm lunch  0.0  \n3                          00 coffee  0.0  \n4                00 coffee breakfast  0.0  \n...                              ...  ...  \n38473495     zoom webconference link  0.0  \n38473496        zoom webconferencing  0.0  \n38473497  zoom webconferencing catch  0.0  \n38473498               zoom workshop  0.0  \n38473499      zoom workshop intended  0.0  \n\n[38473500 rows x 3 columns]"
     },
     "execution_count": 20,
     "metadata": {},
     "output_type": "execute_result"
    }
   ],
   "source": [
    "tfidf_df.stack().reset_index()"
   ]
  },
  {
   "cell_type": "code",
   "execution_count": 21,
   "metadata": {},
   "outputs": [],
   "source": [
    "tfidf_df_stacked = tfidf_df.stack().reset_index() "
   ]
  },
  {
   "cell_type": "code",
   "execution_count": 25,
   "metadata": {},
   "outputs": [
    {
     "data": {
      "text/plain": "Index(['title', 'term', 0], dtype='object')"
     },
     "execution_count": 25,
     "metadata": {},
     "output_type": "execute_result"
    }
   ],
   "source": [
    "tfidf_df_stacked.columns"
   ]
  },
  {
   "cell_type": "code",
   "execution_count": 27,
   "metadata": {},
   "outputs": [
    {
     "data": {
      "text/html": "<div>\n<style scoped>\n    .dataframe tbody tr th:only-of-type {\n        vertical-align: middle;\n    }\n\n    .dataframe tbody tr th {\n        vertical-align: top;\n    }\n\n    .dataframe thead th {\n        text-align: right;\n    }\n</style>\n<table border=\"1\" class=\"dataframe\">\n  <thead>\n    <tr style=\"text-align: right;\">\n      <th></th>\n      <th>title</th>\n      <th>term</th>\n      <th>tfidf</th>\n    </tr>\n  </thead>\n  <tbody>\n    <tr>\n      <th>0</th>\n      <td>Orientation: Digital Media Making in the Libra...</td>\n      <td>00</td>\n      <td>0.0</td>\n    </tr>\n    <tr>\n      <th>1</th>\n      <td>Orientation: Digital Media Making in the Libra...</td>\n      <td>00 00pm</td>\n      <td>0.0</td>\n    </tr>\n    <tr>\n      <th>2</th>\n      <td>Orientation: Digital Media Making in the Libra...</td>\n      <td>00 00pm lunch</td>\n      <td>0.0</td>\n    </tr>\n    <tr>\n      <th>3</th>\n      <td>Orientation: Digital Media Making in the Libra...</td>\n      <td>00 coffee</td>\n      <td>0.0</td>\n    </tr>\n    <tr>\n      <th>4</th>\n      <td>Orientation: Digital Media Making in the Libra...</td>\n      <td>00 coffee breakfast</td>\n      <td>0.0</td>\n    </tr>\n  </tbody>\n</table>\n</div>",
      "text/plain": "                                               title                 term  \\\n0  Orientation: Digital Media Making in the Libra...                   00   \n1  Orientation: Digital Media Making in the Libra...              00 00pm   \n2  Orientation: Digital Media Making in the Libra...        00 00pm lunch   \n3  Orientation: Digital Media Making in the Libra...            00 coffee   \n4  Orientation: Digital Media Making in the Libra...  00 coffee breakfast   \n\n   tfidf  \n0    0.0  \n1    0.0  \n2    0.0  \n3    0.0  \n4    0.0  "
     },
     "execution_count": 27,
     "metadata": {},
     "output_type": "execute_result"
    }
   ],
   "source": [
    "tfidf_df_stacked.columns = [\"title\", \"term\", \"tfidf\"]\n",
    "tfidf_df_stacked.head()"
   ]
  },
  {
   "cell_type": "code",
   "execution_count": 28,
   "metadata": {},
   "outputs": [
    {
     "data": {
      "text/html": "<div>\n<style scoped>\n    .dataframe tbody tr th:only-of-type {\n        vertical-align: middle;\n    }\n\n    .dataframe tbody tr th {\n        vertical-align: top;\n    }\n\n    .dataframe thead th {\n        text-align: right;\n    }\n</style>\n<table border=\"1\" class=\"dataframe\">\n  <thead>\n    <tr style=\"text-align: right;\">\n      <th></th>\n      <th>title</th>\n      <th>term</th>\n      <th>tfidf</th>\n    </tr>\n  </thead>\n  <tbody>\n    <tr>\n      <th>29630556</th>\n      <td>Introduction to Data Management Plans for Res...</td>\n      <td>data management</td>\n      <td>0.269877</td>\n    </tr>\n    <tr>\n      <th>29639767</th>\n      <td>Introduction to Data Management Plans for Res...</td>\n      <td>management</td>\n      <td>0.217663</td>\n    </tr>\n    <tr>\n      <th>29630399</th>\n      <td>Introduction to Data Management Plans for Res...</td>\n      <td>data</td>\n      <td>0.196784</td>\n    </tr>\n    <tr>\n      <th>29630560</th>\n      <td>Introduction to Data Management Plans for Res...</td>\n      <td>data management plan</td>\n      <td>0.149959</td>\n    </tr>\n    <tr>\n      <th>29652880</th>\n      <td>Introduction to Data Management Plans for Res...</td>\n      <td>water</td>\n      <td>0.145300</td>\n    </tr>\n    <tr>\n      <th>...</th>\n      <td>...</td>\n      <td>...</td>\n      <td>...</td>\n    </tr>\n    <tr>\n      <th>10822929</th>\n      <td>You buy a pair of shoes online, you get an adv...</td>\n      <td>recommendation</td>\n      <td>0.100177</td>\n    </tr>\n    <tr>\n      <th>10822888</th>\n      <td>You buy a pair of shoes online, you get an adv...</td>\n      <td>recent</td>\n      <td>0.094190</td>\n    </tr>\n    <tr>\n      <th>10829505</th>\n      <td>You buy a pair of shoes online, you get an adv...</td>\n      <td>user</td>\n      <td>0.065110</td>\n    </tr>\n    <tr>\n      <th>10822456</th>\n      <td>You buy a pair of shoes online, you get an adv...</td>\n      <td>python</td>\n      <td>0.062591</td>\n    </tr>\n    <tr>\n      <th>10802356</th>\n      <td>You buy a pair of shoes online, you get an adv...</td>\n      <td>21st century</td>\n      <td>0.055206</td>\n    </tr>\n  </tbody>\n</table>\n<p>2640 rows × 3 columns</p>\n</div>",
      "text/plain": "                                                      title  \\\n29630556   Introduction to Data Management Plans for Res...   \n29639767   Introduction to Data Management Plans for Res...   \n29630399   Introduction to Data Management Plans for Res...   \n29630560   Introduction to Data Management Plans for Res...   \n29652880   Introduction to Data Management Plans for Res...   \n...                                                     ...   \n10822929  You buy a pair of shoes online, you get an adv...   \n10822888  You buy a pair of shoes online, you get an adv...   \n10829505  You buy a pair of shoes online, you get an adv...   \n10822456  You buy a pair of shoes online, you get an adv...   \n10802356  You buy a pair of shoes online, you get an adv...   \n\n                          term     tfidf  \n29630556       data management  0.269877  \n29639767            management  0.217663  \n29630399                  data  0.196784  \n29630560  data management plan  0.149959  \n29652880                 water  0.145300  \n...                        ...       ...  \n10822929        recommendation  0.100177  \n10822888                recent  0.094190  \n10829505                  user  0.065110  \n10822456                python  0.062591  \n10802356          21st century  0.055206  \n\n[2640 rows x 3 columns]"
     },
     "execution_count": 28,
     "metadata": {},
     "output_type": "execute_result"
    }
   ],
   "source": [
    "tfidf_df_stacked.sort_values(by=['title', 'tfidf'], ascending=[True, False]).groupby([\"title\"]).head(10)"
   ]
  },
  {
   "cell_type": "code",
   "execution_count": 29,
   "metadata": {},
   "outputs": [],
   "source": [
    "top_tfidf = tfidf_df_stacked.sort_values(by=['title', 'tfidf'], ascending=[True, False]).groupby([\"title\"]).head(10)"
   ]
  },
  {
   "cell_type": "code",
   "execution_count": 30,
   "metadata": {},
   "outputs": [],
   "source": [
    "top_tfidf.to_csv(\"workshops_tfidf.csv\")"
   ]
  },
  {
   "cell_type": "code",
   "execution_count": 32,
   "metadata": {},
   "outputs": [
    {
     "data": {
      "text/html": "<div>\n<style scoped>\n    .dataframe tbody tr th:only-of-type {\n        vertical-align: middle;\n    }\n\n    .dataframe tbody tr th {\n        vertical-align: top;\n    }\n\n    .dataframe thead th {\n        text-align: right;\n    }\n</style>\n<table border=\"1\" class=\"dataframe\">\n  <thead>\n    <tr style=\"text-align: right;\">\n      <th></th>\n      <th>title</th>\n      <th>term</th>\n      <th>tfidf</th>\n    </tr>\n  </thead>\n  <tbody>\n    <tr>\n      <th>493801</th>\n      <td>Data Cleaning with Python</td>\n      <td>python</td>\n      <td>0.162281</td>\n    </tr>\n    <tr>\n      <th>3009376</th>\n      <td>Data Cleaning with Python</td>\n      <td>python</td>\n      <td>0.162281</td>\n    </tr>\n    <tr>\n      <th>32367616</th>\n      <td>Data Manipulation with Python</td>\n      <td>python</td>\n      <td>0.134526</td>\n    </tr>\n    <tr>\n      <th>32545186</th>\n      <td>Data Visualization with Python</td>\n      <td>python</td>\n      <td>0.132479</td>\n    </tr>\n    <tr>\n      <th>32604376</th>\n      <td>Data Visualization with Python</td>\n      <td>python</td>\n      <td>0.132479</td>\n    </tr>\n    <tr>\n      <th>34853596</th>\n      <td>Data Visualization with Python</td>\n      <td>python</td>\n      <td>0.132479</td>\n    </tr>\n    <tr>\n      <th>12331801</th>\n      <td>Introduction to Computer Vision and Image Proc...</td>\n      <td>python</td>\n      <td>0.165470</td>\n    </tr>\n    <tr>\n      <th>12312614</th>\n      <td>Introduction to Computer Vision and Image Proc...</td>\n      <td>analysis experience python</td>\n      <td>0.097297</td>\n    </tr>\n    <tr>\n      <th>32278831</th>\n      <td>Introduction to Programming with Python</td>\n      <td>python</td>\n      <td>0.126403</td>\n    </tr>\n    <tr>\n      <th>34172911</th>\n      <td>Introduction to Programming with Python</td>\n      <td>python</td>\n      <td>0.126403</td>\n    </tr>\n    <tr>\n      <th>32781946</th>\n      <td>Text Analysis with Python</td>\n      <td>python</td>\n      <td>0.114408</td>\n    </tr>\n    <tr>\n      <th>35031166</th>\n      <td>Webscraping with Python</td>\n      <td>python</td>\n      <td>0.111184</td>\n    </tr>\n    <tr>\n      <th>10822456</th>\n      <td>You buy a pair of shoes online, you get an adv...</td>\n      <td>python</td>\n      <td>0.062591</td>\n    </tr>\n  </tbody>\n</table>\n</div>",
      "text/plain": "                                                      title  \\\n493801                            Data Cleaning with Python   \n3009376                           Data Cleaning with Python   \n32367616                      Data Manipulation with Python   \n32545186                     Data Visualization with Python   \n32604376                     Data Visualization with Python   \n34853596                     Data Visualization with Python   \n12331801  Introduction to Computer Vision and Image Proc...   \n12312614  Introduction to Computer Vision and Image Proc...   \n32278831            Introduction to Programming with Python   \n34172911            Introduction to Programming with Python   \n32781946                          Text Analysis with Python   \n35031166                            Webscraping with Python   \n10822456  You buy a pair of shoes online, you get an adv...   \n\n                                term     tfidf  \n493801                        python  0.162281  \n3009376                       python  0.162281  \n32367616                      python  0.134526  \n32545186                      python  0.132479  \n32604376                      python  0.132479  \n34853596                      python  0.132479  \n12331801                      python  0.165470  \n12312614  analysis experience python  0.097297  \n32278831                      python  0.126403  \n34172911                      python  0.126403  \n32781946                      python  0.114408  \n35031166                      python  0.111184  \n10822456                      python  0.062591  "
     },
     "execution_count": 32,
     "metadata": {},
     "output_type": "execute_result"
    }
   ],
   "source": [
    "top_tfidf[top_tfidf[\"term\"].str.contains(\"python\")]"
   ]
  },
  {
   "cell_type": "code",
   "execution_count": 33,
   "metadata": {},
   "outputs": [
    {
     "data": {
      "text/html": "<div>\n<style scoped>\n    .dataframe tbody tr th:only-of-type {\n        vertical-align: middle;\n    }\n\n    .dataframe tbody tr th {\n        vertical-align: top;\n    }\n\n    .dataframe thead th {\n        text-align: right;\n    }\n</style>\n<table border=\"1\" class=\"dataframe\">\n  <thead>\n    <tr style=\"text-align: right;\">\n      <th></th>\n      <th>title</th>\n      <th>term</th>\n      <th>tfidf</th>\n    </tr>\n  </thead>\n  <tbody>\n    <tr>\n      <th>13316180</th>\n      <td>Data Visualization with R</td>\n      <td>visualizations</td>\n      <td>0.154358</td>\n    </tr>\n    <tr>\n      <th>18880040</th>\n      <td>Data Visualization with R</td>\n      <td>visualizations</td>\n      <td>0.154358</td>\n    </tr>\n    <tr>\n      <th>24177545</th>\n      <td>Data Visualization with R</td>\n      <td>visualizations</td>\n      <td>0.154358</td>\n    </tr>\n    <tr>\n      <th>30718040</th>\n      <td>Data Visualization with R</td>\n      <td>visualizations</td>\n      <td>0.154358</td>\n    </tr>\n    <tr>\n      <th>827047</th>\n      <td>Elements of Visualization Design</td>\n      <td>visualization</td>\n      <td>0.175923</td>\n    </tr>\n    <tr>\n      <th>17903362</th>\n      <td>Elements of Visualization Design</td>\n      <td>visualization</td>\n      <td>0.175923</td>\n    </tr>\n    <tr>\n      <th>21928282</th>\n      <td>Elements of Visualization Design</td>\n      <td>visualization</td>\n      <td>0.175923</td>\n    </tr>\n    <tr>\n      <th>28883107</th>\n      <td>Elements of Visualization Design</td>\n      <td>visualization</td>\n      <td>0.175923</td>\n    </tr>\n    <tr>\n      <th>36074692</th>\n      <td>Elements of Visualization Design</td>\n      <td>visualization</td>\n      <td>0.175923</td>\n    </tr>\n    <tr>\n      <th>3520192</th>\n      <td>Graphing in Excel</td>\n      <td>visualization</td>\n      <td>0.140626</td>\n    </tr>\n    <tr>\n      <th>3498334</th>\n      <td>Graphing in Excel</td>\n      <td>data visualization</td>\n      <td>0.118380</td>\n    </tr>\n    <tr>\n      <th>3492970</th>\n      <td>Graphing in Excel</td>\n      <td>advanced visualization</td>\n      <td>0.073548</td>\n    </tr>\n    <tr>\n      <th>3492971</th>\n      <td>Graphing in Excel</td>\n      <td>advanced visualization techniques</td>\n      <td>0.073548</td>\n    </tr>\n    <tr>\n      <th>20063797</th>\n      <td>Introduction to Graphing in Excel</td>\n      <td>visualization</td>\n      <td>0.140626</td>\n    </tr>\n    <tr>\n      <th>23023297</th>\n      <td>Introduction to Graphing in Excel</td>\n      <td>visualization</td>\n      <td>0.140626</td>\n    </tr>\n    <tr>\n      <th>29238247</th>\n      <td>Introduction to Graphing in Excel</td>\n      <td>visualization</td>\n      <td>0.140626</td>\n    </tr>\n    <tr>\n      <th>1101211</th>\n      <td>R for Data Science: Data Joining and Tidying</td>\n      <td>datasets analysis visualization</td>\n      <td>0.135534</td>\n    </tr>\n  </tbody>\n</table>\n</div>",
      "text/plain": "                                                 title  \\\n13316180                     Data Visualization with R   \n18880040                     Data Visualization with R   \n24177545                     Data Visualization with R   \n30718040                     Data Visualization with R   \n827047                Elements of Visualization Design   \n17903362              Elements of Visualization Design   \n21928282              Elements of Visualization Design   \n28883107              Elements of Visualization Design   \n36074692              Elements of Visualization Design   \n3520192                              Graphing in Excel   \n3498334                              Graphing in Excel   \n3492970                              Graphing in Excel   \n3492971                              Graphing in Excel   \n20063797             Introduction to Graphing in Excel   \n23023297             Introduction to Graphing in Excel   \n29238247             Introduction to Graphing in Excel   \n1101211   R for Data Science: Data Joining and Tidying   \n\n                                       term     tfidf  \n13316180                     visualizations  0.154358  \n18880040                     visualizations  0.154358  \n24177545                     visualizations  0.154358  \n30718040                     visualizations  0.154358  \n827047                        visualization  0.175923  \n17903362                      visualization  0.175923  \n21928282                      visualization  0.175923  \n28883107                      visualization  0.175923  \n36074692                      visualization  0.175923  \n3520192                       visualization  0.140626  \n3498334                  data visualization  0.118380  \n3492970              advanced visualization  0.073548  \n3492971   advanced visualization techniques  0.073548  \n20063797                      visualization  0.140626  \n23023297                      visualization  0.140626  \n29238247                      visualization  0.140626  \n1101211     datasets analysis visualization  0.135534  "
     },
     "execution_count": 33,
     "metadata": {},
     "output_type": "execute_result"
    }
   ],
   "source": [
    "top_tfidf[top_tfidf[\"term\"].str.contains(\"visualization\")]"
   ]
  },
  {
   "cell_type": "code",
   "execution_count": 35,
   "metadata": {},
   "outputs": [
    {
     "data": {
      "text/html": "<div>\n<style scoped>\n    .dataframe tbody tr th:only-of-type {\n        vertical-align: middle;\n    }\n\n    .dataframe tbody tr th {\n        vertical-align: top;\n    }\n\n    .dataframe thead th {\n        text-align: right;\n    }\n</style>\n<table border=\"1\" class=\"dataframe\">\n  <thead>\n    <tr style=\"text-align: right;\">\n      <th></th>\n      <th>title</th>\n      <th>term</th>\n      <th>tfidf</th>\n    </tr>\n  </thead>\n  <tbody>\n    <tr>\n      <th>493801</th>\n      <td>Data Cleaning with Python</td>\n      <td>python</td>\n      <td>0.162281</td>\n    </tr>\n    <tr>\n      <th>3009376</th>\n      <td>Data Cleaning with Python</td>\n      <td>python</td>\n      <td>0.162281</td>\n    </tr>\n    <tr>\n      <th>476491</th>\n      <td>Data Cleaning with Python</td>\n      <td>bring</td>\n      <td>0.148551</td>\n    </tr>\n    <tr>\n      <th>2992066</th>\n      <td>Data Cleaning with Python</td>\n      <td>bring</td>\n      <td>0.148551</td>\n    </tr>\n    <tr>\n      <th>475320</th>\n      <td>Data Cleaning with Python</td>\n      <td>askus desk bring</td>\n      <td>0.135371</td>\n    </tr>\n    <tr>\n      <th>...</th>\n      <td>...</td>\n      <td>...</td>\n      <td>...</td>\n    </tr>\n    <tr>\n      <th>35017947</th>\n      <td>Webscraping with Python</td>\n      <td>discuss legal ethical</td>\n      <td>0.098065</td>\n    </tr>\n    <tr>\n      <th>35019320</th>\n      <td>Webscraping with Python</td>\n      <td>ethical issue</td>\n      <td>0.098065</td>\n    </tr>\n    <tr>\n      <th>35019321</th>\n      <td>Webscraping with Python</td>\n      <td>ethical issue involved</td>\n      <td>0.098065</td>\n    </tr>\n    <tr>\n      <th>35020171</th>\n      <td>Webscraping with Python</td>\n      <td>file ll</td>\n      <td>0.098065</td>\n    </tr>\n    <tr>\n      <th>35020172</th>\n      <td>Webscraping with Python</td>\n      <td>file ll discuss</td>\n      <td>0.098065</td>\n    </tr>\n  </tbody>\n</table>\n<p>140 rows × 3 columns</p>\n</div>",
      "text/plain": "                              title                    term     tfidf\n493801    Data Cleaning with Python                  python  0.162281\n3009376   Data Cleaning with Python                  python  0.162281\n476491    Data Cleaning with Python                   bring  0.148551\n2992066   Data Cleaning with Python                   bring  0.148551\n475320    Data Cleaning with Python        askus desk bring  0.135371\n...                             ...                     ...       ...\n35017947    Webscraping with Python   discuss legal ethical  0.098065\n35019320    Webscraping with Python           ethical issue  0.098065\n35019321    Webscraping with Python  ethical issue involved  0.098065\n35020171    Webscraping with Python                 file ll  0.098065\n35020172    Webscraping with Python         file ll discuss  0.098065\n\n[140 rows x 3 columns]"
     },
     "execution_count": 35,
     "metadata": {},
     "output_type": "execute_result"
    }
   ],
   "source": [
    "# Notice that titles are still case sensitive\n",
    "top_tfidf[top_tfidf[\"title\"].str.contains(\"Python\")]"
   ]
  },
  {
   "cell_type": "code",
   "execution_count": null,
   "metadata": {},
   "outputs": [],
   "source": []
  }
 ],
 "metadata": {
  "kernelspec": {
   "display_name": "Python 3.9.0 64-bit ('nlp-ad-uIU5ZzLQ-py3.9': poetry)",
   "name": "python390jvsc74a57bd0b924a695dd7018e0cc56be393e59e6798edfe787e0d1ea0063c280eef3552b89"
  },
  "language_info": {
   "codemirror_mode": {
    "name": "ipython",
    "version": 3
   },
   "file_extension": ".py",
   "mimetype": "text/x-python",
   "name": "python",
   "nbconvert_exporter": "python",
   "pygments_lexer": "ipython3",
   "version": "3.9.0"
  },
  "orig_nbformat": 2
 },
 "nbformat": 4,
 "nbformat_minor": 2
}