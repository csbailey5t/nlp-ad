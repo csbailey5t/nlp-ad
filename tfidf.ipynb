{
 "cells": [
  {
   "cell_type": "markdown",
   "metadata": {},
   "source": [
    "# Generating tf-idf values for workshop descriptions\n",
    "\n",
    "Takes advantage of Melanie Walsh's great work here: https://melaniewalsh.github.io/Intro-Cultural-Analytics/Text-Analysis/TF-IDF-Scikit-Learn.html\n",
    "\n"
   ]
  },
  {
   "cell_type": "markdown",
   "metadata": {},
   "source": [
    "TODOS:\n",
    "- [X] Remove numbers\n",
    "- Drop to just unigrams and bigrams?\n",
    "- [ ] Custom stopwords to remove standard text from descriptions that is about physical libraries, ask us, etc.\n",
    "  - Can we remove chunks of text even we get to vectorizer?\n",
    "- What are we doing with tf-idf values?\n",
    "  - Try to match the tf-idf values with queries (queries could be from user or keywords from catalog/metadata)\n",
    "- How often should the vector space be updated? For each new query or can we determine a standard set of features we expect for some time, and just project new items into that?"
   ]
  },
  {
   "cell_type": "code",
   "execution_count": 36,
   "metadata": {},
   "outputs": [],
   "source": [
    "import nltk\n",
    "import pandas as pd\n",
    "from sklearn.feature_extraction.text import TfidfVectorizer"
   ]
  },
  {
   "cell_type": "code",
   "execution_count": 39,
   "metadata": {},
   "outputs": [],
   "source": [
    "df = pd.read_csv(\"all-workshops-2021-02-04.csv\")"
   ]
  },
  {
   "cell_type": "code",
   "execution_count": 40,
   "metadata": {},
   "outputs": [
    {
     "data": {
      "text/html": "<div>\n<style scoped>\n    .dataframe tbody tr th:only-of-type {\n        vertical-align: middle;\n    }\n\n    .dataframe tbody tr th {\n        vertical-align: top;\n    }\n\n    .dataframe thead th {\n        text-align: right;\n    }\n</style>\n<table border=\"1\" class=\"dataframe\">\n  <thead>\n    <tr style=\"text-align: right;\">\n      <th></th>\n      <th>Unnamed: 0</th>\n      <th>title</th>\n      <th>nid</th>\n      <th>field_time_d8</th>\n      <th>body</th>\n      <th>field_registration_url</th>\n      <th>field_non_library_instructor</th>\n      <th>field_workshop_leads_export</th>\n      <th>field_workshop_series</th>\n      <th>field_workshop_user_activities</th>\n      <th>field_non_libraries_space_1</th>\n      <th>field_space</th>\n    </tr>\n  </thead>\n  <tbody>\n    <tr>\n      <th>0</th>\n      <td>0</td>\n      <td>Orientation: Digital Media Making in the Libra...</td>\n      <td>53062</td>\n      <td>02-04-2019 11:00AM to 02-04-2019 11:45AM</td>\n      <td>Excited to make videos and movies, record podc...</td>\n      <td>&lt;a href=\"https://reporter.ncsu.edu/link/instan...</td>\n      <td>NaN</td>\n      <td>[{'id': '504', 'url': 'https://www.lib.ncsu.ed...</td>\n      <td>Digital Media</td>\n      <td>NaN</td>\n      <td>NaN</td>\n      <td>&lt;a href=\"/spaces/digital-media-lab\" hreflang=\"...</td>\n    </tr>\n    <tr>\n      <th>1</th>\n      <td>1</td>\n      <td>MATLAByrinth Part 2: Getting Started, Part Two!</td>\n      <td>52895</td>\n      <td>02-04-2019 2:00PM to 02-04-2019 4:00PM</td>\n      <td>MATLAByrinth, is a series of four comprehensiv...</td>\n      <td>&lt;a href=\"https://reporter.ncsu.edu/link/instan...</td>\n      <td>\\nAmrutha Raghu, AmruthaRaghu.jpg\\n\\n</td>\n      <td>[]</td>\n      <td>NaN</td>\n      <td>NaN</td>\n      <td>NaN</td>\n      <td>&lt;a href=\"/spaces/teaching-and-visualization-la...</td>\n    </tr>\n    <tr>\n      <th>2</th>\n      <td>2</td>\n      <td>Orientation: Digital Media Making in the Libra...</td>\n      <td>53194</td>\n      <td>02-04-2019 4:30PM to 02-04-2019 5:00PM</td>\n      <td>Excited to make videos and movies, record podc...</td>\n      <td>&lt;a href=\"https://reporter.ncsu.edu/link/instan...</td>\n      <td>NaN</td>\n      <td>[]</td>\n      <td>Digital Media</td>\n      <td>NaN</td>\n      <td>NaN</td>\n      <td>&lt;a href=\"/spaces/4k-video-studio\" hreflang=\"un...</td>\n    </tr>\n    <tr>\n      <th>3</th>\n      <td>3</td>\n      <td>Orientation: Digital Media Making in the Libra...</td>\n      <td>53199</td>\n      <td>02-04-2019 4:30PM to 02-04-2019 5:00PM</td>\n      <td>Excited to make videos and movies, record podc...</td>\n      <td>&lt;a href=\"https://reporter.ncsu.edu/link/instan...</td>\n      <td>NaN</td>\n      <td>[]</td>\n      <td>Digital Media</td>\n      <td>NaN</td>\n      <td>NaN</td>\n      <td>&lt;a href=\"/spaces/digital-media-lab\" hreflang=\"...</td>\n    </tr>\n    <tr>\n      <th>4</th>\n      <td>4</td>\n      <td>Virtual Reality Studio Orientation</td>\n      <td>53134</td>\n      <td>02-04-2019 6:00PM to 02-04-2019 7:00PM</td>\n      <td>This orientation is required to access the D. ...</td>\n      <td>&lt;a href=\"https://reporter.ncsu.edu/link/instan...</td>\n      <td>\\nAnthony Chaanine\\n\\n</td>\n      <td>[]</td>\n      <td>Virtual and Augmented Reality</td>\n      <td>Virtual Reality &amp;amp; Augmented Reality, Virtu...</td>\n      <td>NaN</td>\n      <td>&lt;a href=\"/spaces/vr-studio\" hreflang=\"und\"&gt;VR ...</td>\n    </tr>\n  </tbody>\n</table>\n</div>",
      "text/plain": "   Unnamed: 0                                              title    nid  \\\n0           0  Orientation: Digital Media Making in the Libra...  53062   \n1           1    MATLAByrinth Part 2: Getting Started, Part Two!  52895   \n2           2  Orientation: Digital Media Making in the Libra...  53194   \n3           3  Orientation: Digital Media Making in the Libra...  53199   \n4           4                 Virtual Reality Studio Orientation  53134   \n\n                              field_time_d8  \\\n0  02-04-2019 11:00AM to 02-04-2019 11:45AM   \n1    02-04-2019 2:00PM to 02-04-2019 4:00PM   \n2    02-04-2019 4:30PM to 02-04-2019 5:00PM   \n3    02-04-2019 4:30PM to 02-04-2019 5:00PM   \n4    02-04-2019 6:00PM to 02-04-2019 7:00PM   \n\n                                                body  \\\n0  Excited to make videos and movies, record podc...   \n1  MATLAByrinth, is a series of four comprehensiv...   \n2  Excited to make videos and movies, record podc...   \n3  Excited to make videos and movies, record podc...   \n4  This orientation is required to access the D. ...   \n\n                              field_registration_url  \\\n0  <a href=\"https://reporter.ncsu.edu/link/instan...   \n1  <a href=\"https://reporter.ncsu.edu/link/instan...   \n2  <a href=\"https://reporter.ncsu.edu/link/instan...   \n3  <a href=\"https://reporter.ncsu.edu/link/instan...   \n4  <a href=\"https://reporter.ncsu.edu/link/instan...   \n\n            field_non_library_instructor  \\\n0                                    NaN   \n1  \\nAmrutha Raghu, AmruthaRaghu.jpg\\n\\n   \n2                                    NaN   \n3                                    NaN   \n4                 \\nAnthony Chaanine\\n\\n   \n\n                         field_workshop_leads_export  \\\n0  [{'id': '504', 'url': 'https://www.lib.ncsu.ed...   \n1                                                 []   \n2                                                 []   \n3                                                 []   \n4                                                 []   \n\n           field_workshop_series  \\\n0                  Digital Media   \n1                            NaN   \n2                  Digital Media   \n3                  Digital Media   \n4  Virtual and Augmented Reality   \n\n                      field_workshop_user_activities  \\\n0                                                NaN   \n1                                                NaN   \n2                                                NaN   \n3                                                NaN   \n4  Virtual Reality &amp; Augmented Reality, Virtu...   \n\n  field_non_libraries_space_1  \\\n0                         NaN   \n1                         NaN   \n2                         NaN   \n3                         NaN   \n4                         NaN   \n\n                                         field_space  \n0  <a href=\"/spaces/digital-media-lab\" hreflang=\"...  \n1  <a href=\"/spaces/teaching-and-visualization-la...  \n2  <a href=\"/spaces/4k-video-studio\" hreflang=\"un...  \n3  <a href=\"/spaces/digital-media-lab\" hreflang=\"...  \n4  <a href=\"/spaces/vr-studio\" hreflang=\"und\">VR ...  "
     },
     "execution_count": 40,
     "metadata": {},
     "output_type": "execute_result"
    }
   ],
   "source": [
    "df.head()"
   ]
  },
  {
   "cell_type": "code",
   "execution_count": 64,
   "metadata": {},
   "outputs": [],
   "source": [
    "def process_sent(sent):\n",
    "    tokens = [token.strip() for token in nltk.word_tokenize(sent) if token.isalpha()]\n",
    "    return \" \".join(tokens)"
   ]
  },
  {
   "cell_type": "code",
   "execution_count": 65,
   "metadata": {},
   "outputs": [],
   "source": [
    "def preprocess_text(text):\n",
    "    \"\"\"\n",
    "    Remove non-alpha characters from the text\n",
    "    - break into sentences\n",
    "    - tokenize at word level\n",
    "    - reconstitute sentence\n",
    "    - reconstitute text\n",
    "    \"\"\"\n",
    "    clean_sents = [process_sent(sent) for sent in nltk.sent_tokenize(text)]\n",
    "    return \". \".join(clean_sents) "
   ]
  },
  {
   "cell_type": "code",
   "execution_count": 66,
   "metadata": {},
   "outputs": [],
   "source": [
    "df[\"cleaned_body\"] = df[\"body\"].apply(preprocess_text)"
   ]
  },
  {
   "cell_type": "code",
   "execution_count": 67,
   "metadata": {},
   "outputs": [
    {
     "data": {
      "text/plain": "'Excited to make videos and movies record podcasts and music digitize records cassettes and VHS tapes learn graphic design or make an awesome poster or presentation. You can do all of this and more utilizing the tools spaces and experts in Library Media Spaces like the Digital Media Lab Studio and Music Booths at Hill and the Media Production Studios and Music Rooms at Hunt. In this orientation you see the wide range of media making resources and instruction services at the Libraries see the green screen in action make a recording and get to know the people who help make it easy for you to make media'"
     },
     "execution_count": 67,
     "metadata": {},
     "output_type": "execute_result"
    }
   ],
   "source": [
    "df[\"cleaned_body\"][0]"
   ]
  },
  {
   "cell_type": "code",
   "execution_count": 68,
   "metadata": {},
   "outputs": [],
   "source": [
    "corpus = df[\"cleaned_body\"].to_list()"
   ]
  },
  {
   "cell_type": "code",
   "execution_count": 69,
   "metadata": {},
   "outputs": [],
   "source": [
    "vectorizer = TfidfVectorizer(stop_words=\"english\", ngram_range=(1, 2))"
   ]
  },
  {
   "cell_type": "code",
   "execution_count": 70,
   "metadata": {},
   "outputs": [],
   "source": [
    "X = vectorizer.fit_transform(corpus)"
   ]
  },
  {
   "cell_type": "code",
   "execution_count": 71,
   "metadata": {},
   "outputs": [
    {
     "data": {
      "text/plain": "(1300, 14865)"
     },
     "execution_count": 71,
     "metadata": {},
     "output_type": "execute_result"
    }
   ],
   "source": [
    "X.shape"
   ]
  },
  {
   "cell_type": "code",
   "execution_count": 72,
   "metadata": {},
   "outputs": [],
   "source": [
    "tfidf_df = pd.DataFrame(X.toarray(), index=df[\"title\"], columns=vectorizer.get_feature_names())"
   ]
  },
  {
   "cell_type": "code",
   "execution_count": 73,
   "metadata": {},
   "outputs": [
    {
     "data": {
      "text/html": "<div>\n<style scoped>\n    .dataframe tbody tr th:only-of-type {\n        vertical-align: middle;\n    }\n\n    .dataframe tbody tr th {\n        vertical-align: top;\n    }\n\n    .dataframe thead th {\n        text-align: right;\n    }\n</style>\n<table border=\"1\" class=\"dataframe\">\n  <thead>\n    <tr style=\"text-align: right;\">\n      <th></th>\n      <th>abby</th>\n      <th>abby guillory</th>\n      <th>abilities</th>\n      <th>abilities impostor</th>\n      <th>abilities using</th>\n      <th>abilities workshop</th>\n      <th>ability</th>\n      <th>ability detect</th>\n      <th>ability join</th>\n      <th>ability solve</th>\n      <th>...</th>\n      <th>zoom kits</th>\n      <th>zoom link</th>\n      <th>zoom login</th>\n      <th>zoom meeting</th>\n      <th>zoom need</th>\n      <th>zoom situation</th>\n      <th>zoom submitted</th>\n      <th>zoom webconference</th>\n      <th>zoom webconferencing</th>\n      <th>zoom workshop</th>\n    </tr>\n    <tr>\n      <th>title</th>\n      <th></th>\n      <th></th>\n      <th></th>\n      <th></th>\n      <th></th>\n      <th></th>\n      <th></th>\n      <th></th>\n      <th></th>\n      <th></th>\n      <th></th>\n      <th></th>\n      <th></th>\n      <th></th>\n      <th></th>\n      <th></th>\n      <th></th>\n      <th></th>\n      <th></th>\n      <th></th>\n      <th></th>\n    </tr>\n  </thead>\n  <tbody>\n    <tr>\n      <th>Orientation: Digital Media Making in the Libraries</th>\n      <td>0.0</td>\n      <td>0.0</td>\n      <td>0.0</td>\n      <td>0.0</td>\n      <td>0.0</td>\n      <td>0.0</td>\n      <td>0.0</td>\n      <td>0.0</td>\n      <td>0.0</td>\n      <td>0.0</td>\n      <td>...</td>\n      <td>0.0</td>\n      <td>0.0</td>\n      <td>0.0</td>\n      <td>0.0</td>\n      <td>0.0</td>\n      <td>0.0</td>\n      <td>0.0</td>\n      <td>0.0</td>\n      <td>0.0</td>\n      <td>0.0</td>\n    </tr>\n    <tr>\n      <th>MATLAByrinth Part 2: Getting Started, Part Two!</th>\n      <td>0.0</td>\n      <td>0.0</td>\n      <td>0.0</td>\n      <td>0.0</td>\n      <td>0.0</td>\n      <td>0.0</td>\n      <td>0.0</td>\n      <td>0.0</td>\n      <td>0.0</td>\n      <td>0.0</td>\n      <td>...</td>\n      <td>0.0</td>\n      <td>0.0</td>\n      <td>0.0</td>\n      <td>0.0</td>\n      <td>0.0</td>\n      <td>0.0</td>\n      <td>0.0</td>\n      <td>0.0</td>\n      <td>0.0</td>\n      <td>0.0</td>\n    </tr>\n    <tr>\n      <th>Orientation: Digital Media Making in the Libraries</th>\n      <td>0.0</td>\n      <td>0.0</td>\n      <td>0.0</td>\n      <td>0.0</td>\n      <td>0.0</td>\n      <td>0.0</td>\n      <td>0.0</td>\n      <td>0.0</td>\n      <td>0.0</td>\n      <td>0.0</td>\n      <td>...</td>\n      <td>0.0</td>\n      <td>0.0</td>\n      <td>0.0</td>\n      <td>0.0</td>\n      <td>0.0</td>\n      <td>0.0</td>\n      <td>0.0</td>\n      <td>0.0</td>\n      <td>0.0</td>\n      <td>0.0</td>\n    </tr>\n    <tr>\n      <th>Orientation: Digital Media Making in the Libraries</th>\n      <td>0.0</td>\n      <td>0.0</td>\n      <td>0.0</td>\n      <td>0.0</td>\n      <td>0.0</td>\n      <td>0.0</td>\n      <td>0.0</td>\n      <td>0.0</td>\n      <td>0.0</td>\n      <td>0.0</td>\n      <td>...</td>\n      <td>0.0</td>\n      <td>0.0</td>\n      <td>0.0</td>\n      <td>0.0</td>\n      <td>0.0</td>\n      <td>0.0</td>\n      <td>0.0</td>\n      <td>0.0</td>\n      <td>0.0</td>\n      <td>0.0</td>\n    </tr>\n    <tr>\n      <th>Virtual Reality Studio Orientation</th>\n      <td>0.0</td>\n      <td>0.0</td>\n      <td>0.0</td>\n      <td>0.0</td>\n      <td>0.0</td>\n      <td>0.0</td>\n      <td>0.0</td>\n      <td>0.0</td>\n      <td>0.0</td>\n      <td>0.0</td>\n      <td>...</td>\n      <td>0.0</td>\n      <td>0.0</td>\n      <td>0.0</td>\n      <td>0.0</td>\n      <td>0.0</td>\n      <td>0.0</td>\n      <td>0.0</td>\n      <td>0.0</td>\n      <td>0.0</td>\n      <td>0.0</td>\n    </tr>\n  </tbody>\n</table>\n<p>5 rows × 14865 columns</p>\n</div>",
      "text/plain": "                                                    abby  abby guillory  \\\ntitle                                                                     \nOrientation: Digital Media Making in the Libraries   0.0            0.0   \nMATLAByrinth Part 2: Getting Started, Part Two!      0.0            0.0   \nOrientation: Digital Media Making in the Libraries   0.0            0.0   \nOrientation: Digital Media Making in the Libraries   0.0            0.0   \nVirtual Reality Studio Orientation                   0.0            0.0   \n\n                                                    abilities  \\\ntitle                                                           \nOrientation: Digital Media Making in the Libraries        0.0   \nMATLAByrinth Part 2: Getting Started, Part Two!           0.0   \nOrientation: Digital Media Making in the Libraries        0.0   \nOrientation: Digital Media Making in the Libraries        0.0   \nVirtual Reality Studio Orientation                        0.0   \n\n                                                    abilities impostor  \\\ntitle                                                                    \nOrientation: Digital Media Making in the Libraries                 0.0   \nMATLAByrinth Part 2: Getting Started, Part Two!                    0.0   \nOrientation: Digital Media Making in the Libraries                 0.0   \nOrientation: Digital Media Making in the Libraries                 0.0   \nVirtual Reality Studio Orientation                                 0.0   \n\n                                                    abilities using  \\\ntitle                                                                 \nOrientation: Digital Media Making in the Libraries              0.0   \nMATLAByrinth Part 2: Getting Started, Part Two!                 0.0   \nOrientation: Digital Media Making in the Libraries              0.0   \nOrientation: Digital Media Making in the Libraries              0.0   \nVirtual Reality Studio Orientation                              0.0   \n\n                                                    abilities workshop  \\\ntitle                                                                    \nOrientation: Digital Media Making in the Libraries                 0.0   \nMATLAByrinth Part 2: Getting Started, Part Two!                    0.0   \nOrientation: Digital Media Making in the Libraries                 0.0   \nOrientation: Digital Media Making in the Libraries                 0.0   \nVirtual Reality Studio Orientation                                 0.0   \n\n                                                    ability  ability detect  \\\ntitle                                                                         \nOrientation: Digital Media Making in the Libraries      0.0             0.0   \nMATLAByrinth Part 2: Getting Started, Part Two!         0.0             0.0   \nOrientation: Digital Media Making in the Libraries      0.0             0.0   \nOrientation: Digital Media Making in the Libraries      0.0             0.0   \nVirtual Reality Studio Orientation                      0.0             0.0   \n\n                                                    ability join  \\\ntitle                                                              \nOrientation: Digital Media Making in the Libraries           0.0   \nMATLAByrinth Part 2: Getting Started, Part Two!              0.0   \nOrientation: Digital Media Making in the Libraries           0.0   \nOrientation: Digital Media Making in the Libraries           0.0   \nVirtual Reality Studio Orientation                           0.0   \n\n                                                    ability solve  ...  \\\ntitle                                                              ...   \nOrientation: Digital Media Making in the Libraries            0.0  ...   \nMATLAByrinth Part 2: Getting Started, Part Two!               0.0  ...   \nOrientation: Digital Media Making in the Libraries            0.0  ...   \nOrientation: Digital Media Making in the Libraries            0.0  ...   \nVirtual Reality Studio Orientation                            0.0  ...   \n\n                                                    zoom kits  zoom link  \\\ntitle                                                                      \nOrientation: Digital Media Making in the Libraries        0.0        0.0   \nMATLAByrinth Part 2: Getting Started, Part Two!           0.0        0.0   \nOrientation: Digital Media Making in the Libraries        0.0        0.0   \nOrientation: Digital Media Making in the Libraries        0.0        0.0   \nVirtual Reality Studio Orientation                        0.0        0.0   \n\n                                                    zoom login  zoom meeting  \\\ntitle                                                                          \nOrientation: Digital Media Making in the Libraries         0.0           0.0   \nMATLAByrinth Part 2: Getting Started, Part Two!            0.0           0.0   \nOrientation: Digital Media Making in the Libraries         0.0           0.0   \nOrientation: Digital Media Making in the Libraries         0.0           0.0   \nVirtual Reality Studio Orientation                         0.0           0.0   \n\n                                                    zoom need  zoom situation  \\\ntitle                                                                           \nOrientation: Digital Media Making in the Libraries        0.0             0.0   \nMATLAByrinth Part 2: Getting Started, Part Two!           0.0             0.0   \nOrientation: Digital Media Making in the Libraries        0.0             0.0   \nOrientation: Digital Media Making in the Libraries        0.0             0.0   \nVirtual Reality Studio Orientation                        0.0             0.0   \n\n                                                    zoom submitted  \\\ntitle                                                                \nOrientation: Digital Media Making in the Libraries             0.0   \nMATLAByrinth Part 2: Getting Started, Part Two!                0.0   \nOrientation: Digital Media Making in the Libraries             0.0   \nOrientation: Digital Media Making in the Libraries             0.0   \nVirtual Reality Studio Orientation                             0.0   \n\n                                                    zoom webconference  \\\ntitle                                                                    \nOrientation: Digital Media Making in the Libraries                 0.0   \nMATLAByrinth Part 2: Getting Started, Part Two!                    0.0   \nOrientation: Digital Media Making in the Libraries                 0.0   \nOrientation: Digital Media Making in the Libraries                 0.0   \nVirtual Reality Studio Orientation                                 0.0   \n\n                                                    zoom webconferencing  \\\ntitle                                                                      \nOrientation: Digital Media Making in the Libraries                   0.0   \nMATLAByrinth Part 2: Getting Started, Part Two!                      0.0   \nOrientation: Digital Media Making in the Libraries                   0.0   \nOrientation: Digital Media Making in the Libraries                   0.0   \nVirtual Reality Studio Orientation                                   0.0   \n\n                                                    zoom workshop  \ntitle                                                              \nOrientation: Digital Media Making in the Libraries            0.0  \nMATLAByrinth Part 2: Getting Started, Part Two!               0.0  \nOrientation: Digital Media Making in the Libraries            0.0  \nOrientation: Digital Media Making in the Libraries            0.0  \nVirtual Reality Studio Orientation                            0.0  \n\n[5 rows x 14865 columns]"
     },
     "execution_count": 73,
     "metadata": {},
     "output_type": "execute_result"
    }
   ],
   "source": [
    "tfidf_df.head()"
   ]
  },
  {
   "cell_type": "code",
   "execution_count": 74,
   "metadata": {},
   "outputs": [],
   "source": [
    "tfidf_df.loc[\"document_frequency\"] = (tfidf_df > 0).sum()"
   ]
  },
  {
   "cell_type": "code",
   "execution_count": 75,
   "metadata": {},
   "outputs": [
    {
     "data": {
      "text/plain": "abby                    6.0\nabby guillory           6.0\nabilities               3.0\nabilities impostor      1.0\nabilities using         1.0\n                       ... \nzoom situation          1.0\nzoom submitted          1.0\nzoom webconference      1.0\nzoom webconferencing    1.0\nzoom workshop           1.0\nName: document_frequency, Length: 14865, dtype: float64"
     },
     "execution_count": 75,
     "metadata": {},
     "output_type": "execute_result"
    }
   ],
   "source": [
    "tfidf_df.loc[\"document_frequency\"]"
   ]
  },
  {
   "cell_type": "code",
   "execution_count": 76,
   "metadata": {},
   "outputs": [
    {
     "data": {
      "text/plain": "looping                  1.0\nmicrophones              1.0\nmichigan university      1.0\nmichigan                 1.0\nmic session              1.0\n                       ...  \nlibrary                580.0\norientation            638.0\nrequired               678.0\nlearn                  718.0\nhill                   769.0\nName: document_frequency, Length: 14865, dtype: float64"
     },
     "execution_count": 76,
     "metadata": {},
     "output_type": "execute_result"
    }
   ],
   "source": [
    "tfidf_df.loc[\"document_frequency\"].sort_values()"
   ]
  },
  {
   "cell_type": "code",
   "execution_count": 77,
   "metadata": {},
   "outputs": [],
   "source": [
    "tfidf_df = tfidf_df.drop(\"document_frequency\")"
   ]
  },
  {
   "cell_type": "code",
   "execution_count": 78,
   "metadata": {},
   "outputs": [
    {
     "data": {
      "text/html": "<div>\n<style scoped>\n    .dataframe tbody tr th:only-of-type {\n        vertical-align: middle;\n    }\n\n    .dataframe tbody tr th {\n        vertical-align: top;\n    }\n\n    .dataframe thead th {\n        text-align: right;\n    }\n</style>\n<table border=\"1\" class=\"dataframe\">\n  <thead>\n    <tr style=\"text-align: right;\">\n      <th></th>\n      <th>title</th>\n      <th>level_1</th>\n      <th>0</th>\n    </tr>\n  </thead>\n  <tbody>\n    <tr>\n      <th>0</th>\n      <td>Orientation: Digital Media Making in the Libra...</td>\n      <td>abby</td>\n      <td>0.0</td>\n    </tr>\n    <tr>\n      <th>1</th>\n      <td>Orientation: Digital Media Making in the Libra...</td>\n      <td>abby guillory</td>\n      <td>0.0</td>\n    </tr>\n    <tr>\n      <th>2</th>\n      <td>Orientation: Digital Media Making in the Libra...</td>\n      <td>abilities</td>\n      <td>0.0</td>\n    </tr>\n    <tr>\n      <th>3</th>\n      <td>Orientation: Digital Media Making in the Libra...</td>\n      <td>abilities impostor</td>\n      <td>0.0</td>\n    </tr>\n    <tr>\n      <th>4</th>\n      <td>Orientation: Digital Media Making in the Libra...</td>\n      <td>abilities using</td>\n      <td>0.0</td>\n    </tr>\n    <tr>\n      <th>...</th>\n      <td>...</td>\n      <td>...</td>\n      <td>...</td>\n    </tr>\n    <tr>\n      <th>19324495</th>\n      <td>IRB Basics: eIRB Application Workshop</td>\n      <td>zoom situation</td>\n      <td>0.0</td>\n    </tr>\n    <tr>\n      <th>19324496</th>\n      <td>IRB Basics: eIRB Application Workshop</td>\n      <td>zoom submitted</td>\n      <td>0.0</td>\n    </tr>\n    <tr>\n      <th>19324497</th>\n      <td>IRB Basics: eIRB Application Workshop</td>\n      <td>zoom webconference</td>\n      <td>0.0</td>\n    </tr>\n    <tr>\n      <th>19324498</th>\n      <td>IRB Basics: eIRB Application Workshop</td>\n      <td>zoom webconferencing</td>\n      <td>0.0</td>\n    </tr>\n    <tr>\n      <th>19324499</th>\n      <td>IRB Basics: eIRB Application Workshop</td>\n      <td>zoom workshop</td>\n      <td>0.0</td>\n    </tr>\n  </tbody>\n</table>\n<p>19324500 rows × 3 columns</p>\n</div>",
      "text/plain": "                                                      title  \\\n0         Orientation: Digital Media Making in the Libra...   \n1         Orientation: Digital Media Making in the Libra...   \n2         Orientation: Digital Media Making in the Libra...   \n3         Orientation: Digital Media Making in the Libra...   \n4         Orientation: Digital Media Making in the Libra...   \n...                                                     ...   \n19324495              IRB Basics: eIRB Application Workshop   \n19324496              IRB Basics: eIRB Application Workshop   \n19324497              IRB Basics: eIRB Application Workshop   \n19324498              IRB Basics: eIRB Application Workshop   \n19324499              IRB Basics: eIRB Application Workshop   \n\n                       level_1    0  \n0                         abby  0.0  \n1                abby guillory  0.0  \n2                    abilities  0.0  \n3           abilities impostor  0.0  \n4              abilities using  0.0  \n...                        ...  ...  \n19324495        zoom situation  0.0  \n19324496        zoom submitted  0.0  \n19324497    zoom webconference  0.0  \n19324498  zoom webconferencing  0.0  \n19324499         zoom workshop  0.0  \n\n[19324500 rows x 3 columns]"
     },
     "execution_count": 78,
     "metadata": {},
     "output_type": "execute_result"
    }
   ],
   "source": [
    "tfidf_df.stack().reset_index()"
   ]
  },
  {
   "cell_type": "code",
   "execution_count": 79,
   "metadata": {},
   "outputs": [],
   "source": [
    "tfidf_df_stacked = tfidf_df.stack().reset_index() "
   ]
  },
  {
   "cell_type": "code",
   "execution_count": 80,
   "metadata": {},
   "outputs": [
    {
     "data": {
      "text/plain": "Index(['title', 'level_1', 0], dtype='object')"
     },
     "execution_count": 80,
     "metadata": {},
     "output_type": "execute_result"
    }
   ],
   "source": [
    "tfidf_df_stacked.columns"
   ]
  },
  {
   "cell_type": "code",
   "execution_count": 81,
   "metadata": {},
   "outputs": [
    {
     "data": {
      "text/html": "<div>\n<style scoped>\n    .dataframe tbody tr th:only-of-type {\n        vertical-align: middle;\n    }\n\n    .dataframe tbody tr th {\n        vertical-align: top;\n    }\n\n    .dataframe thead th {\n        text-align: right;\n    }\n</style>\n<table border=\"1\" class=\"dataframe\">\n  <thead>\n    <tr style=\"text-align: right;\">\n      <th></th>\n      <th>title</th>\n      <th>term</th>\n      <th>tfidf</th>\n    </tr>\n  </thead>\n  <tbody>\n    <tr>\n      <th>0</th>\n      <td>Orientation: Digital Media Making in the Libra...</td>\n      <td>abby</td>\n      <td>0.0</td>\n    </tr>\n    <tr>\n      <th>1</th>\n      <td>Orientation: Digital Media Making in the Libra...</td>\n      <td>abby guillory</td>\n      <td>0.0</td>\n    </tr>\n    <tr>\n      <th>2</th>\n      <td>Orientation: Digital Media Making in the Libra...</td>\n      <td>abilities</td>\n      <td>0.0</td>\n    </tr>\n    <tr>\n      <th>3</th>\n      <td>Orientation: Digital Media Making in the Libra...</td>\n      <td>abilities impostor</td>\n      <td>0.0</td>\n    </tr>\n    <tr>\n      <th>4</th>\n      <td>Orientation: Digital Media Making in the Libra...</td>\n      <td>abilities using</td>\n      <td>0.0</td>\n    </tr>\n  </tbody>\n</table>\n</div>",
      "text/plain": "                                               title                term  \\\n0  Orientation: Digital Media Making in the Libra...                abby   \n1  Orientation: Digital Media Making in the Libra...       abby guillory   \n2  Orientation: Digital Media Making in the Libra...           abilities   \n3  Orientation: Digital Media Making in the Libra...  abilities impostor   \n4  Orientation: Digital Media Making in the Libra...     abilities using   \n\n   tfidf  \n0    0.0  \n1    0.0  \n2    0.0  \n3    0.0  \n4    0.0  "
     },
     "execution_count": 81,
     "metadata": {},
     "output_type": "execute_result"
    }
   ],
   "source": [
    "tfidf_df_stacked.columns = [\"title\", \"term\", \"tfidf\"]\n",
    "tfidf_df_stacked.head()"
   ]
  },
  {
   "cell_type": "code",
   "execution_count": 82,
   "metadata": {},
   "outputs": [
    {
     "data": {
      "text/html": "<div>\n<style scoped>\n    .dataframe tbody tr th:only-of-type {\n        vertical-align: middle;\n    }\n\n    .dataframe tbody tr th {\n        vertical-align: top;\n    }\n\n    .dataframe thead th {\n        text-align: right;\n    }\n</style>\n<table border=\"1\" class=\"dataframe\">\n  <thead>\n    <tr style=\"text-align: right;\">\n      <th></th>\n      <th>title</th>\n      <th>term</th>\n      <th>tfidf</th>\n    </tr>\n  </thead>\n  <tbody>\n    <tr>\n      <th>14882811</th>\n      <td>Introduction to Data Management Plans for Res...</td>\n      <td>data management</td>\n      <td>0.335433</td>\n    </tr>\n    <tr>\n      <th>14887476</th>\n      <td>Introduction to Data Management Plans for Res...</td>\n      <td>management</td>\n      <td>0.273128</td>\n    </tr>\n    <tr>\n      <th>14882750</th>\n      <td>Introduction to Data Management Plans for Res...</td>\n      <td>data</td>\n      <td>0.244584</td>\n    </tr>\n    <tr>\n      <th>14894152</th>\n      <td>Introduction to Data Management Plans for Res...</td>\n      <td>water</td>\n      <td>0.180594</td>\n    </tr>\n    <tr>\n      <th>14887485</th>\n      <td>Introduction to Data Management Plans for Res...</td>\n      <td>management plan</td>\n      <td>0.175698</td>\n    </tr>\n    <tr>\n      <th>...</th>\n      <td>...</td>\n      <td>...</td>\n      <td>...</td>\n    </tr>\n    <tr>\n      <th>5436158</th>\n      <td>You buy a pair of shoes online, you get an adv...</td>\n      <td>recommendation</td>\n      <td>0.126235</td>\n    </tr>\n    <tr>\n      <th>5436136</th>\n      <td>You buy a pair of shoes online, you get an adv...</td>\n      <td>recent</td>\n      <td>0.118691</td>\n    </tr>\n    <tr>\n      <th>5439537</th>\n      <td>You buy a pair of shoes online, you get an adv...</td>\n      <td>user</td>\n      <td>0.083393</td>\n    </tr>\n    <tr>\n      <th>5435929</th>\n      <td>You buy a pair of shoes online, you get an adv...</td>\n      <td>python</td>\n      <td>0.078872</td>\n    </tr>\n    <tr>\n      <th>5425971</th>\n      <td>You buy a pair of shoes online, you get an adv...</td>\n      <td>advertising</td>\n      <td>0.069566</td>\n    </tr>\n  </tbody>\n</table>\n<p>2640 rows × 3 columns</p>\n</div>",
      "text/plain": "                                                      title             term  \\\n14882811   Introduction to Data Management Plans for Res...  data management   \n14887476   Introduction to Data Management Plans for Res...       management   \n14882750   Introduction to Data Management Plans for Res...             data   \n14894152   Introduction to Data Management Plans for Res...            water   \n14887485   Introduction to Data Management Plans for Res...  management plan   \n...                                                     ...              ...   \n5436158   You buy a pair of shoes online, you get an adv...   recommendation   \n5436136   You buy a pair of shoes online, you get an adv...           recent   \n5439537   You buy a pair of shoes online, you get an adv...             user   \n5435929   You buy a pair of shoes online, you get an adv...           python   \n5425971   You buy a pair of shoes online, you get an adv...      advertising   \n\n             tfidf  \n14882811  0.335433  \n14887476  0.273128  \n14882750  0.244584  \n14894152  0.180594  \n14887485  0.175698  \n...            ...  \n5436158   0.126235  \n5436136   0.118691  \n5439537   0.083393  \n5435929   0.078872  \n5425971   0.069566  \n\n[2640 rows x 3 columns]"
     },
     "execution_count": 82,
     "metadata": {},
     "output_type": "execute_result"
    }
   ],
   "source": [
    "tfidf_df_stacked.sort_values(by=['title', 'tfidf'], ascending=[True, False]).groupby([\"title\"]).head(10)"
   ]
  },
  {
   "cell_type": "code",
   "execution_count": 83,
   "metadata": {},
   "outputs": [],
   "source": [
    "top_tfidf = tfidf_df_stacked.sort_values(by=['title', 'tfidf'], ascending=[True, False]).groupby([\"title\"]).head(10)"
   ]
  },
  {
   "cell_type": "code",
   "execution_count": 84,
   "metadata": {},
   "outputs": [],
   "source": [
    "top_tfidf.to_csv(\"workshops_tfidf.csv\")"
   ]
  },
  {
   "cell_type": "code",
   "execution_count": 85,
   "metadata": {},
   "outputs": [
    {
     "data": {
      "text/html": "<div>\n<style scoped>\n    .dataframe tbody tr th:only-of-type {\n        vertical-align: middle;\n    }\n\n    .dataframe tbody tr th {\n        vertical-align: top;\n    }\n\n    .dataframe thead th {\n        text-align: right;\n    }\n</style>\n<table border=\"1\" class=\"dataframe\">\n  <thead>\n    <tr style=\"text-align: right;\">\n      <th></th>\n      <th>title</th>\n      <th>term</th>\n      <th>tfidf</th>\n    </tr>\n  </thead>\n  <tbody>\n    <tr>\n      <th>248044</th>\n      <td>Data Cleaning with Python</td>\n      <td>python</td>\n      <td>0.214827</td>\n    </tr>\n    <tr>\n      <th>1511569</th>\n      <td>Data Cleaning with Python</td>\n      <td>python</td>\n      <td>0.214827</td>\n    </tr>\n    <tr>\n      <th>246740</th>\n      <td>Data Cleaning with Python</td>\n      <td>package python</td>\n      <td>0.179204</td>\n    </tr>\n    <tr>\n      <th>16257649</th>\n      <td>Data Manipulation with Python</td>\n      <td>python</td>\n      <td>0.170142</td>\n    </tr>\n    <tr>\n      <th>16346839</th>\n      <td>Data Visualization with Python</td>\n      <td>python</td>\n      <td>0.169086</td>\n    </tr>\n    <tr>\n      <th>16376569</th>\n      <td>Data Visualization with Python</td>\n      <td>python</td>\n      <td>0.169086</td>\n    </tr>\n    <tr>\n      <th>17506309</th>\n      <td>Data Visualization with Python</td>\n      <td>python</td>\n      <td>0.169086</td>\n    </tr>\n    <tr>\n      <th>6194044</th>\n      <td>Introduction to Computer Vision and Image Proc...</td>\n      <td>python</td>\n      <td>0.213199</td>\n    </tr>\n    <tr>\n      <th>16213054</th>\n      <td>Introduction to Programming with Python</td>\n      <td>python</td>\n      <td>0.159838</td>\n    </tr>\n    <tr>\n      <th>17164414</th>\n      <td>Introduction to Programming with Python</td>\n      <td>python</td>\n      <td>0.159838</td>\n    </tr>\n    <tr>\n      <th>16465759</th>\n      <td>Text Analysis with Python</td>\n      <td>python</td>\n      <td>0.144685</td>\n    </tr>\n    <tr>\n      <th>17595499</th>\n      <td>Webscraping with Python</td>\n      <td>python</td>\n      <td>0.143551</td>\n    </tr>\n    <tr>\n      <th>5435929</th>\n      <td>You buy a pair of shoes online, you get an adv...</td>\n      <td>python</td>\n      <td>0.078872</td>\n    </tr>\n  </tbody>\n</table>\n</div>",
      "text/plain": "                                                      title            term  \\\n248044                            Data Cleaning with Python          python   \n1511569                           Data Cleaning with Python          python   \n246740                            Data Cleaning with Python  package python   \n16257649                      Data Manipulation with Python          python   \n16346839                     Data Visualization with Python          python   \n16376569                     Data Visualization with Python          python   \n17506309                     Data Visualization with Python          python   \n6194044   Introduction to Computer Vision and Image Proc...          python   \n16213054            Introduction to Programming with Python          python   \n17164414            Introduction to Programming with Python          python   \n16465759                          Text Analysis with Python          python   \n17595499                            Webscraping with Python          python   \n5435929   You buy a pair of shoes online, you get an adv...          python   \n\n             tfidf  \n248044    0.214827  \n1511569   0.214827  \n246740    0.179204  \n16257649  0.170142  \n16346839  0.169086  \n16376569  0.169086  \n17506309  0.169086  \n6194044   0.213199  \n16213054  0.159838  \n17164414  0.159838  \n16465759  0.144685  \n17595499  0.143551  \n5435929   0.078872  "
     },
     "execution_count": 85,
     "metadata": {},
     "output_type": "execute_result"
    }
   ],
   "source": [
    "top_tfidf[top_tfidf[\"term\"].str.contains(\"python\")]"
   ]
  },
  {
   "cell_type": "code",
   "execution_count": 86,
   "metadata": {},
   "outputs": [
    {
     "data": {
      "text/html": "<div>\n<style scoped>\n    .dataframe tbody tr th:only-of-type {\n        vertical-align: middle;\n    }\n\n    .dataframe tbody tr th {\n        vertical-align: top;\n    }\n\n    .dataframe thead th {\n        text-align: right;\n    }\n</style>\n<table border=\"1\" class=\"dataframe\">\n  <thead>\n    <tr style=\"text-align: right;\">\n      <th></th>\n      <th>title</th>\n      <th>term</th>\n      <th>tfidf</th>\n    </tr>\n  </thead>\n  <tbody>\n    <tr>\n      <th>2261352</th>\n      <td>Beginning R</td>\n      <td>cleaning visualization</td>\n      <td>0.171954</td>\n    </tr>\n    <tr>\n      <th>6688538</th>\n      <td>Data Visualization with R</td>\n      <td>visualizations</td>\n      <td>0.211012</td>\n    </tr>\n    <tr>\n      <th>9483158</th>\n      <td>Data Visualization with R</td>\n      <td>visualizations</td>\n      <td>0.211012</td>\n    </tr>\n    <tr>\n      <th>12143993</th>\n      <td>Data Visualization with R</td>\n      <td>visualizations</td>\n      <td>0.211012</td>\n    </tr>\n    <tr>\n      <th>15429158</th>\n      <td>Data Visualization with R</td>\n      <td>visualizations</td>\n      <td>0.211012</td>\n    </tr>\n    <tr>\n      <th>415488</th>\n      <td>Elements of Visualization Design</td>\n      <td>visualization</td>\n      <td>0.229342</td>\n    </tr>\n    <tr>\n      <th>8992593</th>\n      <td>Elements of Visualization Design</td>\n      <td>visualization</td>\n      <td>0.229342</td>\n    </tr>\n    <tr>\n      <th>11014233</th>\n      <td>Elements of Visualization Design</td>\n      <td>visualization</td>\n      <td>0.229342</td>\n    </tr>\n    <tr>\n      <th>14507508</th>\n      <td>Elements of Visualization Design</td>\n      <td>visualization</td>\n      <td>0.229342</td>\n    </tr>\n    <tr>\n      <th>18119703</th>\n      <td>Elements of Visualization Design</td>\n      <td>visualization</td>\n      <td>0.229342</td>\n    </tr>\n    <tr>\n      <th>1768203</th>\n      <td>Graphing in Excel</td>\n      <td>visualization</td>\n      <td>0.180688</td>\n    </tr>\n    <tr>\n      <th>1757082</th>\n      <td>Graphing in Excel</td>\n      <td>data visualization</td>\n      <td>0.152104</td>\n    </tr>\n    <tr>\n      <th>1754310</th>\n      <td>Graphing in Excel</td>\n      <td>advanced visualization</td>\n      <td>0.094501</td>\n    </tr>\n    <tr>\n      <th>14095032</th>\n      <td>Introduction to Data Analysis &amp;amp; Visualizat...</td>\n      <td>data visualization</td>\n      <td>0.081135</td>\n    </tr>\n    <tr>\n      <th>10077738</th>\n      <td>Introduction to Graphing in Excel</td>\n      <td>visualization</td>\n      <td>0.180688</td>\n    </tr>\n    <tr>\n      <th>11564238</th>\n      <td>Introduction to Graphing in Excel</td>\n      <td>visualization</td>\n      <td>0.180688</td>\n    </tr>\n    <tr>\n      <th>14685888</th>\n      <td>Introduction to Graphing in Excel</td>\n      <td>visualization</td>\n      <td>0.180688</td>\n    </tr>\n    <tr>\n      <th>1164617</th>\n      <td>Visualizing Sound with Code</td>\n      <td>generative visualizations</td>\n      <td>0.158256</td>\n    </tr>\n  </tbody>\n</table>\n</div>",
      "text/plain": "                                                      title  \\\n2261352                                         Beginning R   \n6688538                           Data Visualization with R   \n9483158                           Data Visualization with R   \n12143993                          Data Visualization with R   \n15429158                          Data Visualization with R   \n415488                     Elements of Visualization Design   \n8992593                    Elements of Visualization Design   \n11014233                   Elements of Visualization Design   \n14507508                   Elements of Visualization Design   \n18119703                   Elements of Visualization Design   \n1768203                                   Graphing in Excel   \n1757082                                   Graphing in Excel   \n1754310                                   Graphing in Excel   \n14095032  Introduction to Data Analysis &amp; Visualizat...   \n10077738                  Introduction to Graphing in Excel   \n11564238                  Introduction to Graphing in Excel   \n14685888                  Introduction to Graphing in Excel   \n1164617                         Visualizing Sound with Code   \n\n                               term     tfidf  \n2261352      cleaning visualization  0.171954  \n6688538              visualizations  0.211012  \n9483158              visualizations  0.211012  \n12143993             visualizations  0.211012  \n15429158             visualizations  0.211012  \n415488                visualization  0.229342  \n8992593               visualization  0.229342  \n11014233              visualization  0.229342  \n14507508              visualization  0.229342  \n18119703              visualization  0.229342  \n1768203               visualization  0.180688  \n1757082          data visualization  0.152104  \n1754310      advanced visualization  0.094501  \n14095032         data visualization  0.081135  \n10077738              visualization  0.180688  \n11564238              visualization  0.180688  \n14685888              visualization  0.180688  \n1164617   generative visualizations  0.158256  "
     },
     "execution_count": 86,
     "metadata": {},
     "output_type": "execute_result"
    }
   ],
   "source": [
    "top_tfidf[top_tfidf[\"term\"].str.contains(\"visualization\")]"
   ]
  },
  {
   "cell_type": "code",
   "execution_count": 87,
   "metadata": {},
   "outputs": [
    {
     "data": {
      "text/html": "<div>\n<style scoped>\n    .dataframe tbody tr th:only-of-type {\n        vertical-align: middle;\n    }\n\n    .dataframe tbody tr th {\n        vertical-align: top;\n    }\n\n    .dataframe thead th {\n        text-align: right;\n    }\n</style>\n<table border=\"1\" class=\"dataframe\">\n  <thead>\n    <tr style=\"text-align: right;\">\n      <th></th>\n      <th>title</th>\n      <th>term</th>\n      <th>tfidf</th>\n    </tr>\n  </thead>\n  <tbody>\n    <tr>\n      <th>248044</th>\n      <td>Data Cleaning with Python</td>\n      <td>python</td>\n      <td>0.214827</td>\n    </tr>\n    <tr>\n      <th>1511569</th>\n      <td>Data Cleaning with Python</td>\n      <td>python</td>\n      <td>0.214827</td>\n    </tr>\n    <tr>\n      <th>239214</th>\n      <td>Data Cleaning with Python</td>\n      <td>bring</td>\n      <td>0.196652</td>\n    </tr>\n    <tr>\n      <th>1502739</th>\n      <td>Data Cleaning with Python</td>\n      <td>bring</td>\n      <td>0.196652</td>\n    </tr>\n    <tr>\n      <th>239571</th>\n      <td>Data Cleaning with Python</td>\n      <td>check library</td>\n      <td>0.179204</td>\n    </tr>\n    <tr>\n      <th>...</th>\n      <td>...</td>\n      <td>...</td>\n      <td>...</td>\n    </tr>\n    <tr>\n      <th>17589956</th>\n      <td>Webscraping with Python</td>\n      <td>file ll</td>\n      <td>0.126612</td>\n    </tr>\n    <tr>\n      <th>17591387</th>\n      <td>Webscraping with Python</td>\n      <td>information page</td>\n      <td>0.126612</td>\n    </tr>\n    <tr>\n      <th>17591400</th>\n      <td>Webscraping with Python</td>\n      <td>information structured</td>\n      <td>0.126612</td>\n    </tr>\n    <tr>\n      <th>17591808</th>\n      <td>Webscraping with Python</td>\n      <td>involved webscraping</td>\n      <td>0.126612</td>\n    </tr>\n    <tr>\n      <th>17591850</th>\n      <td>Webscraping with Python</td>\n      <td>issue involved</td>\n      <td>0.126612</td>\n    </tr>\n  </tbody>\n</table>\n<p>140 rows × 3 columns</p>\n</div>",
      "text/plain": "                              title                    term     tfidf\n248044    Data Cleaning with Python                  python  0.214827\n1511569   Data Cleaning with Python                  python  0.214827\n239214    Data Cleaning with Python                   bring  0.196652\n1502739   Data Cleaning with Python                   bring  0.196652\n239571    Data Cleaning with Python           check library  0.179204\n...                             ...                     ...       ...\n17589956    Webscraping with Python                 file ll  0.126612\n17591387    Webscraping with Python        information page  0.126612\n17591400    Webscraping with Python  information structured  0.126612\n17591808    Webscraping with Python    involved webscraping  0.126612\n17591850    Webscraping with Python          issue involved  0.126612\n\n[140 rows x 3 columns]"
     },
     "execution_count": 87,
     "metadata": {},
     "output_type": "execute_result"
    }
   ],
   "source": [
    "# Notice that titles are still case sensitive\n",
    "top_tfidf[top_tfidf[\"title\"].str.contains(\"Python\")]"
   ]
  },
  {
   "cell_type": "code",
   "execution_count": null,
   "metadata": {},
   "outputs": [],
   "source": []
  }
 ],
 "metadata": {
  "kernelspec": {
   "display_name": "Python 3.9.0 64-bit ('nlp-ad-uIU5ZzLQ-py3.9': poetry)",
   "name": "python390jvsc74a57bd0b924a695dd7018e0cc56be393e59e6798edfe787e0d1ea0063c280eef3552b89"
  },
  "language_info": {
   "codemirror_mode": {
    "name": "ipython",
    "version": 3
   },
   "file_extension": ".py",
   "mimetype": "text/x-python",
   "name": "python",
   "nbconvert_exporter": "python",
   "pygments_lexer": "ipython3",
   "version": "3.9.0"
  },
  "orig_nbformat": 2
 },
 "nbformat": 4,
 "nbformat_minor": 2
}